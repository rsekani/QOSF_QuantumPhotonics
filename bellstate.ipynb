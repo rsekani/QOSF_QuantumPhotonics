{
 "cells": [
  {
   "cell_type": "code",
   "execution_count": 1,
   "id": "125d3530-3ff7-42cb-8e09-4fbbe60972c0",
   "metadata": {},
   "outputs": [],
   "source": [
    "import perceval as pcvl\n",
    "import sympy as sp\n",
    "import numpy as np"
   ]
  },
  {
   "cell_type": "code",
   "execution_count": 2,
   "id": "f49d4f29-9266-46c4-b058-19abd35b9d2d",
   "metadata": {},
   "outputs": [
    {
     "data": {
      "image/svg+xml": [
       "<?xml version=\"1.0\" encoding=\"UTF-8\"?>\n",
       "<svg xmlns=\"http://www.w3.org/2000/svg\" xmlns:xlink=\"http://www.w3.org/1999/xlink\"\n",
       "     width=\"257.5\" height=\"281.25\" viewBox=\"-28.0 0 206.0 225.0\">\n",
       "<defs>\n",
       "</defs>\n",
       "<path d=\"M10,25 L25,25\" stroke-width=\"3\" stroke=\"darkred\" stroke-linejoin=\"miter\" fill=\"none\" />\n",
       "<path d=\"M10,75 L25,75\" stroke-width=\"3\" stroke=\"darkred\" stroke-linejoin=\"miter\" fill=\"none\" />\n",
       "<path d=\"M10,125 L25,125\" stroke-width=\"3\" stroke=\"darkred\" stroke-linejoin=\"miter\" fill=\"none\" />\n",
       "<path d=\"M10,175 L25,175\" stroke-width=\"3\" stroke=\"darkred\" stroke-linejoin=\"miter\" fill=\"none\" />\n",
       "<path d=\"M25,25 L53,25 L72,44\" stroke=\"darkred\" stroke-width=\"3\" fill=\"none\" />\n",
       "<path d=\"M78,44 L97,25 L125,25\" stroke=\"darkred\" stroke-width=\"3\" fill=\"none\" />\n",
       "<path d=\"M25,75 L53,75 L72,56\" stroke=\"darkred\" stroke-width=\"3\" fill=\"none\" />\n",
       "<path d=\"M78,56 L97,75 L125,75\" stroke=\"darkred\" stroke-width=\"3\" fill=\"none\" />\n",
       "<path d=\"M50,43 L100,43 L100,57 L50,57 Z\" stroke=\"black\" fill=\"black\" stroke-linejoin=\"miter\" />\n",
       "<text x=\"75\" y=\"85\" font-size=\"7\" text-anchor=\"middle\"></text>\n",
       "<text x=\"75\" y=\"26\" font-size=\"7\" text-anchor=\"middle\"></text>\n",
       "<path d=\"M50,43 L100,43 L100,47 L50,47 Z\" stroke=\"black\" fill=\"lightgray\" stroke-linejoin=\"miter\" />\n",
       "<path d=\"M93,50 L103,50 L103,60 L93,60 Z\" stroke=\"black\" fill=\"aquamarine\" stroke-linejoin=\"miter\" />\n",
       "<text x=\"98\" y=\"57\" font-size=\"6\" text-anchor=\"middle\">H</text>\n",
       "<path d=\"M25,125 L125,125\" stroke=\"darkred\" stroke-width=\"3\" fill=\"none\" />\n",
       "<path d=\"M25,175 L125,175\" stroke=\"darkred\" stroke-width=\"3\" fill=\"none\" />\n",
       "<path d=\"M125,25 L140,25\" stroke-width=\"3\" stroke=\"darkred\" stroke-linejoin=\"miter\" fill=\"none\" />\n",
       "<path d=\"M125,75 L140,75\" stroke-width=\"3\" stroke=\"darkred\" stroke-linejoin=\"miter\" fill=\"none\" />\n",
       "<path d=\"M125,125 L140,125\" stroke-width=\"3\" stroke=\"darkred\" stroke-linejoin=\"miter\" fill=\"none\" />\n",
       "<path d=\"M125,175 L140,175\" stroke-width=\"3\" stroke=\"darkred\" stroke-linejoin=\"miter\" fill=\"none\" />\n",
       "<text x=\"150\" y=\"28\" font-size=\"6\" text-anchor=\"end\">0</text>\n",
       "<text x=\"150\" y=\"78\" font-size=\"6\" text-anchor=\"end\">1</text>\n",
       "<text x=\"150\" y=\"128\" font-size=\"6\" text-anchor=\"end\">2</text>\n",
       "<text x=\"150\" y=\"178\" font-size=\"6\" text-anchor=\"end\">3</text>\n",
       "<text x=\"0\" y=\"28\" font-size=\"6\" text-anchor=\"start\">0</text>\n",
       "<text x=\"0\" y=\"78\" font-size=\"6\" text-anchor=\"start\">1</text>\n",
       "<text x=\"0\" y=\"128\" font-size=\"6\" text-anchor=\"start\">2</text>\n",
       "<text x=\"0\" y=\"178\" font-size=\"6\" text-anchor=\"start\">3</text>\n",
       "</svg>"
      ],
      "text/plain": [
       "<drawsvg.drawing.Drawing at 0x7fd74d80e940>"
      ]
     },
     "execution_count": 2,
     "metadata": {},
     "output_type": "execute_result"
    }
   ],
   "source": [
    "# Hadamard Gate\n",
    "my_circuit2 = pcvl.Circuit(4)  # Creates circuit with 2 spatial modes\n",
    "R = 0\n",
    "my_circuit2.add((0,1), pcvl.BS.H())\n",
    "my_circuit2.describe()\n",
    "pcvl.pdisplay(my_circuit2)"
   ]
  },
  {
   "cell_type": "code",
   "execution_count": 3,
   "id": "5b98d819-20b4-4c90-862c-7da74336b6c6",
   "metadata": {},
   "outputs": [
    {
     "data": {
      "text/html": [
       "<table>\n",
       "<thead>\n",
       "<tr><th style=\"text-align: right;\">  </th><th>00  </th><th>01  </th><th>10  </th><th>11  </th></tr>\n",
       "</thead>\n",
       "<tbody>\n",
       "<tr><td style=\"text-align: right;\">00</td><td>1/2 </td><td>0   </td><td>1/2 </td><td>0   </td></tr>\n",
       "<tr><td style=\"text-align: right;\">01</td><td>0   </td><td>1/2 </td><td>0   </td><td>1/2 </td></tr>\n",
       "<tr><td style=\"text-align: right;\">10</td><td>1/2 </td><td>0   </td><td>1/2 </td><td>0   </td></tr>\n",
       "<tr><td style=\"text-align: right;\">11</td><td>0   </td><td>1/2 </td><td>0   </td><td>1/2 </td></tr>\n",
       "</tbody>\n",
       "</table>"
      ],
      "text/plain": [
       "<IPython.core.display.HTML object>"
      ]
     },
     "metadata": {},
     "output_type": "display_data"
    }
   ],
   "source": [
    "p = pcvl.Processor(\"Naive\", my_circuit2)\n",
    "states = {\n",
    "    pcvl.BasicState([1, 0, 1, 0]): \"00\",\n",
    "    pcvl.BasicState([1, 0, 0, 1]): \"01\",\n",
    "    pcvl.BasicState([0, 1, 1, 0]): \"10\",\n",
    "    pcvl.BasicState([0, 1, 0, 1]): \"11\",\n",
    "}\n",
    "\n",
    "ca = pcvl.algorithm.Analyzer(p, states)\n",
    "ca.compute(expected={\"00\": \"00\", \"01\": \"01\",\"10\": \"10\", \"11\": \"11\"})\n",
    "pcvl.pdisplay(ca)"
   ]
  },
  {
   "cell_type": "code",
   "execution_count": 4,
   "id": "32184a56-d40e-4fcf-8482-7a268f4e6fc8",
   "metadata": {},
   "outputs": [
    {
     "data": {
      "image/svg+xml": [
       "<?xml version=\"1.0\" encoding=\"UTF-8\"?>\n",
       "<svg xmlns=\"http://www.w3.org/2000/svg\" xmlns:xlink=\"http://www.w3.org/1999/xlink\"\n",
       "     width=\"519.375\" height=\"406.25\" viewBox=\"-37.0 0 415.5 325.0\">\n",
       "<defs>\n",
       "</defs>\n",
       "<path d=\"M10,25 L25,25\" stroke-width=\"3\" stroke=\"darkred\" stroke-linejoin=\"miter\" fill=\"none\" />\n",
       "<path d=\"M10,75 L25,75\" stroke-width=\"3\" stroke=\"darkred\" stroke-linejoin=\"miter\" fill=\"none\" />\n",
       "<path d=\"M10,125 L25,125\" stroke-width=\"3\" stroke=\"darkred\" stroke-linejoin=\"miter\" fill=\"none\" />\n",
       "<path d=\"M10,175 L25,175\" stroke-width=\"3\" stroke=\"darkred\" stroke-linejoin=\"miter\" fill=\"none\" />\n",
       "<path d=\"M10,225 L25,225\" stroke-width=\"3\" stroke=\"darkred\" stroke-linejoin=\"miter\" fill=\"none\" />\n",
       "<path d=\"M10,275 L25,275\" stroke-width=\"3\" stroke=\"darkred\" stroke-linejoin=\"miter\" fill=\"none\" />\n",
       "<path d=\"M25,25 L53,25 L72,44\" stroke=\"darkred\" stroke-width=\"3\" fill=\"none\" />\n",
       "<path d=\"M78,44 L97,25 L125,25\" stroke=\"darkred\" stroke-width=\"3\" fill=\"none\" />\n",
       "<path d=\"M25,75 L53,75 L72,56\" stroke=\"darkred\" stroke-width=\"3\" fill=\"none\" />\n",
       "<path d=\"M78,56 L97,75 L125,75\" stroke=\"darkred\" stroke-width=\"3\" fill=\"none\" />\n",
       "<path d=\"M50,43 L100,43 L100,57 L50,57 Z\" stroke=\"black\" fill=\"black\" stroke-linejoin=\"miter\" />\n",
       "<text x=\"75\" y=\"95\" font-size=\"6\" text-anchor=\"middle\"><tspan x=\"75\" dy=\"0em\">Φ_tl=3*pi/2</tspan><tspan x=\"75\" dy=\"1em\">Φ_bl=pi</tspan><tspan x=\"75\" dy=\"1em\">Φ_tr=pi/2</tspan></text>\n",
       "<text x=\"75\" y=\"26\" font-size=\"7\" text-anchor=\"middle\">Θ=1.910633</text>\n",
       "<path d=\"M50,43 L100,43 L100,47 L50,47 Z\" stroke=\"black\" fill=\"lightgray\" stroke-linejoin=\"miter\" />\n",
       "<path d=\"M93,50 L103,50 L103,60 L93,60 Z\" stroke=\"black\" fill=\"aquamarine\" stroke-linejoin=\"miter\" />\n",
       "<text x=\"98\" y=\"57\" font-size=\"6\" text-anchor=\"middle\">H</text>\n",
       "<path d=\"M25,175 L53,175 L72,194\" stroke=\"darkred\" stroke-width=\"3\" fill=\"none\" />\n",
       "<path d=\"M78,194 L97,175 L125,175\" stroke=\"darkred\" stroke-width=\"3\" fill=\"none\" />\n",
       "<path d=\"M25,225 L53,225 L72,206\" stroke=\"darkred\" stroke-width=\"3\" fill=\"none\" />\n",
       "<path d=\"M78,206 L97,225 L125,225\" stroke=\"darkred\" stroke-width=\"3\" fill=\"none\" />\n",
       "<path d=\"M50,193 L100,193 L100,207 L50,207 Z\" stroke=\"black\" fill=\"black\" stroke-linejoin=\"miter\" />\n",
       "<text x=\"75\" y=\"235\" font-size=\"7\" text-anchor=\"middle\"></text>\n",
       "<text x=\"75\" y=\"176\" font-size=\"7\" text-anchor=\"middle\"></text>\n",
       "<path d=\"M50,193 L100,193 L100,197 L50,197 Z\" stroke=\"black\" fill=\"lightgray\" stroke-linejoin=\"miter\" />\n",
       "<path d=\"M93,200 L103,200 L103,210 L93,210 Z\" stroke=\"black\" fill=\"aquamarine\" stroke-linejoin=\"miter\" />\n",
       "<text x=\"98\" y=\"207\" font-size=\"6\" text-anchor=\"middle\">H</text>\n",
       "<path d=\"M25,125 L125,125\" stroke=\"darkred\" stroke-width=\"3\" fill=\"none\" />\n",
       "<path d=\"M125,125 L153,125 L172,144\" stroke=\"darkred\" stroke-width=\"3\" fill=\"none\" />\n",
       "<path d=\"M178,144 L197,125 L225,125\" stroke=\"darkred\" stroke-width=\"3\" fill=\"none\" />\n",
       "<path d=\"M125,175 L153,175 L172,156\" stroke=\"darkred\" stroke-width=\"3\" fill=\"none\" />\n",
       "<path d=\"M178,156 L197,175 L225,175\" stroke=\"darkred\" stroke-width=\"3\" fill=\"none\" />\n",
       "<path d=\"M150,143 L200,143 L200,157 L150,157 Z\" stroke=\"black\" fill=\"black\" stroke-linejoin=\"miter\" />\n",
       "<text x=\"175\" y=\"195\" font-size=\"6\" text-anchor=\"middle\"><tspan x=\"175\" dy=\"0em\">Φ_tl=3*pi/2</tspan><tspan x=\"175\" dy=\"1em\">Φ_bl=pi</tspan><tspan x=\"175\" dy=\"1em\">Φ_tr=pi/2</tspan></text>\n",
       "<text x=\"175\" y=\"126\" font-size=\"7\" text-anchor=\"middle\">Θ=1.910633</text>\n",
       "<path d=\"M150,143 L200,143 L200,147 L150,147 Z\" stroke=\"black\" fill=\"lightgray\" stroke-linejoin=\"miter\" />\n",
       "<path d=\"M193,150 L203,150 L203,160 L193,160 Z\" stroke=\"black\" fill=\"aquamarine\" stroke-linejoin=\"miter\" />\n",
       "<text x=\"198\" y=\"157\" font-size=\"6\" text-anchor=\"middle\">H</text>\n",
       "<path d=\"M25,275 L125,275\" stroke=\"darkred\" stroke-width=\"3\" fill=\"none\" />\n",
       "<path d=\"M125,225 L153,225 L172,244\" stroke=\"darkred\" stroke-width=\"3\" fill=\"none\" />\n",
       "<path d=\"M178,244 L197,225 L225,225\" stroke=\"darkred\" stroke-width=\"3\" fill=\"none\" />\n",
       "<path d=\"M125,275 L153,275 L172,256\" stroke=\"darkred\" stroke-width=\"3\" fill=\"none\" />\n",
       "<path d=\"M178,256 L197,275 L225,275\" stroke=\"darkred\" stroke-width=\"3\" fill=\"none\" />\n",
       "<path d=\"M150,243 L200,243 L200,257 L150,257 Z\" stroke=\"black\" fill=\"black\" stroke-linejoin=\"miter\" />\n",
       "<text x=\"175\" y=\"280\" font-size=\"7\" text-anchor=\"middle\"></text>\n",
       "<text x=\"175\" y=\"226\" font-size=\"7\" text-anchor=\"middle\">Θ=1.910633</text>\n",
       "<path d=\"M150,243 L200,243 L200,247 L150,247 Z\" stroke=\"black\" fill=\"lightgray\" stroke-linejoin=\"miter\" />\n",
       "<path d=\"M193,250 L203,250 L203,260 L193,260 Z\" stroke=\"black\" fill=\"aquamarine\" stroke-linejoin=\"miter\" />\n",
       "<text x=\"198\" y=\"257\" font-size=\"6\" text-anchor=\"middle\">H</text>\n",
       "<path d=\"M225,175 L253,175 L272,194\" stroke=\"darkred\" stroke-width=\"3\" fill=\"none\" />\n",
       "<path d=\"M278,194 L297,175 L325,175\" stroke=\"darkred\" stroke-width=\"3\" fill=\"none\" />\n",
       "<path d=\"M225,225 L253,225 L272,206\" stroke=\"darkred\" stroke-width=\"3\" fill=\"none\" />\n",
       "<path d=\"M278,206 L297,225 L325,225\" stroke=\"darkred\" stroke-width=\"3\" fill=\"none\" />\n",
       "<path d=\"M250,193 L300,193 L300,207 L250,207 Z\" stroke=\"black\" fill=\"black\" stroke-linejoin=\"miter\" />\n",
       "<text x=\"275\" y=\"235\" font-size=\"7\" text-anchor=\"middle\"></text>\n",
       "<text x=\"275\" y=\"176\" font-size=\"7\" text-anchor=\"middle\"></text>\n",
       "<path d=\"M250,193 L300,193 L300,197 L250,197 Z\" stroke=\"black\" fill=\"lightgray\" stroke-linejoin=\"miter\" />\n",
       "<path d=\"M293,200 L303,200 L303,210 L293,210 Z\" stroke=\"black\" fill=\"aquamarine\" stroke-linejoin=\"miter\" />\n",
       "<text x=\"298\" y=\"207\" font-size=\"6\" text-anchor=\"middle\">H</text>\n",
       "<path d=\"M125,25 L325,25\" stroke=\"darkred\" stroke-width=\"3\" fill=\"none\" />\n",
       "<path d=\"M125,75 L325,75\" stroke=\"darkred\" stroke-width=\"3\" fill=\"none\" />\n",
       "<path d=\"M225,125 L325,125\" stroke=\"darkred\" stroke-width=\"3\" fill=\"none\" />\n",
       "<path d=\"M225,275 L325,275\" stroke=\"darkred\" stroke-width=\"3\" fill=\"none\" />\n",
       "<path d=\"M325,25 L340,25\" stroke-width=\"3\" stroke=\"darkred\" stroke-linejoin=\"miter\" fill=\"none\" />\n",
       "<path d=\"M325,75 L340,75\" stroke-width=\"3\" stroke=\"darkred\" stroke-linejoin=\"miter\" fill=\"none\" />\n",
       "<path d=\"M325,125 L340,125\" stroke-width=\"3\" stroke=\"darkred\" stroke-linejoin=\"miter\" fill=\"none\" />\n",
       "<path d=\"M325,175 L340,175\" stroke-width=\"3\" stroke=\"darkred\" stroke-linejoin=\"miter\" fill=\"none\" />\n",
       "<path d=\"M325,225 L340,225\" stroke-width=\"3\" stroke=\"darkred\" stroke-linejoin=\"miter\" fill=\"none\" />\n",
       "<path d=\"M325,275 L340,275\" stroke-width=\"3\" stroke=\"darkred\" stroke-linejoin=\"miter\" fill=\"none\" />\n",
       "<text x=\"350\" y=\"28\" font-size=\"7\" text-anchor=\"end\">0</text>\n",
       "<text x=\"350\" y=\"78\" font-size=\"7\" text-anchor=\"end\">1</text>\n",
       "<text x=\"350\" y=\"128\" font-size=\"7\" text-anchor=\"end\">2</text>\n",
       "<text x=\"350\" y=\"178\" font-size=\"7\" text-anchor=\"end\">3</text>\n",
       "<text x=\"350\" y=\"228\" font-size=\"7\" text-anchor=\"end\">4</text>\n",
       "<text x=\"350\" y=\"278\" font-size=\"7\" text-anchor=\"end\">5</text>\n",
       "<text x=\"0\" y=\"28\" font-size=\"7\" text-anchor=\"start\">0</text>\n",
       "<text x=\"0\" y=\"78\" font-size=\"7\" text-anchor=\"start\">1</text>\n",
       "<text x=\"0\" y=\"128\" font-size=\"7\" text-anchor=\"start\">2</text>\n",
       "<text x=\"0\" y=\"178\" font-size=\"7\" text-anchor=\"start\">3</text>\n",
       "<text x=\"0\" y=\"228\" font-size=\"7\" text-anchor=\"start\">4</text>\n",
       "<text x=\"0\" y=\"278\" font-size=\"7\" text-anchor=\"start\">5</text>\n",
       "</svg>"
      ],
      "text/plain": [
       "<drawsvg.drawing.Drawing at 0x7fd74d754f70>"
      ]
     },
     "execution_count": 4,
     "metadata": {},
     "output_type": "execute_result"
    }
   ],
   "source": [
    "# CNOT Gate\n",
    "cnot = pcvl.Circuit(6, name=\"Ralph CNOT\")\n",
    "cnot.add((0, 1), pcvl.BS.H(pcvl.BS.r_to_theta(1/3), phi_tl = -np.pi/2, phi_bl = np.pi, phi_tr = np.pi / 2))\n",
    "cnot.add((3, 4), pcvl.BS.H())\n",
    "cnot.add((2, 3), pcvl.BS.H(pcvl.BS.r_to_theta(1/3), phi_tl = -np.pi/2, phi_bl = np.pi, phi_tr = np.pi / 2))\n",
    "cnot.add((4, 5), pcvl.BS.H(pcvl.BS.r_to_theta(1/3)))\n",
    "cnot.add((3, 4), pcvl.BS.H())\n",
    "pcvl.pdisplay(cnot)"
   ]
  },
  {
   "cell_type": "code",
   "execution_count": 5,
   "id": "c9b5a933-23c4-48d9-8106-bc4686a4dfb6",
   "metadata": {},
   "outputs": [
    {
     "data": {
      "image/svg+xml": [
       "<?xml version=\"1.0\" encoding=\"UTF-8\"?>\n",
       "<svg xmlns=\"http://www.w3.org/2000/svg\" xmlns:xlink=\"http://www.w3.org/1999/xlink\"\n",
       "     width=\"517.5\" height=\"406.25\" viewBox=\"-39.0 0 414.0 325.0\">\n",
       "<defs>\n",
       "</defs>\n",
       "<path d=\"M10,75 L25,75\" stroke-width=\"3\" stroke=\"darkred\" stroke-linejoin=\"miter\" fill=\"none\" />\n",
       "<path d=\"M10,125 L25,125\" stroke-width=\"3\" stroke=\"darkred\" stroke-linejoin=\"miter\" fill=\"none\" />\n",
       "<path d=\"M10,175 L25,175\" stroke-width=\"3\" stroke=\"darkred\" stroke-linejoin=\"miter\" fill=\"none\" />\n",
       "<path d=\"M10,225 L25,225\" stroke-width=\"3\" stroke=\"darkred\" stroke-linejoin=\"miter\" fill=\"none\" />\n",
       "<path d=\"M27,2 L323,2 L323,298 L27,298 Z\" stroke=\"black\" fill=\"lightblue\" stroke-dasharray=\"1,2\" stroke-linejoin=\"miter\" />\n",
       "<text x=\"29\" y=\"305\" font-size=\"8\" text-anchor=\"start\">RALPH CNOT</text>\n",
       "<path d=\"M25,25 L53,25 L72,44\" stroke=\"darkred\" stroke-width=\"3\" fill=\"none\" />\n",
       "<path d=\"M78,44 L97,25 L125,25\" stroke=\"darkred\" stroke-width=\"3\" fill=\"none\" />\n",
       "<path d=\"M25,75 L53,75 L72,56\" stroke=\"darkred\" stroke-width=\"3\" fill=\"none\" />\n",
       "<path d=\"M78,56 L97,75 L125,75\" stroke=\"darkred\" stroke-width=\"3\" fill=\"none\" />\n",
       "<path d=\"M50,43 L100,43 L100,57 L50,57 Z\" stroke=\"black\" fill=\"black\" stroke-linejoin=\"miter\" />\n",
       "<text x=\"75\" y=\"95\" font-size=\"6\" text-anchor=\"middle\"><tspan x=\"75\" dy=\"0em\">Φ_tl=3*pi/2</tspan><tspan x=\"75\" dy=\"1em\">Φ_bl=pi</tspan><tspan x=\"75\" dy=\"1em\">Φ_tr=pi/2</tspan></text>\n",
       "<text x=\"75\" y=\"26\" font-size=\"7\" text-anchor=\"middle\">Θ=1.910633</text>\n",
       "<path d=\"M50,43 L100,43 L100,47 L50,47 Z\" stroke=\"black\" fill=\"lightgray\" stroke-linejoin=\"miter\" />\n",
       "<path d=\"M93,50 L103,50 L103,60 L93,60 Z\" stroke=\"black\" fill=\"aquamarine\" stroke-linejoin=\"miter\" />\n",
       "<text x=\"98\" y=\"57\" font-size=\"6\" text-anchor=\"middle\">H</text>\n",
       "<path d=\"M25,175 L53,175 L72,194\" stroke=\"darkred\" stroke-width=\"3\" fill=\"none\" />\n",
       "<path d=\"M78,194 L97,175 L125,175\" stroke=\"darkred\" stroke-width=\"3\" fill=\"none\" />\n",
       "<path d=\"M25,225 L53,225 L72,206\" stroke=\"darkred\" stroke-width=\"3\" fill=\"none\" />\n",
       "<path d=\"M78,206 L97,225 L125,225\" stroke=\"darkred\" stroke-width=\"3\" fill=\"none\" />\n",
       "<path d=\"M50,193 L100,193 L100,207 L50,207 Z\" stroke=\"black\" fill=\"black\" stroke-linejoin=\"miter\" />\n",
       "<text x=\"75\" y=\"235\" font-size=\"7\" text-anchor=\"middle\"></text>\n",
       "<text x=\"75\" y=\"176\" font-size=\"7\" text-anchor=\"middle\"></text>\n",
       "<path d=\"M50,193 L100,193 L100,197 L50,197 Z\" stroke=\"black\" fill=\"lightgray\" stroke-linejoin=\"miter\" />\n",
       "<path d=\"M93,200 L103,200 L103,210 L93,210 Z\" stroke=\"black\" fill=\"aquamarine\" stroke-linejoin=\"miter\" />\n",
       "<text x=\"98\" y=\"207\" font-size=\"6\" text-anchor=\"middle\">H</text>\n",
       "<path d=\"M25,125 L125,125\" stroke=\"darkred\" stroke-width=\"3\" fill=\"none\" />\n",
       "<path d=\"M125,125 L153,125 L172,144\" stroke=\"darkred\" stroke-width=\"3\" fill=\"none\" />\n",
       "<path d=\"M178,144 L197,125 L225,125\" stroke=\"darkred\" stroke-width=\"3\" fill=\"none\" />\n",
       "<path d=\"M125,175 L153,175 L172,156\" stroke=\"darkred\" stroke-width=\"3\" fill=\"none\" />\n",
       "<path d=\"M178,156 L197,175 L225,175\" stroke=\"darkred\" stroke-width=\"3\" fill=\"none\" />\n",
       "<path d=\"M150,143 L200,143 L200,157 L150,157 Z\" stroke=\"black\" fill=\"black\" stroke-linejoin=\"miter\" />\n",
       "<text x=\"175\" y=\"195\" font-size=\"6\" text-anchor=\"middle\"><tspan x=\"175\" dy=\"0em\">Φ_tl=3*pi/2</tspan><tspan x=\"175\" dy=\"1em\">Φ_bl=pi</tspan><tspan x=\"175\" dy=\"1em\">Φ_tr=pi/2</tspan></text>\n",
       "<text x=\"175\" y=\"126\" font-size=\"7\" text-anchor=\"middle\">Θ=1.910633</text>\n",
       "<path d=\"M150,143 L200,143 L200,147 L150,147 Z\" stroke=\"black\" fill=\"lightgray\" stroke-linejoin=\"miter\" />\n",
       "<path d=\"M193,150 L203,150 L203,160 L193,160 Z\" stroke=\"black\" fill=\"aquamarine\" stroke-linejoin=\"miter\" />\n",
       "<text x=\"198\" y=\"157\" font-size=\"6\" text-anchor=\"middle\">H</text>\n",
       "<path d=\"M125,225 L153,225 L172,244\" stroke=\"darkred\" stroke-width=\"3\" fill=\"none\" />\n",
       "<path d=\"M178,244 L197,225 L225,225\" stroke=\"darkred\" stroke-width=\"3\" fill=\"none\" />\n",
       "<path d=\"M125,275 L153,275 L172,256\" stroke=\"darkred\" stroke-width=\"3\" fill=\"none\" />\n",
       "<path d=\"M178,256 L197,275 L225,275\" stroke=\"darkred\" stroke-width=\"3\" fill=\"none\" />\n",
       "<path d=\"M150,243 L200,243 L200,257 L150,257 Z\" stroke=\"black\" fill=\"black\" stroke-linejoin=\"miter\" />\n",
       "<text x=\"175\" y=\"280\" font-size=\"7\" text-anchor=\"middle\"></text>\n",
       "<text x=\"175\" y=\"226\" font-size=\"7\" text-anchor=\"middle\">Θ=1.910633</text>\n",
       "<path d=\"M150,243 L200,243 L200,247 L150,247 Z\" stroke=\"black\" fill=\"lightgray\" stroke-linejoin=\"miter\" />\n",
       "<path d=\"M193,250 L203,250 L203,260 L193,260 Z\" stroke=\"black\" fill=\"aquamarine\" stroke-linejoin=\"miter\" />\n",
       "<text x=\"198\" y=\"257\" font-size=\"6\" text-anchor=\"middle\">H</text>\n",
       "<path d=\"M225,175 L253,175 L272,194\" stroke=\"darkred\" stroke-width=\"3\" fill=\"none\" />\n",
       "<path d=\"M278,194 L297,175 L325,175\" stroke=\"darkred\" stroke-width=\"3\" fill=\"none\" />\n",
       "<path d=\"M225,225 L253,225 L272,206\" stroke=\"darkred\" stroke-width=\"3\" fill=\"none\" />\n",
       "<path d=\"M278,206 L297,225 L325,225\" stroke=\"darkred\" stroke-width=\"3\" fill=\"none\" />\n",
       "<path d=\"M250,193 L300,193 L300,207 L250,207 Z\" stroke=\"black\" fill=\"black\" stroke-linejoin=\"miter\" />\n",
       "<text x=\"275\" y=\"235\" font-size=\"7\" text-anchor=\"middle\"></text>\n",
       "<text x=\"275\" y=\"176\" font-size=\"7\" text-anchor=\"middle\"></text>\n",
       "<path d=\"M250,193 L300,193 L300,197 L250,197 Z\" stroke=\"black\" fill=\"lightgray\" stroke-linejoin=\"miter\" />\n",
       "<path d=\"M293,200 L303,200 L303,210 L293,210 Z\" stroke=\"black\" fill=\"aquamarine\" stroke-linejoin=\"miter\" />\n",
       "<text x=\"298\" y=\"207\" font-size=\"6\" text-anchor=\"middle\">H</text>\n",
       "<path d=\"M125,75 L325,75\" stroke=\"darkred\" stroke-width=\"3\" fill=\"none\" />\n",
       "<path d=\"M225,125 L325,125\" stroke=\"darkred\" stroke-width=\"3\" fill=\"none\" />\n",
       "<path d=\"M325,75 L340,75\" stroke-width=\"3\" stroke=\"darkred\" stroke-linejoin=\"miter\" fill=\"none\" />\n",
       "<path d=\"M325,125 L340,125\" stroke-width=\"3\" stroke=\"darkred\" stroke-linejoin=\"miter\" fill=\"none\" />\n",
       "<path d=\"M325,175 L340,175\" stroke-width=\"3\" stroke=\"darkred\" stroke-linejoin=\"miter\" fill=\"none\" />\n",
       "<path d=\"M325,225 L340,225\" stroke-width=\"3\" stroke=\"darkred\" stroke-linejoin=\"miter\" fill=\"none\" />\n",
       "<path d=\"M7,25 C7,25,7,15,17,15 L25,15 L25,35 L17,35 C7,35,7,25,7,25 L7,25\" stroke-width=\"1\" stroke=\"black\" stroke-linejoin=\"miter\" fill=\"white\" />\n",
       "<text x=\"13\" y=\"41\" font-size=\"6\" text-anchor=\"middle\" font-style=\"italic\">[herald0]</text>\n",
       "<text x=\"17\" y=\"28\" font-size=\"7\" text-anchor=\"middle\">0</text>\n",
       "<path d=\"M107,275 C107,275,107,265,117,265 L125,265 L125,285 L117,285 C107,285,107,275,107,275 L107,275\" stroke-width=\"1\" stroke=\"black\" stroke-linejoin=\"miter\" fill=\"white\" />\n",
       "<text x=\"113\" y=\"291\" font-size=\"6\" text-anchor=\"middle\" font-style=\"italic\">[herald1]</text>\n",
       "<text x=\"117\" y=\"278\" font-size=\"7\" text-anchor=\"middle\">0</text>\n",
       "<path d=\"M133,35 L125,35 L125,15 L133,15 C133,15,143,15,143,25 C143,35,133,35,133,35 L133,35\" stroke-width=\"1\" stroke=\"black\" stroke-linejoin=\"miter\" fill=\"white\" />\n",
       "<text x=\"138\" y=\"41\" font-size=\"6\" text-anchor=\"middle\" font-style=\"italic\">[herald0]</text>\n",
       "<text x=\"133\" y=\"28\" font-size=\"7\" text-anchor=\"middle\">0</text>\n",
       "<path d=\"M233,285 L225,285 L225,265 L233,265 C233,265,243,265,243,275 C243,285,233,285,233,285 L233,285\" stroke-width=\"1\" stroke=\"black\" stroke-linejoin=\"miter\" fill=\"white\" />\n",
       "<text x=\"238\" y=\"291\" font-size=\"6\" text-anchor=\"middle\" font-style=\"italic\">[herald1]</text>\n",
       "<text x=\"233\" y=\"278\" font-size=\"7\" text-anchor=\"middle\">0</text>\n",
       "</svg>"
      ],
      "text/plain": [
       "<drawsvg.drawing.Drawing at 0x7fd74d7ad250>"
      ]
     },
     "execution_count": 5,
     "metadata": {},
     "output_type": "execute_result"
    }
   ],
   "source": [
    "p = pcvl.Processor(\"Naive\", cnot)\n",
    "p.set_postprocess(lambda s: (s[1] or s[2]) and (s[3] or s[4]))\n",
    "p.add_herald(0, 0)\n",
    "p.add_herald(5, 0)\n",
    "\n",
    "pcvl.pdisplay(p, recursive = True)"
   ]
  },
  {
   "cell_type": "code",
   "execution_count": 6,
   "id": "73ad6771-7d32-4ace-a640-ecf357a53a03",
   "metadata": {},
   "outputs": [
    {
     "data": {
      "text/plain": [
       "<perceval.components.source.Source at 0x7fd74d7add30>"
      ]
     },
     "execution_count": 6,
     "metadata": {},
     "output_type": "execute_result"
    }
   ],
   "source": [
    "source = pcvl.Source()  #default is noiseless\n",
    "source"
   ]
  },
  {
   "cell_type": "code",
   "execution_count": 7,
   "id": "601ab866-0b4c-40a8-b0d5-800dad9f0c7a",
   "metadata": {},
   "outputs": [
    {
     "data": {
      "image/svg+xml": [
       "<?xml version=\"1.0\" encoding=\"UTF-8\"?>\n",
       "<svg xmlns=\"http://www.w3.org/2000/svg\" xmlns:xlink=\"http://www.w3.org/1999/xlink\"\n",
       "     width=\"750.0\" height=\"406.25\" viewBox=\"-25 0 600 325.0\">\n",
       "<defs>\n",
       "</defs>\n",
       "<path d=\"M10,25 L25,25\" stroke-width=\"3\" stroke=\"darkred\" stroke-linejoin=\"miter\" fill=\"none\" />\n",
       "<path d=\"M10,75 L25,75\" stroke-width=\"3\" stroke=\"darkred\" stroke-linejoin=\"miter\" fill=\"none\" />\n",
       "<path d=\"M10,125 L25,125\" stroke-width=\"3\" stroke=\"darkred\" stroke-linejoin=\"miter\" fill=\"none\" />\n",
       "<path d=\"M10,175 L25,175\" stroke-width=\"3\" stroke=\"darkred\" stroke-linejoin=\"miter\" fill=\"none\" />\n",
       "<path d=\"M25,25 L53,25 L72,44\" stroke=\"darkred\" stroke-width=\"3\" fill=\"none\" />\n",
       "<path d=\"M78,44 L97,25 L125,25\" stroke=\"darkred\" stroke-width=\"3\" fill=\"none\" />\n",
       "<path d=\"M25,75 L53,75 L72,56\" stroke=\"darkred\" stroke-width=\"3\" fill=\"none\" />\n",
       "<path d=\"M78,56 L97,75 L125,75\" stroke=\"darkred\" stroke-width=\"3\" fill=\"none\" />\n",
       "<path d=\"M50,43 L100,43 L100,57 L50,57 Z\" stroke=\"black\" fill=\"black\" stroke-linejoin=\"miter\" />\n",
       "<text x=\"75\" y=\"85\" font-size=\"7\" text-anchor=\"middle\"></text>\n",
       "<text x=\"75\" y=\"26\" font-size=\"7\" text-anchor=\"middle\"></text>\n",
       "<path d=\"M50,43 L100,43 L100,47 L50,47 Z\" stroke=\"black\" fill=\"lightgray\" stroke-linejoin=\"miter\" />\n",
       "<path d=\"M93,50 L103,50 L103,60 L93,60 Z\" stroke=\"black\" fill=\"aquamarine\" stroke-linejoin=\"miter\" />\n",
       "<text x=\"98\" y=\"57\" font-size=\"6\" text-anchor=\"middle\">H</text>\n",
       "<path d=\"M25,125 L125,125\" stroke=\"darkred\" stroke-width=\"3\" fill=\"none\" />\n",
       "<path d=\"M25,175 L125,175\" stroke=\"darkred\" stroke-width=\"3\" fill=\"none\" />\n",
       "<path d=\"M128,25 L172,75\" stroke=\"white\" stroke-width=\"6\" fill=\"none\" />\n",
       "<path d=\"M125,25 L128,25 L172,75 L175,75\" stroke=\"darkred\" stroke-width=\"3\" fill=\"none\" />\n",
       "<path d=\"M128,75 L172,125\" stroke=\"white\" stroke-width=\"6\" fill=\"none\" />\n",
       "<path d=\"M125,75 L128,75 L172,125 L175,125\" stroke=\"darkred\" stroke-width=\"3\" fill=\"none\" />\n",
       "<path d=\"M128,125 L172,175\" stroke=\"white\" stroke-width=\"6\" fill=\"none\" />\n",
       "<path d=\"M125,125 L128,125 L172,175 L175,175\" stroke=\"darkred\" stroke-width=\"3\" fill=\"none\" />\n",
       "<path d=\"M128,175 L172,225\" stroke=\"white\" stroke-width=\"6\" fill=\"none\" />\n",
       "<path d=\"M125,175 L128,175 L172,225 L175,225\" stroke=\"darkred\" stroke-width=\"3\" fill=\"none\" />\n",
       "<path d=\"M177,2 L473,2 L473,298 L177,298 Z\" stroke=\"black\" fill=\"lightblue\" stroke-dasharray=\"1,2\" stroke-linejoin=\"miter\" />\n",
       "<text x=\"179\" y=\"305\" font-size=\"8\" text-anchor=\"start\">RALPH CNOT</text>\n",
       "<path d=\"M175,25 L203,25 L222,44\" stroke=\"darkred\" stroke-width=\"3\" fill=\"none\" />\n",
       "<path d=\"M228,44 L247,25 L275,25\" stroke=\"darkred\" stroke-width=\"3\" fill=\"none\" />\n",
       "<path d=\"M175,75 L203,75 L222,56\" stroke=\"darkred\" stroke-width=\"3\" fill=\"none\" />\n",
       "<path d=\"M228,56 L247,75 L275,75\" stroke=\"darkred\" stroke-width=\"3\" fill=\"none\" />\n",
       "<path d=\"M200,43 L250,43 L250,57 L200,57 Z\" stroke=\"black\" fill=\"black\" stroke-linejoin=\"miter\" />\n",
       "<text x=\"225\" y=\"95\" font-size=\"6\" text-anchor=\"middle\"><tspan x=\"225\" dy=\"0em\">Φ_tl=3*pi/2</tspan><tspan x=\"225\" dy=\"1em\">Φ_bl=pi</tspan><tspan x=\"225\" dy=\"1em\">Φ_tr=pi/2</tspan></text>\n",
       "<text x=\"225\" y=\"26\" font-size=\"7\" text-anchor=\"middle\">Θ=1.910633</text>\n",
       "<path d=\"M200,43 L250,43 L250,47 L200,47 Z\" stroke=\"black\" fill=\"lightgray\" stroke-linejoin=\"miter\" />\n",
       "<path d=\"M243,50 L253,50 L253,60 L243,60 Z\" stroke=\"black\" fill=\"aquamarine\" stroke-linejoin=\"miter\" />\n",
       "<text x=\"248\" y=\"57\" font-size=\"6\" text-anchor=\"middle\">H</text>\n",
       "<path d=\"M175,175 L203,175 L222,194\" stroke=\"darkred\" stroke-width=\"3\" fill=\"none\" />\n",
       "<path d=\"M228,194 L247,175 L275,175\" stroke=\"darkred\" stroke-width=\"3\" fill=\"none\" />\n",
       "<path d=\"M175,225 L203,225 L222,206\" stroke=\"darkred\" stroke-width=\"3\" fill=\"none\" />\n",
       "<path d=\"M228,206 L247,225 L275,225\" stroke=\"darkred\" stroke-width=\"3\" fill=\"none\" />\n",
       "<path d=\"M200,193 L250,193 L250,207 L200,207 Z\" stroke=\"black\" fill=\"black\" stroke-linejoin=\"miter\" />\n",
       "<text x=\"225\" y=\"235\" font-size=\"7\" text-anchor=\"middle\"></text>\n",
       "<text x=\"225\" y=\"176\" font-size=\"7\" text-anchor=\"middle\"></text>\n",
       "<path d=\"M200,193 L250,193 L250,197 L200,197 Z\" stroke=\"black\" fill=\"lightgray\" stroke-linejoin=\"miter\" />\n",
       "<path d=\"M243,200 L253,200 L253,210 L243,210 Z\" stroke=\"black\" fill=\"aquamarine\" stroke-linejoin=\"miter\" />\n",
       "<text x=\"248\" y=\"207\" font-size=\"6\" text-anchor=\"middle\">H</text>\n",
       "<path d=\"M175,125 L275,125\" stroke=\"darkred\" stroke-width=\"3\" fill=\"none\" />\n",
       "<path d=\"M275,125 L303,125 L322,144\" stroke=\"darkred\" stroke-width=\"3\" fill=\"none\" />\n",
       "<path d=\"M328,144 L347,125 L375,125\" stroke=\"darkred\" stroke-width=\"3\" fill=\"none\" />\n",
       "<path d=\"M275,175 L303,175 L322,156\" stroke=\"darkred\" stroke-width=\"3\" fill=\"none\" />\n",
       "<path d=\"M328,156 L347,175 L375,175\" stroke=\"darkred\" stroke-width=\"3\" fill=\"none\" />\n",
       "<path d=\"M300,143 L350,143 L350,157 L300,157 Z\" stroke=\"black\" fill=\"black\" stroke-linejoin=\"miter\" />\n",
       "<text x=\"325\" y=\"195\" font-size=\"6\" text-anchor=\"middle\"><tspan x=\"325\" dy=\"0em\">Φ_tl=3*pi/2</tspan><tspan x=\"325\" dy=\"1em\">Φ_bl=pi</tspan><tspan x=\"325\" dy=\"1em\">Φ_tr=pi/2</tspan></text>\n",
       "<text x=\"325\" y=\"126\" font-size=\"7\" text-anchor=\"middle\">Θ=1.910633</text>\n",
       "<path d=\"M300,143 L350,143 L350,147 L300,147 Z\" stroke=\"black\" fill=\"lightgray\" stroke-linejoin=\"miter\" />\n",
       "<path d=\"M343,150 L353,150 L353,160 L343,160 Z\" stroke=\"black\" fill=\"aquamarine\" stroke-linejoin=\"miter\" />\n",
       "<text x=\"348\" y=\"157\" font-size=\"6\" text-anchor=\"middle\">H</text>\n",
       "<path d=\"M275,225 L303,225 L322,244\" stroke=\"darkred\" stroke-width=\"3\" fill=\"none\" />\n",
       "<path d=\"M328,244 L347,225 L375,225\" stroke=\"darkred\" stroke-width=\"3\" fill=\"none\" />\n",
       "<path d=\"M275,275 L303,275 L322,256\" stroke=\"darkred\" stroke-width=\"3\" fill=\"none\" />\n",
       "<path d=\"M328,256 L347,275 L375,275\" stroke=\"darkred\" stroke-width=\"3\" fill=\"none\" />\n",
       "<path d=\"M300,243 L350,243 L350,257 L300,257 Z\" stroke=\"black\" fill=\"black\" stroke-linejoin=\"miter\" />\n",
       "<text x=\"325\" y=\"280\" font-size=\"7\" text-anchor=\"middle\"></text>\n",
       "<text x=\"325\" y=\"226\" font-size=\"7\" text-anchor=\"middle\">Θ=1.910633</text>\n",
       "<path d=\"M300,243 L350,243 L350,247 L300,247 Z\" stroke=\"black\" fill=\"lightgray\" stroke-linejoin=\"miter\" />\n",
       "<path d=\"M343,250 L353,250 L353,260 L343,260 Z\" stroke=\"black\" fill=\"aquamarine\" stroke-linejoin=\"miter\" />\n",
       "<text x=\"348\" y=\"257\" font-size=\"6\" text-anchor=\"middle\">H</text>\n",
       "<path d=\"M375,175 L403,175 L422,194\" stroke=\"darkred\" stroke-width=\"3\" fill=\"none\" />\n",
       "<path d=\"M428,194 L447,175 L475,175\" stroke=\"darkred\" stroke-width=\"3\" fill=\"none\" />\n",
       "<path d=\"M375,225 L403,225 L422,206\" stroke=\"darkred\" stroke-width=\"3\" fill=\"none\" />\n",
       "<path d=\"M428,206 L447,225 L475,225\" stroke=\"darkred\" stroke-width=\"3\" fill=\"none\" />\n",
       "<path d=\"M400,193 L450,193 L450,207 L400,207 Z\" stroke=\"black\" fill=\"black\" stroke-linejoin=\"miter\" />\n",
       "<text x=\"425\" y=\"235\" font-size=\"7\" text-anchor=\"middle\"></text>\n",
       "<text x=\"425\" y=\"176\" font-size=\"7\" text-anchor=\"middle\"></text>\n",
       "<path d=\"M400,193 L450,193 L450,197 L400,197 Z\" stroke=\"black\" fill=\"lightgray\" stroke-linejoin=\"miter\" />\n",
       "<path d=\"M443,200 L453,200 L453,210 L443,210 Z\" stroke=\"black\" fill=\"aquamarine\" stroke-linejoin=\"miter\" />\n",
       "<text x=\"448\" y=\"207\" font-size=\"6\" text-anchor=\"middle\">H</text>\n",
       "<path d=\"M275,75 L475,75\" stroke=\"darkred\" stroke-width=\"3\" fill=\"none\" />\n",
       "<path d=\"M375,125 L475,125\" stroke=\"darkred\" stroke-width=\"3\" fill=\"none\" />\n",
       "<path d=\"M478,75 L522,25\" stroke=\"white\" stroke-width=\"6\" fill=\"none\" />\n",
       "<path d=\"M475,75 L478,75 L522,25 L525,25\" stroke=\"darkred\" stroke-width=\"3\" fill=\"none\" />\n",
       "<path d=\"M478,125 L522,75\" stroke=\"white\" stroke-width=\"6\" fill=\"none\" />\n",
       "<path d=\"M475,125 L478,125 L522,75 L525,75\" stroke=\"darkred\" stroke-width=\"3\" fill=\"none\" />\n",
       "<path d=\"M478,175 L522,125\" stroke=\"white\" stroke-width=\"6\" fill=\"none\" />\n",
       "<path d=\"M475,175 L478,175 L522,125 L525,125\" stroke=\"darkred\" stroke-width=\"3\" fill=\"none\" />\n",
       "<path d=\"M478,225 L522,175\" stroke=\"white\" stroke-width=\"6\" fill=\"none\" />\n",
       "<path d=\"M475,225 L478,225 L522,175 L525,175\" stroke=\"darkred\" stroke-width=\"3\" fill=\"none\" />\n",
       "<path d=\"M525,25 L540,25\" stroke-width=\"3\" stroke=\"darkred\" stroke-linejoin=\"miter\" fill=\"none\" />\n",
       "<path d=\"M525,75 L540,75\" stroke-width=\"3\" stroke=\"darkred\" stroke-linejoin=\"miter\" fill=\"none\" />\n",
       "<path d=\"M525,125 L540,125\" stroke-width=\"3\" stroke=\"darkred\" stroke-linejoin=\"miter\" fill=\"none\" />\n",
       "<path d=\"M525,175 L540,175\" stroke-width=\"3\" stroke=\"darkred\" stroke-linejoin=\"miter\" fill=\"none\" />\n",
       "<path d=\"M157,25 C157,25,157,15,167,15 L175,15 L175,35 L167,35 C157,35,157,25,157,25 L157,25\" stroke-width=\"1\" stroke=\"black\" stroke-linejoin=\"miter\" fill=\"white\" />\n",
       "<text x=\"163\" y=\"41\" font-size=\"6\" text-anchor=\"middle\" font-style=\"italic\">[herald0]</text>\n",
       "<text x=\"167\" y=\"28\" font-size=\"7\" text-anchor=\"middle\">0</text>\n",
       "<path d=\"M257,275 C257,275,257,265,267,265 L275,265 L275,285 L267,285 C257,285,257,275,257,275 L257,275\" stroke-width=\"1\" stroke=\"black\" stroke-linejoin=\"miter\" fill=\"white\" />\n",
       "<text x=\"263\" y=\"291\" font-size=\"6\" text-anchor=\"middle\" font-style=\"italic\">[herald1]</text>\n",
       "<text x=\"267\" y=\"278\" font-size=\"7\" text-anchor=\"middle\">0</text>\n",
       "<path d=\"M283,35 L275,35 L275,15 L283,15 C283,15,293,15,293,25 C293,35,283,35,283,35 L283,35\" stroke-width=\"1\" stroke=\"black\" stroke-linejoin=\"miter\" fill=\"white\" />\n",
       "<text x=\"288\" y=\"41\" font-size=\"6\" text-anchor=\"middle\" font-style=\"italic\">[herald0]</text>\n",
       "<text x=\"283\" y=\"28\" font-size=\"7\" text-anchor=\"middle\">0</text>\n",
       "<path d=\"M383,285 L375,285 L375,265 L383,265 C383,265,393,265,393,275 C393,285,383,285,383,285 L383,285\" stroke-width=\"1\" stroke=\"black\" stroke-linejoin=\"miter\" fill=\"white\" />\n",
       "<text x=\"388\" y=\"291\" font-size=\"6\" text-anchor=\"middle\" font-style=\"italic\">[herald1]</text>\n",
       "<text x=\"383\" y=\"278\" font-size=\"7\" text-anchor=\"middle\">0</text>\n",
       "</svg>"
      ],
      "text/plain": [
       "<drawsvg.drawing.Drawing at 0x7fd74d6f8dc0>"
      ]
     },
     "execution_count": 7,
     "metadata": {},
     "output_type": "execute_result"
    }
   ],
   "source": [
    "QPU = pcvl.Processor(\"Naive\",4,source)\n",
    "QPU.add(0,pcvl.BS.H())\n",
    "\n",
    "QPU.add(0,p)\n",
    "\n",
    "pcvl.pdisplay(QPU, recursive = True)"
   ]
  },
  {
   "cell_type": "code",
   "execution_count": 8,
   "id": "58c14e5b-01eb-4b1a-acd3-ed2384ef6594",
   "metadata": {},
   "outputs": [
    {
     "data": {
      "text/html": [
       "<table>\n",
       "<thead>\n",
       "<tr><th style=\"text-align: right;\">  </th><th>00  </th><th>01  </th><th>10  </th><th>11  </th></tr>\n",
       "</thead>\n",
       "<tbody>\n",
       "<tr><td style=\"text-align: right;\">00</td><td>1/2 </td><td>0   </td><td>0   </td><td>1/2 </td></tr>\n",
       "<tr><td style=\"text-align: right;\">01</td><td>0   </td><td>1/2 </td><td>1/2 </td><td>0   </td></tr>\n",
       "<tr><td style=\"text-align: right;\">10</td><td>1/2 </td><td>0   </td><td>0   </td><td>1/2 </td></tr>\n",
       "<tr><td style=\"text-align: right;\">11</td><td>0   </td><td>1/2 </td><td>1/2 </td><td>0   </td></tr>\n",
       "</tbody>\n",
       "</table>"
      ],
      "text/plain": [
       "<IPython.core.display.HTML object>"
      ]
     },
     "metadata": {},
     "output_type": "display_data"
    }
   ],
   "source": [
    "states = {\n",
    "    pcvl.BasicState([1, 0, 1, 0]): \"00\",\n",
    "    pcvl.BasicState([1, 0, 0, 1]): \"01\",\n",
    "    pcvl.BasicState([0, 1, 1, 0]): \"10\",\n",
    "    pcvl.BasicState([0, 1, 0, 1]): \"11\"\n",
    "}\n",
    "\n",
    "ca = pcvl.algorithm.Analyzer(QPU, states)\n",
    "ca.compute(expected={\"00\": \"00\", \"01\": \"01\", \"10\": \"11\", \"11\": \"10\"})\n",
    "pcvl.pdisplay(ca)"
   ]
  },
  {
   "cell_type": "code",
   "execution_count": 9,
   "id": "2f4f89dd-20c8-4f15-97a0-4fa7b6b1fc2f",
   "metadata": {},
   "outputs": [
    {
     "data": {
      "text/html": [
       "<table>\n",
       "<thead>\n",
       "<tr><th>state        </th><th style=\"text-align: right;\">  probability</th></tr>\n",
       "</thead>\n",
       "<tbody>\n",
       "<tr><td>|1,0,1,0,0,0&gt;</td><td style=\"text-align: right;\">            1</td></tr>\n",
       "</tbody>\n",
       "</table>"
      ],
      "text/plain": [
       "<IPython.core.display.HTML object>"
      ]
     },
     "metadata": {},
     "output_type": "display_data"
    }
   ],
   "source": [
    "# Gives the source distribution\n",
    "QPU.with_input(pcvl.BasicState([1, 0, 1, 0]))\n",
    "pcvl.pdisplay(QPU.source_distribution, precision=1e-4)"
   ]
  },
  {
   "cell_type": "code",
   "execution_count": 10,
   "id": "a8a843f9-f488-4dde-8050-5dbb49aaad38",
   "metadata": {},
   "outputs": [
    {
     "data": {
      "text/html": [
       "<table>\n",
       "<thead>\n",
       "<tr><th>state    </th><th>probability  </th></tr>\n",
       "</thead>\n",
       "<tbody>\n",
       "<tr><td>|0,1,0,1&gt;</td><td>1/2          </td></tr>\n",
       "<tr><td>|1,0,1,0&gt;</td><td>1/2          </td></tr>\n",
       "</tbody>\n",
       "</table>"
      ],
      "text/plain": [
       "<IPython.core.display.HTML object>"
      ]
     },
     "metadata": {},
     "output_type": "display_data"
    }
   ],
   "source": [
    "# Gives the output distribution\n",
    "output_distribution=QPU.probs()[\"results\"]\n",
    "pcvl.pdisplay(output_distribution, max_v=10)"
   ]
  },
  {
   "cell_type": "code",
   "execution_count": 11,
   "id": "f437f4e5-4822-43ef-a616-e1171c897eed",
   "metadata": {},
   "outputs": [
    {
     "data": {
      "text/html": [
       "<table>\n",
       "<thead>\n",
       "<tr><th style=\"text-align: right;\">  </th><th>00  </th><th>01  </th><th>10  </th><th>11  </th></tr>\n",
       "</thead>\n",
       "<tbody>\n",
       "<tr><td style=\"text-align: right;\">00</td><td>1/2 </td><td>0   </td><td>0   </td><td>1/2 </td></tr>\n",
       "<tr><td style=\"text-align: right;\">01</td><td>0   </td><td>1/2 </td><td>1/2 </td><td>0   </td></tr>\n",
       "<tr><td style=\"text-align: right;\">10</td><td>1/2 </td><td>0   </td><td>0   </td><td>1/2 </td></tr>\n",
       "<tr><td style=\"text-align: right;\">11</td><td>0   </td><td>1/2 </td><td>1/2 </td><td>0   </td></tr>\n",
       "</tbody>\n",
       "</table>"
      ],
      "text/plain": [
       "<IPython.core.display.HTML object>"
      ]
     },
     "metadata": {},
     "output_type": "display_data"
    }
   ],
   "source": [
    "#Making purity as 99%\n",
    "source = pcvl.Source(multiphoton_component=0.01) \n",
    "QPU = pcvl.Processor(\"Naive\",4,source)\n",
    "QPU.add(0,pcvl.BS.H())\n",
    "\n",
    "QPU.add(0,p)\n",
    "\n",
    "pcvl.pdisplay(QPU, recursive = True)\n",
    "\n",
    "states = {\n",
    "    pcvl.BasicState([1, 0, 1, 0]): \"00\",\n",
    "    pcvl.BasicState([1, 0, 0, 1]): \"01\",\n",
    "    pcvl.BasicState([0, 1, 1, 0]): \"10\",\n",
    "    pcvl.BasicState([0, 1, 0, 1]): \"11\"\n",
    "}\n",
    "\n",
    "ca = pcvl.algorithm.Analyzer(QPU, states)\n",
    "ca.compute(expected={\"00\": \"00\", \"01\": \"01\", \"10\": \"11\", \"11\": \"10\"})\n",
    "pcvl.pdisplay(ca)"
   ]
  },
  {
   "cell_type": "code",
   "execution_count": 12,
   "id": "760eb874-71db-4fab-ba66-ab3eeb4e49c5",
   "metadata": {},
   "outputs": [
    {
     "data": {
      "text/html": [
       "<table>\n",
       "<thead>\n",
       "<tr><th>state                          </th><th style=\"text-align: right;\">  probability</th></tr>\n",
       "</thead>\n",
       "<tbody>\n",
       "<tr><td>|{_:0},0,{_:0},0,0,0&gt;          </td><td style=\"text-align: right;\">       0.9899</td></tr>\n",
       "<tr><td>|{_:0}{_:1},0,{_:0},0,0,0&gt;     </td><td style=\"text-align: right;\">       0.005 </td></tr>\n",
       "<tr><td>|{_:0},0,{_:0}{_:1},0,0,0&gt;     </td><td style=\"text-align: right;\">       0.005 </td></tr>\n",
       "<tr><td>|{_:0}{_:1},0,{_:0}{_:2},0,0,0&gt;</td><td style=\"text-align: right;\">       0     </td></tr>\n",
       "</tbody>\n",
       "</table>"
      ],
      "text/plain": [
       "<IPython.core.display.HTML object>"
      ]
     },
     "metadata": {},
     "output_type": "display_data"
    }
   ],
   "source": [
    "# Gives the source distribution\n",
    "QPU.with_input(pcvl.BasicState([1, 0, 1, 0]))\n",
    "pcvl.pdisplay(QPU.source_distribution, precision=1e-4)\n",
    "#Here, the heralded modes are shown because if there were a photon on them, they would also have the imperfect source. \n",
    "#They are represented at the end of the state (the two last modes) as they have been added after the declaration of the processor."
   ]
  },
  {
   "cell_type": "code",
   "execution_count": 13,
   "id": "4f021be4-be5d-436f-b832-8d42dfe8dadb",
   "metadata": {},
   "outputs": [
    {
     "data": {
      "text/html": [
       "<table>\n",
       "<thead>\n",
       "<tr><th>state    </th><th style=\"text-align: right;\">  probability</th></tr>\n",
       "</thead>\n",
       "<tbody>\n",
       "<tr><td>|0,1,0,1&gt;</td><td style=\"text-align: right;\">  0.491662   </td></tr>\n",
       "<tr><td>|1,0,1,0&gt;</td><td style=\"text-align: right;\">  0.491662   </td></tr>\n",
       "<tr><td>|0,1,2,0&gt;</td><td style=\"text-align: right;\">  0.002496   </td></tr>\n",
       "<tr><td>|1,1,1,0&gt;</td><td style=\"text-align: right;\">  0.002496   </td></tr>\n",
       "<tr><td>|0,2,1,0&gt;</td><td style=\"text-align: right;\">  0.002496   </td></tr>\n",
       "<tr><td>|0,1,1,1&gt;</td><td style=\"text-align: right;\">  0.002496   </td></tr>\n",
       "<tr><td>|0,2,0,1&gt;</td><td style=\"text-align: right;\">  0.00208    </td></tr>\n",
       "<tr><td>|1,0,2,0&gt;</td><td style=\"text-align: right;\">  0.00208    </td></tr>\n",
       "<tr><td>|1,1,0,1&gt;</td><td style=\"text-align: right;\">  0.000831937</td></tr>\n",
       "<tr><td>|1,0,1,1&gt;</td><td style=\"text-align: right;\">  0.000831937</td></tr>\n",
       "</tbody>\n",
       "</table>"
      ],
      "text/plain": [
       "<IPython.core.display.HTML object>"
      ]
     },
     "metadata": {},
     "output_type": "display_data"
    }
   ],
   "source": [
    "# Gives the output distribution\n",
    "output_distribution=QPU.probs()[\"results\"]\n",
    "pcvl.pdisplay(output_distribution, max_v=10)"
   ]
  },
  {
   "cell_type": "code",
   "execution_count": 14,
   "id": "5318bf93-ac43-46cb-aad5-22366920e375",
   "metadata": {},
   "outputs": [
    {
     "data": {
      "text/html": [
       "<table>\n",
       "<thead>\n",
       "<tr><th style=\"text-align: right;\">  </th><th>00  </th><th>01  </th><th>10  </th><th>11  </th></tr>\n",
       "</thead>\n",
       "<tbody>\n",
       "<tr><td style=\"text-align: right;\">00</td><td>1/2 </td><td>0   </td><td>0   </td><td>1/2 </td></tr>\n",
       "<tr><td style=\"text-align: right;\">01</td><td>0   </td><td>1/2 </td><td>1/2 </td><td>0   </td></tr>\n",
       "<tr><td style=\"text-align: right;\">10</td><td>1/2 </td><td>0   </td><td>0   </td><td>1/2 </td></tr>\n",
       "<tr><td style=\"text-align: right;\">11</td><td>0   </td><td>1/2 </td><td>1/2 </td><td>0   </td></tr>\n",
       "</tbody>\n",
       "</table>"
      ],
      "text/plain": [
       "<IPython.core.display.HTML object>"
      ]
     },
     "metadata": {},
     "output_type": "display_data"
    }
   ],
   "source": [
    "#Making purity 90%\n",
    "source = pcvl.Source(multiphoton_component=0.1) \n",
    "QPU = pcvl.Processor(\"Naive\",4,source)\n",
    "QPU.add(0,pcvl.BS.H())\n",
    "\n",
    "QPU.add(0,p)\n",
    "\n",
    "pcvl.pdisplay(QPU, recursive = True)\n",
    "\n",
    "states = {\n",
    "    pcvl.BasicState([1, 0, 1, 0]): \"00\",\n",
    "    pcvl.BasicState([1, 0, 0, 1]): \"01\",\n",
    "    pcvl.BasicState([0, 1, 1, 0]): \"10\",\n",
    "    pcvl.BasicState([0, 1, 0, 1]): \"11\"\n",
    "}\n",
    "\n",
    "ca = pcvl.algorithm.Analyzer(QPU, states)\n",
    "ca.compute(expected={\"00\": \"00\", \"01\": \"01\", \"10\": \"11\", \"11\": \"10\"})\n",
    "pcvl.pdisplay(ca)"
   ]
  },
  {
   "cell_type": "code",
   "execution_count": 15,
   "id": "10b30f16-2847-475c-941a-acf1de94a5a2",
   "metadata": {},
   "outputs": [
    {
     "data": {
      "text/html": [
       "<table>\n",
       "<thead>\n",
       "<tr><th>state                          </th><th style=\"text-align: right;\">  probability</th></tr>\n",
       "</thead>\n",
       "<tbody>\n",
       "<tr><td>|{_:0},0,{_:0},0,0,0&gt;          </td><td style=\"text-align: right;\">       0.8916</td></tr>\n",
       "<tr><td>|{_:0}{_:1},0,{_:0},0,0,0&gt;     </td><td style=\"text-align: right;\">       0.0526</td></tr>\n",
       "<tr><td>|{_:0},0,{_:0}{_:1},0,0,0&gt;     </td><td style=\"text-align: right;\">       0.0526</td></tr>\n",
       "<tr><td>|{_:0}{_:1},0,{_:0}{_:2},0,0,0&gt;</td><td style=\"text-align: right;\">       0.0031</td></tr>\n",
       "</tbody>\n",
       "</table>"
      ],
      "text/plain": [
       "<IPython.core.display.HTML object>"
      ]
     },
     "metadata": {},
     "output_type": "display_data"
    }
   ],
   "source": [
    "# Gives the source distribution\n",
    "QPU.with_input(pcvl.BasicState([1, 0, 1, 0]))\n",
    "pcvl.pdisplay(QPU.source_distribution, precision=1e-4)"
   ]
  },
  {
   "cell_type": "code",
   "execution_count": 16,
   "id": "8d7ebf8d-5ba8-4334-b65c-c412228b4c2f",
   "metadata": {},
   "outputs": [
    {
     "data": {
      "text/html": [
       "<table>\n",
       "<thead>\n",
       "<tr><th>state    </th><th style=\"text-align: right;\">  probability</th></tr>\n",
       "</thead>\n",
       "<tbody>\n",
       "<tr><td>|0,1,0,1&gt;</td><td style=\"text-align: right;\">     0.416058</td></tr>\n",
       "<tr><td>|1,0,1,0&gt;</td><td style=\"text-align: right;\">     0.416058</td></tr>\n",
       "<tr><td>|0,1,2,0&gt;</td><td style=\"text-align: right;\">     0.024555</td></tr>\n",
       "<tr><td>|1,1,1,0&gt;</td><td style=\"text-align: right;\">     0.024555</td></tr>\n",
       "<tr><td>|0,1,1,1&gt;</td><td style=\"text-align: right;\">     0.024555</td></tr>\n",
       "<tr><td>|0,2,1,0&gt;</td><td style=\"text-align: right;\">     0.024555</td></tr>\n",
       "<tr><td>|0,2,0,1&gt;</td><td style=\"text-align: right;\">     0.020462</td></tr>\n",
       "<tr><td>|1,0,2,0&gt;</td><td style=\"text-align: right;\">     0.020462</td></tr>\n",
       "<tr><td>|1,1,0,1&gt;</td><td style=\"text-align: right;\">     0.008185</td></tr>\n",
       "<tr><td>|1,0,1,1&gt;</td><td style=\"text-align: right;\">     0.008185</td></tr>\n",
       "</tbody>\n",
       "</table>"
      ],
      "text/plain": [
       "<IPython.core.display.HTML object>"
      ]
     },
     "metadata": {},
     "output_type": "display_data"
    }
   ],
   "source": [
    "# Gives the output distribution\n",
    "output_distribution=QPU.probs()[\"results\"]\n",
    "pcvl.pdisplay(output_distribution, max_v=10)"
   ]
  },
  {
   "cell_type": "code",
   "execution_count": 17,
   "id": "ae472282-6f9d-4e90-8d67-9d97766f19f7",
   "metadata": {},
   "outputs": [
    {
     "data": {
      "text/html": [
       "<table>\n",
       "<thead>\n",
       "<tr><th style=\"text-align: right;\">  </th><th>00  </th><th>01  </th><th>10  </th><th>11  </th></tr>\n",
       "</thead>\n",
       "<tbody>\n",
       "<tr><td style=\"text-align: right;\">00</td><td>1/2 </td><td>0   </td><td>0   </td><td>1/2 </td></tr>\n",
       "<tr><td style=\"text-align: right;\">01</td><td>0   </td><td>1/2 </td><td>1/2 </td><td>0   </td></tr>\n",
       "<tr><td style=\"text-align: right;\">10</td><td>1/2 </td><td>0   </td><td>0   </td><td>1/2 </td></tr>\n",
       "<tr><td style=\"text-align: right;\">11</td><td>0   </td><td>1/2 </td><td>1/2 </td><td>0   </td></tr>\n",
       "</tbody>\n",
       "</table>"
      ],
      "text/plain": [
       "<IPython.core.display.HTML object>"
      ]
     },
     "metadata": {},
     "output_type": "display_data"
    }
   ],
   "source": [
    "#Making emission probability(brightness) as 40% with no multiphotons\n",
    "source = pcvl.Source(emission_probability=0.40) \n",
    "QPU = pcvl.Processor(\"Naive\",4,source)\n",
    "QPU.add(0,pcvl.BS.H())\n",
    "\n",
    "QPU.add(0,p)\n",
    "\n",
    "pcvl.pdisplay(QPU, recursive = True)\n",
    "\n",
    "states = {\n",
    "    pcvl.BasicState([1, 0, 1, 0]): \"00\",\n",
    "    pcvl.BasicState([1, 0, 0, 1]): \"01\",\n",
    "    pcvl.BasicState([0, 1, 1, 0]): \"10\",\n",
    "    pcvl.BasicState([0, 1, 0, 1]): \"11\"\n",
    "}\n",
    "\n",
    "ca = pcvl.algorithm.Analyzer(QPU, states)\n",
    "ca.compute(expected={\"00\": \"00\", \"01\": \"01\", \"10\": \"11\", \"11\": \"10\"})\n",
    "pcvl.pdisplay(ca)"
   ]
  },
  {
   "cell_type": "code",
   "execution_count": 18,
   "id": "4ccd9fe2-516f-4861-a403-388d0c8d12d5",
   "metadata": {},
   "outputs": [
    {
     "data": {
      "text/html": [
       "<table>\n",
       "<thead>\n",
       "<tr><th>state        </th><th>probability  </th></tr>\n",
       "</thead>\n",
       "<tbody>\n",
       "<tr><td>|0,0,0,0,0,0&gt;</td><td>9/25         </td></tr>\n",
       "<tr><td>|0,0,1,0,0,0&gt;</td><td>6/25         </td></tr>\n",
       "<tr><td>|1,0,0,0,0,0&gt;</td><td>6/25         </td></tr>\n",
       "<tr><td>|1,0,1,0,0,0&gt;</td><td>4/25         </td></tr>\n",
       "</tbody>\n",
       "</table>"
      ],
      "text/plain": [
       "<IPython.core.display.HTML object>"
      ]
     },
     "metadata": {},
     "output_type": "display_data"
    }
   ],
   "source": [
    "# Gives the source distribution\n",
    "QPU.with_input(pcvl.BasicState([1, 0, 1, 0]))\n",
    "pcvl.pdisplay(QPU.source_distribution, precision=1e-4)"
   ]
  },
  {
   "cell_type": "code",
   "execution_count": 19,
   "id": "c6600059-f91f-46f7-a396-4abf200d5d63",
   "metadata": {},
   "outputs": [
    {
     "data": {
      "text/html": [
       "<table>\n",
       "<thead>\n",
       "<tr><th>state    </th><th>probability  </th></tr>\n",
       "</thead>\n",
       "<tbody>\n",
       "<tr><td>|0,1,0,1&gt;</td><td>1/2          </td></tr>\n",
       "<tr><td>|1,0,1,0&gt;</td><td>1/2          </td></tr>\n",
       "</tbody>\n",
       "</table>"
      ],
      "text/plain": [
       "<IPython.core.display.HTML object>"
      ]
     },
     "metadata": {},
     "output_type": "display_data"
    }
   ],
   "source": [
    "# Gives the output distribution\n",
    "output_distribution=QPU.probs()[\"results\"]\n",
    "pcvl.pdisplay(output_distribution, max_v=10)"
   ]
  },
  {
   "cell_type": "code",
   "execution_count": 20,
   "id": "3ca47f51-013d-4466-b736-41a53e9ca40f",
   "metadata": {},
   "outputs": [
    {
     "data": {
      "text/html": [
       "<table>\n",
       "<thead>\n",
       "<tr><th style=\"text-align: right;\">  </th><th>00  </th><th>01  </th><th>10  </th><th>11  </th></tr>\n",
       "</thead>\n",
       "<tbody>\n",
       "<tr><td style=\"text-align: right;\">00</td><td>1/2 </td><td>0   </td><td>0   </td><td>1/2 </td></tr>\n",
       "<tr><td style=\"text-align: right;\">01</td><td>0   </td><td>1/2 </td><td>1/2 </td><td>0   </td></tr>\n",
       "<tr><td style=\"text-align: right;\">10</td><td>1/2 </td><td>0   </td><td>0   </td><td>1/2 </td></tr>\n",
       "<tr><td style=\"text-align: right;\">11</td><td>0   </td><td>1/2 </td><td>1/2 </td><td>0   </td></tr>\n",
       "</tbody>\n",
       "</table>"
      ],
      "text/plain": [
       "<IPython.core.display.HTML object>"
      ]
     },
     "metadata": {},
     "output_type": "display_data"
    }
   ],
   "source": [
    "#Making emission probability(brightness) as 100% with no multiphotons\n",
    "source = pcvl.Source(emission_probability=0.40) \n",
    "QPU = pcvl.Processor(\"Naive\",4,source)\n",
    "QPU.add(0,pcvl.BS.H())\n",
    "\n",
    "QPU.add(0,p)\n",
    "\n",
    "pcvl.pdisplay(QPU, recursive = True)\n",
    "\n",
    "states = {\n",
    "    pcvl.BasicState([1, 0, 1, 0]): \"00\",\n",
    "    pcvl.BasicState([1, 0, 0, 1]): \"01\",\n",
    "    pcvl.BasicState([0, 1, 1, 0]): \"10\",\n",
    "    pcvl.BasicState([0, 1, 0, 1]): \"11\"\n",
    "}\n",
    "\n",
    "ca = pcvl.algorithm.Analyzer(QPU, states)\n",
    "ca.compute(expected={\"00\": \"00\", \"01\": \"01\", \"10\": \"11\", \"11\": \"10\"})\n",
    "pcvl.pdisplay(ca)"
   ]
  },
  {
   "cell_type": "code",
   "execution_count": 21,
   "id": "5bb37cdd-f9c5-4d28-bc6f-2923dd6bb33a",
   "metadata": {},
   "outputs": [
    {
     "data": {
      "text/html": [
       "<table>\n",
       "<thead>\n",
       "<tr><th>state        </th><th>probability  </th></tr>\n",
       "</thead>\n",
       "<tbody>\n",
       "<tr><td>|0,0,0,0,0,0&gt;</td><td>9/25         </td></tr>\n",
       "<tr><td>|0,0,1,0,0,0&gt;</td><td>6/25         </td></tr>\n",
       "<tr><td>|1,0,0,0,0,0&gt;</td><td>6/25         </td></tr>\n",
       "<tr><td>|1,0,1,0,0,0&gt;</td><td>4/25         </td></tr>\n",
       "</tbody>\n",
       "</table>"
      ],
      "text/plain": [
       "<IPython.core.display.HTML object>"
      ]
     },
     "metadata": {},
     "output_type": "display_data"
    }
   ],
   "source": [
    "# Gives the source distribution\n",
    "QPU.with_input(pcvl.BasicState([1, 0, 1, 0]))\n",
    "pcvl.pdisplay(QPU.source_distribution, precision=1e-4)"
   ]
  },
  {
   "cell_type": "code",
   "execution_count": 22,
   "id": "9b0a84ac-e042-4c7d-84fe-1f797833e20c",
   "metadata": {},
   "outputs": [
    {
     "data": {
      "text/html": [
       "<table>\n",
       "<thead>\n",
       "<tr><th>state    </th><th>probability  </th></tr>\n",
       "</thead>\n",
       "<tbody>\n",
       "<tr><td>|0,1,0,1&gt;</td><td>1/2          </td></tr>\n",
       "<tr><td>|1,0,1,0&gt;</td><td>1/2          </td></tr>\n",
       "</tbody>\n",
       "</table>"
      ],
      "text/plain": [
       "<IPython.core.display.HTML object>"
      ]
     },
     "metadata": {},
     "output_type": "display_data"
    }
   ],
   "source": [
    "# Gives the output distribution\n",
    "output_distribution=QPU.probs()[\"results\"]\n",
    "pcvl.pdisplay(output_distribution, max_v=10)"
   ]
  },
  {
   "cell_type": "code",
   "execution_count": 23,
   "id": "00d735a3-91ff-4f51-bb4b-40c4f02f6319",
   "metadata": {},
   "outputs": [
    {
     "data": {
      "text/html": [
       "<table>\n",
       "<thead>\n",
       "<tr><th style=\"text-align: right;\">  </th><th>00  </th><th>01  </th><th>10  </th><th>11  </th></tr>\n",
       "</thead>\n",
       "<tbody>\n",
       "<tr><td style=\"text-align: right;\">00</td><td>1/2 </td><td>0   </td><td>0   </td><td>1/2 </td></tr>\n",
       "<tr><td style=\"text-align: right;\">01</td><td>0   </td><td>1/2 </td><td>1/2 </td><td>0   </td></tr>\n",
       "<tr><td style=\"text-align: right;\">10</td><td>1/2 </td><td>0   </td><td>0   </td><td>1/2 </td></tr>\n",
       "<tr><td style=\"text-align: right;\">11</td><td>0   </td><td>1/2 </td><td>1/2 </td><td>0   </td></tr>\n",
       "</tbody>\n",
       "</table>"
      ],
      "text/plain": [
       "<IPython.core.display.HTML object>"
      ]
     },
     "metadata": {},
     "output_type": "display_data"
    }
   ],
   "source": [
    "#Making emission probability(brightness) as 10% with no multiphotons\n",
    "source = pcvl.Source(emission_probability=0.10) \n",
    "QPU = pcvl.Processor(\"Naive\",4,source)\n",
    "QPU.add(0,pcvl.BS.H())\n",
    "\n",
    "QPU.add(0,p)\n",
    "\n",
    "pcvl.pdisplay(QPU, recursive = True)\n",
    "\n",
    "states = {\n",
    "    pcvl.BasicState([1, 0, 1, 0]): \"00\",\n",
    "    pcvl.BasicState([1, 0, 0, 1]): \"01\",\n",
    "    pcvl.BasicState([0, 1, 1, 0]): \"10\",\n",
    "    pcvl.BasicState([0, 1, 0, 1]): \"11\"\n",
    "}\n",
    "\n",
    "ca = pcvl.algorithm.Analyzer(QPU, states)\n",
    "ca.compute(expected={\"00\": \"00\", \"01\": \"01\", \"10\": \"11\", \"11\": \"10\"})\n",
    "pcvl.pdisplay(ca)"
   ]
  },
  {
   "cell_type": "code",
   "execution_count": 24,
   "id": "369fb794-dd24-48bb-9139-b146c4748ee6",
   "metadata": {},
   "outputs": [
    {
     "data": {
      "text/html": [
       "<table>\n",
       "<thead>\n",
       "<tr><th>state        </th><th style=\"text-align: right;\">  probability</th></tr>\n",
       "</thead>\n",
       "<tbody>\n",
       "<tr><td>|0,0,0,0,0,0&gt;</td><td style=\"text-align: right;\">         0.81</td></tr>\n",
       "<tr><td>|0,0,1,0,0,0&gt;</td><td style=\"text-align: right;\">         0.09</td></tr>\n",
       "<tr><td>|1,0,0,0,0,0&gt;</td><td style=\"text-align: right;\">         0.09</td></tr>\n",
       "<tr><td>|1,0,1,0,0,0&gt;</td><td style=\"text-align: right;\">         0.01</td></tr>\n",
       "</tbody>\n",
       "</table>"
      ],
      "text/plain": [
       "<IPython.core.display.HTML object>"
      ]
     },
     "metadata": {},
     "output_type": "display_data"
    }
   ],
   "source": [
    "# Gives the source distribution\n",
    "QPU.with_input(pcvl.BasicState([1, 0, 1, 0]))\n",
    "pcvl.pdisplay(QPU.source_distribution, precision=1e-4)"
   ]
  },
  {
   "cell_type": "code",
   "execution_count": 25,
   "id": "10b0658a-312c-480e-96d6-cf6fd2735438",
   "metadata": {},
   "outputs": [
    {
     "data": {
      "text/html": [
       "<table>\n",
       "<thead>\n",
       "<tr><th>state    </th><th>probability  </th></tr>\n",
       "</thead>\n",
       "<tbody>\n",
       "<tr><td>|0,1,0,1&gt;</td><td>1/2          </td></tr>\n",
       "<tr><td>|1,0,1,0&gt;</td><td>1/2          </td></tr>\n",
       "</tbody>\n",
       "</table>"
      ],
      "text/plain": [
       "<IPython.core.display.HTML object>"
      ]
     },
     "metadata": {},
     "output_type": "display_data"
    }
   ],
   "source": [
    "# Gives the output distribution\n",
    "output_distribution=QPU.probs()[\"results\"]\n",
    "pcvl.pdisplay(output_distribution, max_v=10)"
   ]
  },
  {
   "cell_type": "code",
   "execution_count": null,
   "id": "b03cd215-489d-467c-8e99-d6fb1a938c46",
   "metadata": {},
   "outputs": [],
   "source": []
  }
 ],
 "metadata": {
  "kernelspec": {
   "display_name": "Python 3 [Default]",
   "language": "python",
   "name": "python3"
  },
  "language_info": {
   "codemirror_mode": {
    "name": "ipython",
    "version": 3
   },
   "file_extension": ".py",
   "mimetype": "text/x-python",
   "name": "python",
   "nbconvert_exporter": "python",
   "pygments_lexer": "ipython3",
   "version": "3.9.12"
  }
 },
 "nbformat": 4,
 "nbformat_minor": 5
}
