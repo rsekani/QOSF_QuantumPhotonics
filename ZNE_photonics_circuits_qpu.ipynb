{
 "cells": [
  {
   "cell_type": "markdown",
   "id": "42b2ad78-bfc5-4536-ab41-ad4ce2b99c5e",
   "metadata": {},
   "source": [
    "# Zero Noise Extrapolation for photonic quantum circuits\n",
    "\n",
    "Results from the Quantum Open Source Foundation (QOSF) 2023 Cohort 7\n",
    "\n",
    "**Ramachandran SS and Victor Onofre**"
   ]
  },
  {
   "cell_type": "markdown",
   "id": "5ec91e1c-2d07-4f46-b0ed-efcf33941f97",
   "metadata": {},
   "source": [
    "In this notebook, we explore a naive noise model for the beam splitters in the Rx and Ry convention and compare results with the perfect simulations. Also, a simple version of Zero Noise Extrapolation (ZNE) is implemented with the noise model and real QPU."
   ]
  },
  {
   "cell_type": "markdown",
   "id": "a572c6df",
   "metadata": {},
   "source": [
    "1. [Beam Splitters as rotations](#BS_rotations)\n",
    "    1. [Rotations to compute the identity operator](#rotation_identity)\n",
    "2. [Simulations](#simulations)\n",
    "    1. [Noiseless simulation](#perfect_simulation)\n",
    "    2. [Noisy simulation](#noisy_simulation)\n",
    "3. [Zero Noise Extrapolation (ZNE)](#ZNE) \n",
    "    1. [ZNE with 2 Rx](#ZNE_2_rx) \n",
    "    2. [ZNE with 2 Rx and 2 Ry](#ZNE_2_rx_ry) \n",
    "4. [QPU Results](#QPU) \n",
    "5. [Conclusions and future work](#conclusions) "
   ]
  },
  {
   "cell_type": "code",
   "execution_count": 1,
   "id": "b97ebc06-5e53-49e9-8a88-f01387cdc3b3",
   "metadata": {
    "tags": []
   },
   "outputs": [],
   "source": [
    "import perceval as pcvl\n",
    "import sympy as sp\n",
    "import numpy as np\n",
    "from perceval.components import BS, PS\n",
    "import random\n",
    "import matplotlib.pyplot as plt\n",
    "from perceval.algorithm import Sampler"
   ]
  },
  {
   "cell_type": "markdown",
   "id": "4018d701",
   "metadata": {},
   "source": [
    "# 1. Beam Splitters as rotations <a name=\"BS_rotations\"></a>"
   ]
  },
  {
   "cell_type": "markdown",
   "id": "093b4a78-b5ba-430b-bc58-2982a969d8ff",
   "metadata": {},
   "source": [
    "Beam splitters are optical devices that couple two spatial modes together, acting on |0,1> and |1,0> . Three specialized conventions are defined (Rx, Ry and H) [1], with a single parameter ($\\theta = \\pi/2$), as follows:"
   ]
  },
  {
   "cell_type": "code",
   "execution_count": 2,
   "id": "adc2958d-57e0-44f1-8ad8-e75545cb8dd1",
   "metadata": {
    "tags": []
   },
   "outputs": [],
   "source": [
    "bs_rx = BS.Rx()\n",
    "bs_ry = BS.Ry()\n",
    "bs_h = BS.H()"
   ]
  },
  {
   "cell_type": "code",
   "execution_count": 3,
   "id": "6caec4b0-085e-45de-a7cd-f520447e24d3",
   "metadata": {
    "tags": []
   },
   "outputs": [
    {
     "name": "stdout",
     "output_type": "stream",
     "text": [
      "A Beam-Splitter in Rx convention for theta pi/2:\n"
     ]
    },
    {
     "data": {
      "text/html": [
       "$\\left[\\begin{matrix}\\frac{\\sqrt{2}}{2} & \\frac{\\sqrt{2} i}{2}\\\\\\frac{\\sqrt{2} i}{2} & \\frac{\\sqrt{2}}{2}\\end{matrix}\\right]$"
      ],
      "text/plain": [
       "<IPython.core.display.HTML object>"
      ]
     },
     "metadata": {},
     "output_type": "display_data"
    },
    {
     "name": "stdout",
     "output_type": "stream",
     "text": [
      "Visual representation of the same Beam-Splitter:\n"
     ]
    },
    {
     "data": {
      "image/svg+xml": [
       "<?xml version=\"1.0\" encoding=\"UTF-8\"?>\n",
       "<svg xmlns=\"http://www.w3.org/2000/svg\" xmlns:xlink=\"http://www.w3.org/1999/xlink\"\n",
       "     width=\"257.5\" height=\"156.25\" viewBox=\"-28.0 0 206.0 125.0\">\n",
       "<defs>\n",
       "</defs>\n",
       "<path d=\"M10,25 L25,25\" stroke-width=\"3\" stroke=\"darkred\" stroke-linejoin=\"miter\" fill=\"none\" />\n",
       "<path d=\"M10,75 L25,75\" stroke-width=\"3\" stroke=\"darkred\" stroke-linejoin=\"miter\" fill=\"none\" />\n",
       "<path d=\"M25,25 L53,25 L72,44\" stroke=\"darkred\" stroke-width=\"3\" fill=\"none\" />\n",
       "<path d=\"M78,44 L97,25 L125,25\" stroke=\"darkred\" stroke-width=\"3\" fill=\"none\" />\n",
       "<path d=\"M25,75 L53,75 L72,56\" stroke=\"darkred\" stroke-width=\"3\" fill=\"none\" />\n",
       "<path d=\"M78,56 L97,75 L125,75\" stroke=\"darkred\" stroke-width=\"3\" fill=\"none\" />\n",
       "<path d=\"M50,43 L100,43 L100,57 L50,57 Z\" stroke=\"black\" fill=\"black\" stroke-linejoin=\"miter\" />\n",
       "<text x=\"75\" y=\"85\" font-size=\"7\" text-anchor=\"middle\"></text>\n",
       "<text x=\"75\" y=\"26\" font-size=\"7\" text-anchor=\"middle\"></text>\n",
       "<path d=\"M50,43 L100,43 L100,47 L50,47 Z\" stroke=\"black\" fill=\"lightgray\" stroke-linejoin=\"miter\" />\n",
       "<path d=\"M93,50 L103,50 L103,60 L93,60 Z\" stroke=\"black\" fill=\"thistle\" stroke-linejoin=\"miter\" />\n",
       "<text x=\"98\" y=\"57\" font-size=\"6\" text-anchor=\"middle\">Rx</text>\n",
       "<path d=\"M125,25 L140,25\" stroke-width=\"3\" stroke=\"darkred\" stroke-linejoin=\"miter\" fill=\"none\" />\n",
       "<path d=\"M125,75 L140,75\" stroke-width=\"3\" stroke=\"darkred\" stroke-linejoin=\"miter\" fill=\"none\" />\n",
       "<text x=\"150\" y=\"28\" font-size=\"6\" text-anchor=\"end\">0</text>\n",
       "<text x=\"150\" y=\"78\" font-size=\"6\" text-anchor=\"end\">1</text>\n",
       "<text x=\"0\" y=\"28\" font-size=\"6\" text-anchor=\"start\">0</text>\n",
       "<text x=\"0\" y=\"78\" font-size=\"6\" text-anchor=\"start\">1</text>\n",
       "</svg>"
      ],
      "text/plain": [
       "<drawsvg.drawing.Drawing at 0x7f6bdf7f6430>"
      ]
     },
     "execution_count": 3,
     "metadata": {},
     "output_type": "execute_result"
    }
   ],
   "source": [
    "print(\"A Beam-Splitter in Rx convention for theta pi/2:\")\n",
    "pcvl.pdisplay(bs_rx.compute_unitary())# Matrix representation of the beam splitter with the rotation x (Rx) convention \n",
    "print(\"Visual representation of the same Beam-Splitter:\")\n",
    "pcvl.pdisplay(bs_rx) # Visual representation in circuit of Rx  "
   ]
  },
  {
   "cell_type": "markdown",
   "id": "7d7e5785",
   "metadata": {},
   "source": [
    "If we change the angle to $\\theta = \\pi$, we have an X operator with a global phase $i$."
   ]
  },
  {
   "cell_type": "code",
   "execution_count": 4,
   "id": "8c1a0196-5e34-41a0-bd7a-faf6aa959ef3",
   "metadata": {
    "tags": []
   },
   "outputs": [
    {
     "name": "stdout",
     "output_type": "stream",
     "text": [
      "A Beam-Splitter in Rx convention for theta pi:\n"
     ]
    },
    {
     "data": {
      "text/html": [
       "$\\left[\\begin{matrix}0 & i\\\\i & 0\\end{matrix}\\right]$"
      ],
      "text/plain": [
       "<IPython.core.display.HTML object>"
      ]
     },
     "metadata": {},
     "output_type": "display_data"
    }
   ],
   "source": [
    "bs_rx_2 = BS.Rx(theta=np.pi)\n",
    "print(\"A Beam-Splitter in Rx convention for theta pi:\")\n",
    "pcvl.pdisplay(bs_rx_2.compute_unitary())"
   ]
  },
  {
   "cell_type": "code",
   "execution_count": 5,
   "id": "14c263cc-4025-4322-aa90-803afc8d81c8",
   "metadata": {
    "tags": []
   },
   "outputs": [
    {
     "name": "stdout",
     "output_type": "stream",
     "text": [
      "A Beam-Splitter in Ry convention for theta pi/2:\n"
     ]
    },
    {
     "data": {
      "text/html": [
       "$\\left[\\begin{matrix}\\frac{\\sqrt{2}}{2} & - \\frac{\\sqrt{2}}{2}\\\\\\frac{\\sqrt{2}}{2} & \\frac{\\sqrt{2}}{2}\\end{matrix}\\right]$"
      ],
      "text/plain": [
       "<IPython.core.display.HTML object>"
      ]
     },
     "metadata": {},
     "output_type": "display_data"
    },
    {
     "name": "stdout",
     "output_type": "stream",
     "text": [
      "Visual representation of the same Beam-Splitter:\n"
     ]
    },
    {
     "data": {
      "image/svg+xml": [
       "<?xml version=\"1.0\" encoding=\"UTF-8\"?>\n",
       "<svg xmlns=\"http://www.w3.org/2000/svg\" xmlns:xlink=\"http://www.w3.org/1999/xlink\"\n",
       "     width=\"257.5\" height=\"156.25\" viewBox=\"-28.0 0 206.0 125.0\">\n",
       "<defs>\n",
       "</defs>\n",
       "<path d=\"M10,25 L25,25\" stroke-width=\"3\" stroke=\"darkred\" stroke-linejoin=\"miter\" fill=\"none\" />\n",
       "<path d=\"M10,75 L25,75\" stroke-width=\"3\" stroke=\"darkred\" stroke-linejoin=\"miter\" fill=\"none\" />\n",
       "<path d=\"M25,25 L53,25 L72,44\" stroke=\"darkred\" stroke-width=\"3\" fill=\"none\" />\n",
       "<path d=\"M78,44 L97,25 L125,25\" stroke=\"darkred\" stroke-width=\"3\" fill=\"none\" />\n",
       "<path d=\"M25,75 L53,75 L72,56\" stroke=\"darkred\" stroke-width=\"3\" fill=\"none\" />\n",
       "<path d=\"M78,56 L97,75 L125,75\" stroke=\"darkred\" stroke-width=\"3\" fill=\"none\" />\n",
       "<path d=\"M50,43 L100,43 L100,57 L50,57 Z\" stroke=\"black\" fill=\"black\" stroke-linejoin=\"miter\" />\n",
       "<text x=\"75\" y=\"85\" font-size=\"7\" text-anchor=\"middle\"></text>\n",
       "<text x=\"75\" y=\"26\" font-size=\"7\" text-anchor=\"middle\"></text>\n",
       "<path d=\"M50,43 L100,43 L100,47 L50,47 Z\" stroke=\"black\" fill=\"lightgray\" stroke-linejoin=\"miter\" />\n",
       "<path d=\"M93,50 L103,50 L103,60 L93,60 Z\" stroke=\"black\" fill=\"lightsalmon\" stroke-linejoin=\"miter\" />\n",
       "<text x=\"98\" y=\"57\" font-size=\"6\" text-anchor=\"middle\">Ry</text>\n",
       "<path d=\"M125,25 L140,25\" stroke-width=\"3\" stroke=\"darkred\" stroke-linejoin=\"miter\" fill=\"none\" />\n",
       "<path d=\"M125,75 L140,75\" stroke-width=\"3\" stroke=\"darkred\" stroke-linejoin=\"miter\" fill=\"none\" />\n",
       "<text x=\"150\" y=\"28\" font-size=\"6\" text-anchor=\"end\">0</text>\n",
       "<text x=\"150\" y=\"78\" font-size=\"6\" text-anchor=\"end\">1</text>\n",
       "<text x=\"0\" y=\"28\" font-size=\"6\" text-anchor=\"start\">0</text>\n",
       "<text x=\"0\" y=\"78\" font-size=\"6\" text-anchor=\"start\">1</text>\n",
       "</svg>"
      ],
      "text/plain": [
       "<drawsvg.drawing.Drawing at 0x7f6c3468e4c0>"
      ]
     },
     "execution_count": 5,
     "metadata": {},
     "output_type": "execute_result"
    }
   ],
   "source": [
    "print(\"A Beam-Splitter in Ry convention for theta pi/2:\")\n",
    "pcvl.pdisplay(bs_ry.compute_unitary())# Matrix representation of the beam splitter with the rotation y (Ry) convention \n",
    "print(\"Visual representation of the same Beam-Splitter:\")\n",
    "pcvl.pdisplay(bs_ry) # Visual representation in circuit of Ry  "
   ]
  },
  {
   "cell_type": "code",
   "execution_count": 6,
   "id": "47947e21",
   "metadata": {
    "tags": []
   },
   "outputs": [
    {
     "name": "stdout",
     "output_type": "stream",
     "text": [
      "A Beam-Splitter in Ry convention for theta pi:\n"
     ]
    },
    {
     "data": {
      "text/html": [
       "$\\left[\\begin{matrix}0 & -1\\\\1 & 0\\end{matrix}\\right]$"
      ],
      "text/plain": [
       "<IPython.core.display.HTML object>"
      ]
     },
     "metadata": {},
     "output_type": "display_data"
    }
   ],
   "source": [
    "bs_ry_2 = BS.Ry(theta=np.pi)\n",
    "print(\"A Beam-Splitter in Ry convention for theta pi:\")\n",
    "pcvl.pdisplay(bs_ry_2.compute_unitary())"
   ]
  },
  {
   "cell_type": "markdown",
   "id": "0c3aebc1-8212-44b4-9b40-8960d7f85a3a",
   "metadata": {
    "tags": []
   },
   "source": [
    "## 1.1 Rotations to compute the identity operator <a name=\"rotation_identity\"></a>"
   ]
  },
  {
   "cell_type": "markdown",
   "id": "f95a5c51",
   "metadata": {},
   "source": [
    "Using the Beam-Splitter we can compute the identiy operator. If we use two BS in Rx convention each with $\\theta = \\pi$, we obtain the identity operator with a global phase $-1$"
   ]
  },
  {
   "cell_type": "code",
   "execution_count": 7,
   "id": "da5ec714-8b18-41d9-8a88-8279d6d5ab01",
   "metadata": {
    "tags": []
   },
   "outputs": [
    {
     "name": "stdout",
     "output_type": "stream",
     "text": [
      "Two Beam-Splitter in the Rx convention with theta pi gives an identiy operator with a global phase:\n"
     ]
    },
    {
     "data": {
      "text/html": [
       "$\\left[\\begin{matrix}-1 & 0\\\\0 & -1\\end{matrix}\\right]$"
      ],
      "text/plain": [
       "<IPython.core.display.HTML object>"
      ]
     },
     "metadata": {},
     "output_type": "display_data"
    },
    {
     "data": {
      "image/svg+xml": [
       "<?xml version=\"1.0\" encoding=\"UTF-8\"?>\n",
       "<svg xmlns=\"http://www.w3.org/2000/svg\" xmlns:xlink=\"http://www.w3.org/1999/xlink\"\n",
       "     width=\"382.5\" height=\"156.25\" viewBox=\"-28.0 0 306.0 125.0\">\n",
       "<defs>\n",
       "</defs>\n",
       "<path d=\"M10,25 L25,25\" stroke-width=\"3\" stroke=\"darkred\" stroke-linejoin=\"miter\" fill=\"none\" />\n",
       "<path d=\"M10,75 L25,75\" stroke-width=\"3\" stroke=\"darkred\" stroke-linejoin=\"miter\" fill=\"none\" />\n",
       "<path d=\"M25,25 L53,25 L72,44\" stroke=\"darkred\" stroke-width=\"3\" fill=\"none\" />\n",
       "<path d=\"M78,44 L97,25 L125,25\" stroke=\"darkred\" stroke-width=\"3\" fill=\"none\" />\n",
       "<path d=\"M25,75 L53,75 L72,56\" stroke=\"darkred\" stroke-width=\"3\" fill=\"none\" />\n",
       "<path d=\"M78,56 L97,75 L125,75\" stroke=\"darkred\" stroke-width=\"3\" fill=\"none\" />\n",
       "<path d=\"M50,43 L100,43 L100,57 L50,57 Z\" stroke=\"black\" fill=\"black\" stroke-linejoin=\"miter\" />\n",
       "<text x=\"75\" y=\"80\" font-size=\"7\" text-anchor=\"middle\"></text>\n",
       "<text x=\"75\" y=\"26\" font-size=\"7\" text-anchor=\"middle\">Θ=pi</text>\n",
       "<path d=\"M50,43 L100,43 L100,47 L50,47 Z\" stroke=\"black\" fill=\"lightgray\" stroke-linejoin=\"miter\" />\n",
       "<path d=\"M93,50 L103,50 L103,60 L93,60 Z\" stroke=\"black\" fill=\"thistle\" stroke-linejoin=\"miter\" />\n",
       "<text x=\"98\" y=\"57\" font-size=\"6\" text-anchor=\"middle\">Rx</text>\n",
       "<path d=\"M125,25 L153,25 L172,44\" stroke=\"darkred\" stroke-width=\"3\" fill=\"none\" />\n",
       "<path d=\"M178,44 L197,25 L225,25\" stroke=\"darkred\" stroke-width=\"3\" fill=\"none\" />\n",
       "<path d=\"M125,75 L153,75 L172,56\" stroke=\"darkred\" stroke-width=\"3\" fill=\"none\" />\n",
       "<path d=\"M178,56 L197,75 L225,75\" stroke=\"darkred\" stroke-width=\"3\" fill=\"none\" />\n",
       "<path d=\"M150,43 L200,43 L200,57 L150,57 Z\" stroke=\"black\" fill=\"black\" stroke-linejoin=\"miter\" />\n",
       "<text x=\"175\" y=\"80\" font-size=\"7\" text-anchor=\"middle\"></text>\n",
       "<text x=\"175\" y=\"26\" font-size=\"7\" text-anchor=\"middle\">Θ=pi</text>\n",
       "<path d=\"M150,43 L200,43 L200,47 L150,47 Z\" stroke=\"black\" fill=\"lightgray\" stroke-linejoin=\"miter\" />\n",
       "<path d=\"M193,50 L203,50 L203,60 L193,60 Z\" stroke=\"black\" fill=\"thistle\" stroke-linejoin=\"miter\" />\n",
       "<text x=\"198\" y=\"57\" font-size=\"6\" text-anchor=\"middle\">Rx</text>\n",
       "<path d=\"M225,25 L240,25\" stroke-width=\"3\" stroke=\"darkred\" stroke-linejoin=\"miter\" fill=\"none\" />\n",
       "<path d=\"M225,75 L240,75\" stroke-width=\"3\" stroke=\"darkred\" stroke-linejoin=\"miter\" fill=\"none\" />\n",
       "<text x=\"250\" y=\"28\" font-size=\"6\" text-anchor=\"end\">0</text>\n",
       "<text x=\"250\" y=\"78\" font-size=\"6\" text-anchor=\"end\">1</text>\n",
       "<text x=\"0\" y=\"28\" font-size=\"6\" text-anchor=\"start\">0</text>\n",
       "<text x=\"0\" y=\"78\" font-size=\"6\" text-anchor=\"start\">1</text>\n",
       "</svg>"
      ],
      "text/plain": [
       "<drawsvg.drawing.Drawing at 0x7f6c346ea130>"
      ]
     },
     "execution_count": 7,
     "metadata": {},
     "output_type": "execute_result"
    }
   ],
   "source": [
    "identity_with_phase = (pcvl.Circuit(2, name=\"identity\")\n",
    "           .add(0, bs_rx_2)\n",
    "           .add(0, bs_rx_2))\n",
    "\n",
    "print(\"Two Beam-Splitter in the Rx convention with theta pi gives an identiy operator with a global phase:\")\n",
    "pcvl.pdisplay(identity_with_phase.compute_unitary())\n",
    "pcvl.pdisplay(identity_with_phase)"
   ]
  },
  {
   "cell_type": "markdown",
   "id": "dd12d385",
   "metadata": {},
   "source": [
    "If we repeat Rx with $\\theta = \\pi$ four times, we obtain the identity operator without the globla phase"
   ]
  },
  {
   "cell_type": "code",
   "execution_count": 8,
   "id": "39e2e43b-9b64-4de2-befc-3b2d2aecee55",
   "metadata": {
    "tags": []
   },
   "outputs": [
    {
     "name": "stdout",
     "output_type": "stream",
     "text": [
      "Four Beam-Splitter in the Rx convention with theta pi gives an identiy operator:\n"
     ]
    },
    {
     "data": {
      "text/html": [
       "$\\left[\\begin{matrix}1 & 0\\\\0 & 1\\end{matrix}\\right]$"
      ],
      "text/plain": [
       "<IPython.core.display.HTML object>"
      ]
     },
     "metadata": {},
     "output_type": "display_data"
    },
    {
     "data": {
      "image/svg+xml": [
       "<?xml version=\"1.0\" encoding=\"UTF-8\"?>\n",
       "<svg xmlns=\"http://www.w3.org/2000/svg\" xmlns:xlink=\"http://www.w3.org/1999/xlink\"\n",
       "     width=\"632.5\" height=\"156.25\" viewBox=\"-28.0 0 506.0 125.0\">\n",
       "<defs>\n",
       "</defs>\n",
       "<path d=\"M10,25 L25,25\" stroke-width=\"3\" stroke=\"darkred\" stroke-linejoin=\"miter\" fill=\"none\" />\n",
       "<path d=\"M10,75 L25,75\" stroke-width=\"3\" stroke=\"darkred\" stroke-linejoin=\"miter\" fill=\"none\" />\n",
       "<path d=\"M25,25 L53,25 L72,44\" stroke=\"darkred\" stroke-width=\"3\" fill=\"none\" />\n",
       "<path d=\"M78,44 L97,25 L125,25\" stroke=\"darkred\" stroke-width=\"3\" fill=\"none\" />\n",
       "<path d=\"M25,75 L53,75 L72,56\" stroke=\"darkred\" stroke-width=\"3\" fill=\"none\" />\n",
       "<path d=\"M78,56 L97,75 L125,75\" stroke=\"darkred\" stroke-width=\"3\" fill=\"none\" />\n",
       "<path d=\"M50,43 L100,43 L100,57 L50,57 Z\" stroke=\"black\" fill=\"black\" stroke-linejoin=\"miter\" />\n",
       "<text x=\"75\" y=\"80\" font-size=\"7\" text-anchor=\"middle\"></text>\n",
       "<text x=\"75\" y=\"26\" font-size=\"7\" text-anchor=\"middle\">Θ=pi</text>\n",
       "<path d=\"M50,43 L100,43 L100,47 L50,47 Z\" stroke=\"black\" fill=\"lightgray\" stroke-linejoin=\"miter\" />\n",
       "<path d=\"M93,50 L103,50 L103,60 L93,60 Z\" stroke=\"black\" fill=\"thistle\" stroke-linejoin=\"miter\" />\n",
       "<text x=\"98\" y=\"57\" font-size=\"6\" text-anchor=\"middle\">Rx</text>\n",
       "<path d=\"M125,25 L153,25 L172,44\" stroke=\"darkred\" stroke-width=\"3\" fill=\"none\" />\n",
       "<path d=\"M178,44 L197,25 L225,25\" stroke=\"darkred\" stroke-width=\"3\" fill=\"none\" />\n",
       "<path d=\"M125,75 L153,75 L172,56\" stroke=\"darkred\" stroke-width=\"3\" fill=\"none\" />\n",
       "<path d=\"M178,56 L197,75 L225,75\" stroke=\"darkred\" stroke-width=\"3\" fill=\"none\" />\n",
       "<path d=\"M150,43 L200,43 L200,57 L150,57 Z\" stroke=\"black\" fill=\"black\" stroke-linejoin=\"miter\" />\n",
       "<text x=\"175\" y=\"80\" font-size=\"7\" text-anchor=\"middle\"></text>\n",
       "<text x=\"175\" y=\"26\" font-size=\"7\" text-anchor=\"middle\">Θ=pi</text>\n",
       "<path d=\"M150,43 L200,43 L200,47 L150,47 Z\" stroke=\"black\" fill=\"lightgray\" stroke-linejoin=\"miter\" />\n",
       "<path d=\"M193,50 L203,50 L203,60 L193,60 Z\" stroke=\"black\" fill=\"thistle\" stroke-linejoin=\"miter\" />\n",
       "<text x=\"198\" y=\"57\" font-size=\"6\" text-anchor=\"middle\">Rx</text>\n",
       "<path d=\"M225,25 L253,25 L272,44\" stroke=\"darkred\" stroke-width=\"3\" fill=\"none\" />\n",
       "<path d=\"M278,44 L297,25 L325,25\" stroke=\"darkred\" stroke-width=\"3\" fill=\"none\" />\n",
       "<path d=\"M225,75 L253,75 L272,56\" stroke=\"darkred\" stroke-width=\"3\" fill=\"none\" />\n",
       "<path d=\"M278,56 L297,75 L325,75\" stroke=\"darkred\" stroke-width=\"3\" fill=\"none\" />\n",
       "<path d=\"M250,43 L300,43 L300,57 L250,57 Z\" stroke=\"black\" fill=\"black\" stroke-linejoin=\"miter\" />\n",
       "<text x=\"275\" y=\"80\" font-size=\"7\" text-anchor=\"middle\"></text>\n",
       "<text x=\"275\" y=\"26\" font-size=\"7\" text-anchor=\"middle\">Θ=pi</text>\n",
       "<path d=\"M250,43 L300,43 L300,47 L250,47 Z\" stroke=\"black\" fill=\"lightgray\" stroke-linejoin=\"miter\" />\n",
       "<path d=\"M293,50 L303,50 L303,60 L293,60 Z\" stroke=\"black\" fill=\"thistle\" stroke-linejoin=\"miter\" />\n",
       "<text x=\"298\" y=\"57\" font-size=\"6\" text-anchor=\"middle\">Rx</text>\n",
       "<path d=\"M325,25 L353,25 L372,44\" stroke=\"darkred\" stroke-width=\"3\" fill=\"none\" />\n",
       "<path d=\"M378,44 L397,25 L425,25\" stroke=\"darkred\" stroke-width=\"3\" fill=\"none\" />\n",
       "<path d=\"M325,75 L353,75 L372,56\" stroke=\"darkred\" stroke-width=\"3\" fill=\"none\" />\n",
       "<path d=\"M378,56 L397,75 L425,75\" stroke=\"darkred\" stroke-width=\"3\" fill=\"none\" />\n",
       "<path d=\"M350,43 L400,43 L400,57 L350,57 Z\" stroke=\"black\" fill=\"black\" stroke-linejoin=\"miter\" />\n",
       "<text x=\"375\" y=\"80\" font-size=\"7\" text-anchor=\"middle\"></text>\n",
       "<text x=\"375\" y=\"26\" font-size=\"7\" text-anchor=\"middle\">Θ=pi</text>\n",
       "<path d=\"M350,43 L400,43 L400,47 L350,47 Z\" stroke=\"black\" fill=\"lightgray\" stroke-linejoin=\"miter\" />\n",
       "<path d=\"M393,50 L403,50 L403,60 L393,60 Z\" stroke=\"black\" fill=\"thistle\" stroke-linejoin=\"miter\" />\n",
       "<text x=\"398\" y=\"57\" font-size=\"6\" text-anchor=\"middle\">Rx</text>\n",
       "<path d=\"M425,25 L440,25\" stroke-width=\"3\" stroke=\"darkred\" stroke-linejoin=\"miter\" fill=\"none\" />\n",
       "<path d=\"M425,75 L440,75\" stroke-width=\"3\" stroke=\"darkred\" stroke-linejoin=\"miter\" fill=\"none\" />\n",
       "<text x=\"450\" y=\"28\" font-size=\"6\" text-anchor=\"end\">0</text>\n",
       "<text x=\"450\" y=\"78\" font-size=\"6\" text-anchor=\"end\">1</text>\n",
       "<text x=\"0\" y=\"28\" font-size=\"6\" text-anchor=\"start\">0</text>\n",
       "<text x=\"0\" y=\"78\" font-size=\"6\" text-anchor=\"start\">1</text>\n",
       "</svg>"
      ],
      "text/plain": [
       "<drawsvg.drawing.Drawing at 0x7f6c346ea6d0>"
      ]
     },
     "execution_count": 8,
     "metadata": {},
     "output_type": "execute_result"
    }
   ],
   "source": [
    "identity = (pcvl.Circuit(2, name=\"identity\")\n",
    "           .add(0, bs_rx_2)\n",
    "           .add(0, bs_rx_2)\n",
    "           .add(0, bs_rx_2)\n",
    "           .add(0, bs_rx_2))\n",
    "\n",
    "print(\"Four Beam-Splitter in the Rx convention with theta pi gives an identiy operator:\")\n",
    "pcvl.pdisplay(identity.compute_unitary())\n",
    "pcvl.pdisplay(identity)"
   ]
  },
  {
   "cell_type": "markdown",
   "id": "67524b17",
   "metadata": {},
   "source": [
    "# 2. Simulations <a id=\"simulations\"></a>"
   ]
  },
  {
   "cell_type": "markdown",
   "id": "647e1cbf-76ad-4139-9dbf-01b1b21fba3d",
   "metadata": {},
   "source": [
    "## 2.1 Noiseless simulation <a id=\"perfect_simulation\"></a>"
   ]
  },
  {
   "cell_type": "code",
   "execution_count": 9,
   "id": "945cf3bd-d007-4951-bb3a-d306c834ac13",
   "metadata": {
    "tags": []
   },
   "outputs": [],
   "source": [
    "source = pcvl.Source()"
   ]
  },
  {
   "cell_type": "code",
   "execution_count": 10,
   "id": "34fae14d-30ed-4b3e-89ae-110de163143a",
   "metadata": {
    "tags": []
   },
   "outputs": [],
   "source": [
    "p = pcvl.Processor(\"SLOS\", identity_with_phase , source)"
   ]
  },
  {
   "cell_type": "code",
   "execution_count": 11,
   "id": "d4ff3112-1811-4389-b31e-0af9d5edb960",
   "metadata": {
    "tags": []
   },
   "outputs": [],
   "source": [
    "p.with_input(pcvl.BasicState([1, 0]))"
   ]
  },
  {
   "cell_type": "markdown",
   "id": "0af2b5d3",
   "metadata": {},
   "source": [
    "In the simulation we obtain the same state as the initial input given that the circuit representes the indentity operator"
   ]
  },
  {
   "cell_type": "code",
   "execution_count": 12,
   "id": "9691c7e2-2958-414c-8171-55ad5001c050",
   "metadata": {
    "tags": []
   },
   "outputs": [
    {
     "data": {
      "text/html": [
       "<table>\n",
       "<thead>\n",
       "<tr><th>state  </th><th style=\"text-align: right;\">  probability</th></tr>\n",
       "</thead>\n",
       "<tbody>\n",
       "<tr><td>|1,0&gt;  </td><td style=\"text-align: right;\">            1</td></tr>\n",
       "</tbody>\n",
       "</table>"
      ],
      "text/plain": [
       "<IPython.core.display.HTML object>"
      ]
     },
     "metadata": {},
     "output_type": "display_data"
    }
   ],
   "source": [
    "output_distribution = p.probs()[\"results\"]\n",
    "pcvl.pdisplay(output_distribution, max_v=10)"
   ]
  },
  {
   "cell_type": "markdown",
   "id": "da1d828e-03d8-4898-b606-3925a59154d8",
   "metadata": {},
   "source": [
    "## 2.2 Noisy simulation <a name=\"noisy_simulation\"></a>"
   ]
  },
  {
   "cell_type": "markdown",
   "id": "f8d03b7d",
   "metadata": {},
   "source": [
    "We can add a random noise in the form of an error in the angle of the BS: \n",
    "    $$ \\theta_{noisy} = \\theta - X $$\n",
    "    \n",
    "\n",
    "where $X \\sim \\mathcal{U}(a, b)$ in the range $0.001 \\leq   X \\leq \\pi/20 $ and $\\theta = \\pi$\n",
    " \n"
   ]
  },
  {
   "cell_type": "code",
   "execution_count": 13,
   "id": "abdc8975-66f2-46c8-970a-02c6997066a3",
   "metadata": {
    "tags": []
   },
   "outputs": [],
   "source": [
    "noise_angle_x = random.uniform(0.001, np.pi/20)\n",
    "bs_noisy_rx = BS.Rx(theta= np.pi - noise_angle_x)"
   ]
  },
  {
   "cell_type": "code",
   "execution_count": 14,
   "id": "6178912a",
   "metadata": {
    "tags": []
   },
   "outputs": [
    {
     "name": "stdout",
     "output_type": "stream",
     "text": [
      "Effects of the noise in the Beam-Splitter in the Rx convention:\n"
     ]
    },
    {
     "data": {
      "text/html": [
       "$\\left[\\begin{matrix}0.078118 & 0.996944 i\\\\0.996944 i & 0.078118\\end{matrix}\\right]$"
      ],
      "text/plain": [
       "<IPython.core.display.HTML object>"
      ]
     },
     "metadata": {},
     "output_type": "display_data"
    },
    {
     "data": {
      "image/svg+xml": [
       "<?xml version=\"1.0\" encoding=\"UTF-8\"?>\n",
       "<svg xmlns=\"http://www.w3.org/2000/svg\" xmlns:xlink=\"http://www.w3.org/1999/xlink\"\n",
       "     width=\"257.5\" height=\"156.25\" viewBox=\"-28.0 0 206.0 125.0\">\n",
       "<defs>\n",
       "</defs>\n",
       "<path d=\"M10,25 L25,25\" stroke-width=\"3\" stroke=\"darkred\" stroke-linejoin=\"miter\" fill=\"none\" />\n",
       "<path d=\"M10,75 L25,75\" stroke-width=\"3\" stroke=\"darkred\" stroke-linejoin=\"miter\" fill=\"none\" />\n",
       "<path d=\"M25,25 L53,25 L72,44\" stroke=\"darkred\" stroke-width=\"3\" fill=\"none\" />\n",
       "<path d=\"M78,44 L97,25 L125,25\" stroke=\"darkred\" stroke-width=\"3\" fill=\"none\" />\n",
       "<path d=\"M25,75 L53,75 L72,56\" stroke=\"darkred\" stroke-width=\"3\" fill=\"none\" />\n",
       "<path d=\"M78,56 L97,75 L125,75\" stroke=\"darkred\" stroke-width=\"3\" fill=\"none\" />\n",
       "<path d=\"M50,43 L100,43 L100,57 L50,57 Z\" stroke=\"black\" fill=\"black\" stroke-linejoin=\"miter\" />\n",
       "<text x=\"75\" y=\"80\" font-size=\"7\" text-anchor=\"middle\"></text>\n",
       "<text x=\"75\" y=\"26\" font-size=\"7\" text-anchor=\"middle\">Θ=2.985198</text>\n",
       "<path d=\"M50,43 L100,43 L100,47 L50,47 Z\" stroke=\"black\" fill=\"lightgray\" stroke-linejoin=\"miter\" />\n",
       "<path d=\"M93,50 L103,50 L103,60 L93,60 Z\" stroke=\"black\" fill=\"thistle\" stroke-linejoin=\"miter\" />\n",
       "<text x=\"98\" y=\"57\" font-size=\"6\" text-anchor=\"middle\">Rx</text>\n",
       "<path d=\"M125,25 L140,25\" stroke-width=\"3\" stroke=\"darkred\" stroke-linejoin=\"miter\" fill=\"none\" />\n",
       "<path d=\"M125,75 L140,75\" stroke-width=\"3\" stroke=\"darkred\" stroke-linejoin=\"miter\" fill=\"none\" />\n",
       "<text x=\"150\" y=\"28\" font-size=\"6\" text-anchor=\"end\">0</text>\n",
       "<text x=\"150\" y=\"78\" font-size=\"6\" text-anchor=\"end\">1</text>\n",
       "<text x=\"0\" y=\"28\" font-size=\"6\" text-anchor=\"start\">0</text>\n",
       "<text x=\"0\" y=\"78\" font-size=\"6\" text-anchor=\"start\">1</text>\n",
       "</svg>"
      ],
      "text/plain": [
       "<drawsvg.drawing.Drawing at 0x7f6bdf6e6f40>"
      ]
     },
     "execution_count": 14,
     "metadata": {},
     "output_type": "execute_result"
    }
   ],
   "source": [
    "print(\"Effects of the noise in the Beam-Splitter in the Rx convention:\")\n",
    "pcvl.pdisplay(bs_noisy_rx.compute_unitary())\n",
    "pcvl.pdisplay(bs_noisy_rx)"
   ]
  },
  {
   "cell_type": "code",
   "execution_count": 15,
   "id": "0e31de8c-2ccc-4d80-afe6-5d3f8f324f3c",
   "metadata": {
    "tags": []
   },
   "outputs": [],
   "source": [
    "p = pcvl.Processor(\"SLOS\", bs_noisy_rx, source)"
   ]
  },
  {
   "cell_type": "markdown",
   "id": "2a0776b2",
   "metadata": {},
   "source": [
    "In the simulation we obtain the same state as the initial input and the flip state with low proability given the noise in the circuit"
   ]
  },
  {
   "cell_type": "code",
   "execution_count": 16,
   "id": "b3acf269-115a-47dc-b417-4ca767db681b",
   "metadata": {
    "tags": []
   },
   "outputs": [
    {
     "data": {
      "text/html": [
       "<table>\n",
       "<thead>\n",
       "<tr><th>state  </th><th style=\"text-align: right;\">  probability</th></tr>\n",
       "</thead>\n",
       "<tbody>\n",
       "<tr><td>|0,1&gt;  </td><td style=\"text-align: right;\">     0.993898</td></tr>\n",
       "<tr><td>|1,0&gt;  </td><td style=\"text-align: right;\">     0.006102</td></tr>\n",
       "</tbody>\n",
       "</table>"
      ],
      "text/plain": [
       "<IPython.core.display.HTML object>"
      ]
     },
     "metadata": {},
     "output_type": "display_data"
    }
   ],
   "source": [
    "p.with_input(pcvl.BasicState([1, 0]))\n",
    "output_distribution = p.probs()[\"results\"]\n",
    "pcvl.pdisplay(output_distribution, max_v=10)"
   ]
  },
  {
   "cell_type": "code",
   "execution_count": 17,
   "id": "ce8f9f7b-e123-4a15-b60c-03683b562b2b",
   "metadata": {
    "tags": []
   },
   "outputs": [
    {
     "name": "stdout",
     "output_type": "stream",
     "text": [
      "Effects of the noise in the Identity operator using two Beam-Splitter in the Rx convention:\n"
     ]
    },
    {
     "data": {
      "text/html": [
       "$\\left[\\begin{matrix}-0.996256 & 0.086453 i\\\\0.086453 i & -0.996256\\end{matrix}\\right]$"
      ],
      "text/plain": [
       "<IPython.core.display.HTML object>"
      ]
     },
     "metadata": {},
     "output_type": "display_data"
    },
    {
     "data": {
      "image/svg+xml": [
       "<?xml version=\"1.0\" encoding=\"UTF-8\"?>\n",
       "<svg xmlns=\"http://www.w3.org/2000/svg\" xmlns:xlink=\"http://www.w3.org/1999/xlink\"\n",
       "     width=\"382.5\" height=\"156.25\" viewBox=\"-28.0 0 306.0 125.0\">\n",
       "<defs>\n",
       "</defs>\n",
       "<path d=\"M10,25 L25,25\" stroke-width=\"3\" stroke=\"darkred\" stroke-linejoin=\"miter\" fill=\"none\" />\n",
       "<path d=\"M10,75 L25,75\" stroke-width=\"3\" stroke=\"darkred\" stroke-linejoin=\"miter\" fill=\"none\" />\n",
       "<path d=\"M25,25 L53,25 L72,44\" stroke=\"darkred\" stroke-width=\"3\" fill=\"none\" />\n",
       "<path d=\"M78,44 L97,25 L125,25\" stroke=\"darkred\" stroke-width=\"3\" fill=\"none\" />\n",
       "<path d=\"M25,75 L53,75 L72,56\" stroke=\"darkred\" stroke-width=\"3\" fill=\"none\" />\n",
       "<path d=\"M78,56 L97,75 L125,75\" stroke=\"darkred\" stroke-width=\"3\" fill=\"none\" />\n",
       "<path d=\"M50,43 L100,43 L100,57 L50,57 Z\" stroke=\"black\" fill=\"black\" stroke-linejoin=\"miter\" />\n",
       "<text x=\"75\" y=\"80\" font-size=\"7\" text-anchor=\"middle\"></text>\n",
       "<text x=\"75\" y=\"26\" font-size=\"7\" text-anchor=\"middle\">Θ=3.123019</text>\n",
       "<path d=\"M50,43 L100,43 L100,47 L50,47 Z\" stroke=\"black\" fill=\"lightgray\" stroke-linejoin=\"miter\" />\n",
       "<path d=\"M93,50 L103,50 L103,60 L93,60 Z\" stroke=\"black\" fill=\"thistle\" stroke-linejoin=\"miter\" />\n",
       "<text x=\"98\" y=\"57\" font-size=\"6\" text-anchor=\"middle\">Rx</text>\n",
       "<path d=\"M125,25 L153,25 L172,44\" stroke=\"darkred\" stroke-width=\"3\" fill=\"none\" />\n",
       "<path d=\"M178,44 L197,25 L225,25\" stroke=\"darkred\" stroke-width=\"3\" fill=\"none\" />\n",
       "<path d=\"M125,75 L153,75 L172,56\" stroke=\"darkred\" stroke-width=\"3\" fill=\"none\" />\n",
       "<path d=\"M178,56 L197,75 L225,75\" stroke=\"darkred\" stroke-width=\"3\" fill=\"none\" />\n",
       "<path d=\"M150,43 L200,43 L200,57 L150,57 Z\" stroke=\"black\" fill=\"black\" stroke-linejoin=\"miter\" />\n",
       "<text x=\"175\" y=\"80\" font-size=\"7\" text-anchor=\"middle\"></text>\n",
       "<text x=\"175\" y=\"26\" font-size=\"7\" text-anchor=\"middle\">Θ=2.987043</text>\n",
       "<path d=\"M150,43 L200,43 L200,47 L150,47 Z\" stroke=\"black\" fill=\"lightgray\" stroke-linejoin=\"miter\" />\n",
       "<path d=\"M193,50 L203,50 L203,60 L193,60 Z\" stroke=\"black\" fill=\"thistle\" stroke-linejoin=\"miter\" />\n",
       "<text x=\"198\" y=\"57\" font-size=\"6\" text-anchor=\"middle\">Rx</text>\n",
       "<path d=\"M225,25 L240,25\" stroke-width=\"3\" stroke=\"darkred\" stroke-linejoin=\"miter\" fill=\"none\" />\n",
       "<path d=\"M225,75 L240,75\" stroke-width=\"3\" stroke=\"darkred\" stroke-linejoin=\"miter\" fill=\"none\" />\n",
       "<text x=\"250\" y=\"28\" font-size=\"6\" text-anchor=\"end\">0</text>\n",
       "<text x=\"250\" y=\"78\" font-size=\"6\" text-anchor=\"end\">1</text>\n",
       "<text x=\"0\" y=\"28\" font-size=\"6\" text-anchor=\"start\">0</text>\n",
       "<text x=\"0\" y=\"78\" font-size=\"6\" text-anchor=\"start\">1</text>\n",
       "</svg>"
      ],
      "text/plain": [
       "<drawsvg.drawing.Drawing at 0x7f6bdf68fd00>"
      ]
     },
     "execution_count": 17,
     "metadata": {},
     "output_type": "execute_result"
    }
   ],
   "source": [
    "noise_angle_x_1 = random.uniform(0.01, np.pi/10)\n",
    "noise_angle_x_2 = random.uniform(0.01, np.pi/10)\n",
    "\n",
    "identity_nosiy_2 = (pcvl.Circuit(2, name=\"identity\")\n",
    "           .add(0, BS.Rx(theta= np.pi - noise_angle_x_1))\n",
    "           .add(0, BS.Rx(theta= np.pi - noise_angle_x_2)))\n",
    "\n",
    "print(\"Effects of the noise in the Identity operator using two Beam-Splitter in the Rx convention:\")\n",
    "pcvl.pdisplay(identity_nosiy_2 .compute_unitary())\n",
    "pcvl.pdisplay(identity_nosiy_2)"
   ]
  },
  {
   "cell_type": "code",
   "execution_count": 18,
   "id": "6ce57963-332a-4f65-a64a-67dda89cf73b",
   "metadata": {
    "tags": []
   },
   "outputs": [
    {
     "name": "stdout",
     "output_type": "stream",
     "text": [
      "Effects of the noise in the Identity operator using four Beam-Splitter in the Rx convention:\n"
     ]
    },
    {
     "data": {
      "text/html": [
       "$\\left[\\begin{matrix}0.955443 & - 0.295175 i\\\\- 0.295175 i & 0.955443\\end{matrix}\\right]$"
      ],
      "text/plain": [
       "<IPython.core.display.HTML object>"
      ]
     },
     "metadata": {},
     "output_type": "display_data"
    },
    {
     "data": {
      "image/svg+xml": [
       "<?xml version=\"1.0\" encoding=\"UTF-8\"?>\n",
       "<svg xmlns=\"http://www.w3.org/2000/svg\" xmlns:xlink=\"http://www.w3.org/1999/xlink\"\n",
       "     width=\"632.5\" height=\"156.25\" viewBox=\"-28.0 0 506.0 125.0\">\n",
       "<defs>\n",
       "</defs>\n",
       "<path d=\"M10,25 L25,25\" stroke-width=\"3\" stroke=\"darkred\" stroke-linejoin=\"miter\" fill=\"none\" />\n",
       "<path d=\"M10,75 L25,75\" stroke-width=\"3\" stroke=\"darkred\" stroke-linejoin=\"miter\" fill=\"none\" />\n",
       "<path d=\"M25,25 L53,25 L72,44\" stroke=\"darkred\" stroke-width=\"3\" fill=\"none\" />\n",
       "<path d=\"M78,44 L97,25 L125,25\" stroke=\"darkred\" stroke-width=\"3\" fill=\"none\" />\n",
       "<path d=\"M25,75 L53,75 L72,56\" stroke=\"darkred\" stroke-width=\"3\" fill=\"none\" />\n",
       "<path d=\"M78,56 L97,75 L125,75\" stroke=\"darkred\" stroke-width=\"3\" fill=\"none\" />\n",
       "<path d=\"M50,43 L100,43 L100,57 L50,57 Z\" stroke=\"black\" fill=\"black\" stroke-linejoin=\"miter\" />\n",
       "<text x=\"75\" y=\"80\" font-size=\"7\" text-anchor=\"middle\"></text>\n",
       "<text x=\"75\" y=\"26\" font-size=\"7\" text-anchor=\"middle\">Θ=2.999261</text>\n",
       "<path d=\"M50,43 L100,43 L100,47 L50,47 Z\" stroke=\"black\" fill=\"lightgray\" stroke-linejoin=\"miter\" />\n",
       "<path d=\"M93,50 L103,50 L103,60 L93,60 Z\" stroke=\"black\" fill=\"thistle\" stroke-linejoin=\"miter\" />\n",
       "<text x=\"98\" y=\"57\" font-size=\"6\" text-anchor=\"middle\">Rx</text>\n",
       "<path d=\"M125,25 L153,25 L172,44\" stroke=\"darkred\" stroke-width=\"3\" fill=\"none\" />\n",
       "<path d=\"M178,44 L197,25 L225,25\" stroke=\"darkred\" stroke-width=\"3\" fill=\"none\" />\n",
       "<path d=\"M125,75 L153,75 L172,56\" stroke=\"darkred\" stroke-width=\"3\" fill=\"none\" />\n",
       "<path d=\"M178,56 L197,75 L225,75\" stroke=\"darkred\" stroke-width=\"3\" fill=\"none\" />\n",
       "<path d=\"M150,43 L200,43 L200,57 L150,57 Z\" stroke=\"black\" fill=\"black\" stroke-linejoin=\"miter\" />\n",
       "<text x=\"175\" y=\"80\" font-size=\"7\" text-anchor=\"middle\"></text>\n",
       "<text x=\"175\" y=\"26\" font-size=\"7\" text-anchor=\"middle\">Θ=2.861118</text>\n",
       "<path d=\"M150,43 L200,43 L200,47 L150,47 Z\" stroke=\"black\" fill=\"lightgray\" stroke-linejoin=\"miter\" />\n",
       "<path d=\"M193,50 L203,50 L203,60 L193,60 Z\" stroke=\"black\" fill=\"thistle\" stroke-linejoin=\"miter\" />\n",
       "<text x=\"198\" y=\"57\" font-size=\"6\" text-anchor=\"middle\">Rx</text>\n",
       "<path d=\"M225,25 L253,25 L272,44\" stroke=\"darkred\" stroke-width=\"3\" fill=\"none\" />\n",
       "<path d=\"M278,44 L297,25 L325,25\" stroke=\"darkred\" stroke-width=\"3\" fill=\"none\" />\n",
       "<path d=\"M225,75 L253,75 L272,56\" stroke=\"darkred\" stroke-width=\"3\" fill=\"none\" />\n",
       "<path d=\"M278,56 L297,75 L325,75\" stroke=\"darkred\" stroke-width=\"3\" fill=\"none\" />\n",
       "<path d=\"M250,43 L300,43 L300,57 L250,57 Z\" stroke=\"black\" fill=\"black\" stroke-linejoin=\"miter\" />\n",
       "<text x=\"275\" y=\"80\" font-size=\"7\" text-anchor=\"middle\"></text>\n",
       "<text x=\"275\" y=\"26\" font-size=\"7\" text-anchor=\"middle\">Θ=3.021844</text>\n",
       "<path d=\"M250,43 L300,43 L300,47 L250,47 Z\" stroke=\"black\" fill=\"lightgray\" stroke-linejoin=\"miter\" />\n",
       "<path d=\"M293,50 L303,50 L303,60 L293,60 Z\" stroke=\"black\" fill=\"thistle\" stroke-linejoin=\"miter\" />\n",
       "<text x=\"298\" y=\"57\" font-size=\"6\" text-anchor=\"middle\">Rx</text>\n",
       "<path d=\"M325,25 L353,25 L372,44\" stroke=\"darkred\" stroke-width=\"3\" fill=\"none\" />\n",
       "<path d=\"M378,44 L397,25 L425,25\" stroke=\"darkred\" stroke-width=\"3\" fill=\"none\" />\n",
       "<path d=\"M325,75 L353,75 L372,56\" stroke=\"darkred\" stroke-width=\"3\" fill=\"none\" />\n",
       "<path d=\"M378,56 L397,75 L425,75\" stroke=\"darkred\" stroke-width=\"3\" fill=\"none\" />\n",
       "<path d=\"M350,43 L400,43 L400,57 L350,57 Z\" stroke=\"black\" fill=\"black\" stroke-linejoin=\"miter\" />\n",
       "<text x=\"375\" y=\"80\" font-size=\"7\" text-anchor=\"middle\"></text>\n",
       "<text x=\"375\" y=\"26\" font-size=\"7\" text-anchor=\"middle\">Θ=3.08487</text>\n",
       "<path d=\"M350,43 L400,43 L400,47 L350,47 Z\" stroke=\"black\" fill=\"lightgray\" stroke-linejoin=\"miter\" />\n",
       "<path d=\"M393,50 L403,50 L403,60 L393,60 Z\" stroke=\"black\" fill=\"thistle\" stroke-linejoin=\"miter\" />\n",
       "<text x=\"398\" y=\"57\" font-size=\"6\" text-anchor=\"middle\">Rx</text>\n",
       "<path d=\"M425,25 L440,25\" stroke-width=\"3\" stroke=\"darkred\" stroke-linejoin=\"miter\" fill=\"none\" />\n",
       "<path d=\"M425,75 L440,75\" stroke-width=\"3\" stroke=\"darkred\" stroke-linejoin=\"miter\" fill=\"none\" />\n",
       "<text x=\"450\" y=\"28\" font-size=\"6\" text-anchor=\"end\">0</text>\n",
       "<text x=\"450\" y=\"78\" font-size=\"6\" text-anchor=\"end\">1</text>\n",
       "<text x=\"0\" y=\"28\" font-size=\"6\" text-anchor=\"start\">0</text>\n",
       "<text x=\"0\" y=\"78\" font-size=\"6\" text-anchor=\"start\">1</text>\n",
       "</svg>"
      ],
      "text/plain": [
       "<drawsvg.drawing.Drawing at 0x7f6bdf738dc0>"
      ]
     },
     "execution_count": 18,
     "metadata": {},
     "output_type": "execute_result"
    }
   ],
   "source": [
    "noise_angle_x_1 = random.uniform(0.01, np.pi/10)\n",
    "noise_angle_x_2 = random.uniform(0.01, np.pi/10)\n",
    "noise_angle_x_3 = random.uniform(0.01, np.pi/10)\n",
    "noise_angle_x_4 = random.uniform(0.01, np.pi/10)\n",
    "\n",
    "identity_nosiy_4 = (pcvl.Circuit(2, name=\"identity\")\n",
    "           .add(0, BS.Rx(theta= np.pi - noise_angle_x_1))\n",
    "           .add(0, BS.Rx(theta= np.pi - noise_angle_x_2))\n",
    "           .add(0, BS.Rx(theta= np.pi - noise_angle_x_3))\n",
    "           .add(0, BS.Rx(theta= np.pi - noise_angle_x_4)))\n",
    "\n",
    "print(\"Effects of the noise in the Identity operator using four Beam-Splitter in the Rx convention:\")\n",
    "pcvl.pdisplay(identity_nosiy_4.compute_unitary())\n",
    "pcvl.pdisplay(identity_nosiy_4)"
   ]
  },
  {
   "cell_type": "code",
   "execution_count": 19,
   "id": "4e733caf-64a2-4d49-8e7d-35ad012c80b8",
   "metadata": {
    "tags": []
   },
   "outputs": [],
   "source": [
    "p = pcvl.Processor(\"SLOS\",identity_nosiy_4 , source)\n",
    "p.with_input(pcvl.BasicState([1, 0]))"
   ]
  },
  {
   "cell_type": "markdown",
   "id": "2d908e0f",
   "metadata": {},
   "source": [
    "Increasing the number of BS will increase the noise, increasing the probability of obtaining the wrong state"
   ]
  },
  {
   "cell_type": "code",
   "execution_count": 20,
   "id": "a19adc60-00aa-4fab-ba71-8d5d8acffb16",
   "metadata": {
    "tags": []
   },
   "outputs": [
    {
     "data": {
      "text/html": [
       "<table>\n",
       "<thead>\n",
       "<tr><th>state  </th><th style=\"text-align: right;\">  probability</th></tr>\n",
       "</thead>\n",
       "<tbody>\n",
       "<tr><td>|1,0&gt;  </td><td style=\"text-align: right;\">     0.912872</td></tr>\n",
       "<tr><td>|0,1&gt;  </td><td style=\"text-align: right;\">     0.087128</td></tr>\n",
       "</tbody>\n",
       "</table>"
      ],
      "text/plain": [
       "<IPython.core.display.HTML object>"
      ]
     },
     "metadata": {},
     "output_type": "display_data"
    }
   ],
   "source": [
    "output_distribution = p.probs()[\"results\"]\n",
    "pcvl.pdisplay(output_distribution, max_v=10)"
   ]
  },
  {
   "cell_type": "markdown",
   "id": "d06333e6-cd54-443b-a1a5-94ffe4c34f5d",
   "metadata": {},
   "source": [
    "# 3. Zero Noise Extrapolation <a name=\"ZNE\"></a>"
   ]
  },
  {
   "cell_type": "markdown",
   "id": "dc2bd8b6",
   "metadata": {
    "tags": []
   },
   "source": [
    "In the Zero-noise extrapolation (ZNE) technique a quantum circuit is modified to run at different noise scales [2]. The result is extrapolated to an estimated value at noiseless level. There are multiple ways of scaling the noise in this work we use unitary folding, replacing a unitary circuit $U$ by:\n",
    "\n",
    "$$ U \\rightarrow U(U^\\dagger U )^n $$\n",
    "\n"
   ]
  },
  {
   "cell_type": "markdown",
   "id": "c8be1c8e",
   "metadata": {},
   "source": [
    "The first circuit we are going to use is the following:"
   ]
  },
  {
   "cell_type": "markdown",
   "id": "d739d976",
   "metadata": {},
   "source": [
    "## 3.1 ZNE with 2 Rx <a name=\"ZNE_2_rx\"></a>"
   ]
  },
  {
   "cell_type": "code",
   "execution_count": 21,
   "id": "a47b8900",
   "metadata": {
    "tags": []
   },
   "outputs": [
    {
     "data": {
      "image/svg+xml": [
       "<?xml version=\"1.0\" encoding=\"UTF-8\"?>\n",
       "<svg xmlns=\"http://www.w3.org/2000/svg\" xmlns:xlink=\"http://www.w3.org/1999/xlink\"\n",
       "     width=\"382.5\" height=\"156.25\" viewBox=\"-28.0 0 306.0 125.0\">\n",
       "<defs>\n",
       "</defs>\n",
       "<path d=\"M10,25 L25,25\" stroke-width=\"3\" stroke=\"darkred\" stroke-linejoin=\"miter\" fill=\"none\" />\n",
       "<path d=\"M10,75 L25,75\" stroke-width=\"3\" stroke=\"darkred\" stroke-linejoin=\"miter\" fill=\"none\" />\n",
       "<path d=\"M25,25 L53,25 L72,44\" stroke=\"darkred\" stroke-width=\"3\" fill=\"none\" />\n",
       "<path d=\"M78,44 L97,25 L125,25\" stroke=\"darkred\" stroke-width=\"3\" fill=\"none\" />\n",
       "<path d=\"M25,75 L53,75 L72,56\" stroke=\"darkred\" stroke-width=\"3\" fill=\"none\" />\n",
       "<path d=\"M78,56 L97,75 L125,75\" stroke=\"darkred\" stroke-width=\"3\" fill=\"none\" />\n",
       "<path d=\"M50,43 L100,43 L100,57 L50,57 Z\" stroke=\"black\" fill=\"black\" stroke-linejoin=\"miter\" />\n",
       "<text x=\"75\" y=\"80\" font-size=\"7\" text-anchor=\"middle\"></text>\n",
       "<text x=\"75\" y=\"26\" font-size=\"7\" text-anchor=\"middle\">Θ=3.123019</text>\n",
       "<path d=\"M50,43 L100,43 L100,47 L50,47 Z\" stroke=\"black\" fill=\"lightgray\" stroke-linejoin=\"miter\" />\n",
       "<path d=\"M93,50 L103,50 L103,60 L93,60 Z\" stroke=\"black\" fill=\"thistle\" stroke-linejoin=\"miter\" />\n",
       "<text x=\"98\" y=\"57\" font-size=\"6\" text-anchor=\"middle\">Rx</text>\n",
       "<path d=\"M125,25 L153,25 L172,44\" stroke=\"darkred\" stroke-width=\"3\" fill=\"none\" />\n",
       "<path d=\"M178,44 L197,25 L225,25\" stroke=\"darkred\" stroke-width=\"3\" fill=\"none\" />\n",
       "<path d=\"M125,75 L153,75 L172,56\" stroke=\"darkred\" stroke-width=\"3\" fill=\"none\" />\n",
       "<path d=\"M178,56 L197,75 L225,75\" stroke=\"darkred\" stroke-width=\"3\" fill=\"none\" />\n",
       "<path d=\"M150,43 L200,43 L200,57 L150,57 Z\" stroke=\"black\" fill=\"black\" stroke-linejoin=\"miter\" />\n",
       "<text x=\"175\" y=\"80\" font-size=\"7\" text-anchor=\"middle\"></text>\n",
       "<text x=\"175\" y=\"26\" font-size=\"7\" text-anchor=\"middle\">Θ=2.987043</text>\n",
       "<path d=\"M150,43 L200,43 L200,47 L150,47 Z\" stroke=\"black\" fill=\"lightgray\" stroke-linejoin=\"miter\" />\n",
       "<path d=\"M193,50 L203,50 L203,60 L193,60 Z\" stroke=\"black\" fill=\"thistle\" stroke-linejoin=\"miter\" />\n",
       "<text x=\"198\" y=\"57\" font-size=\"6\" text-anchor=\"middle\">Rx</text>\n",
       "<path d=\"M225,25 L240,25\" stroke-width=\"3\" stroke=\"darkred\" stroke-linejoin=\"miter\" fill=\"none\" />\n",
       "<path d=\"M225,75 L240,75\" stroke-width=\"3\" stroke=\"darkred\" stroke-linejoin=\"miter\" fill=\"none\" />\n",
       "<text x=\"250\" y=\"28\" font-size=\"6\" text-anchor=\"end\">0</text>\n",
       "<text x=\"250\" y=\"78\" font-size=\"6\" text-anchor=\"end\">1</text>\n",
       "<text x=\"0\" y=\"28\" font-size=\"6\" text-anchor=\"start\">0</text>\n",
       "<text x=\"0\" y=\"78\" font-size=\"6\" text-anchor=\"start\">1</text>\n",
       "</svg>"
      ],
      "text/plain": [
       "<drawsvg.drawing.Drawing at 0x7f6bdf6f9d30>"
      ]
     },
     "execution_count": 21,
     "metadata": {},
     "output_type": "execute_result"
    }
   ],
   "source": [
    "pcvl.pdisplay(identity_nosiy_2)"
   ]
  },
  {
   "cell_type": "code",
   "execution_count": 42,
   "id": "5839ca4f-c1a8-474a-be77-62ff2562618c",
   "metadata": {
    "tags": []
   },
   "outputs": [
    {
     "name": "stdout",
     "output_type": "stream",
     "text": [
      "Noise Scaling: 1\n"
     ]
    },
    {
     "data": {
      "text/html": [
       "<table>\n",
       "<thead>\n",
       "<tr><th>state  </th><th style=\"text-align: right;\">  probability</th></tr>\n",
       "</thead>\n",
       "<tbody>\n",
       "<tr><td>|1,0&gt;  </td><td style=\"text-align: right;\">     0.986857</td></tr>\n",
       "<tr><td>|0,1&gt;  </td><td style=\"text-align: right;\">     0.013143</td></tr>\n",
       "</tbody>\n",
       "</table>"
      ],
      "text/plain": [
       "<IPython.core.display.HTML object>"
      ]
     },
     "metadata": {},
     "output_type": "display_data"
    },
    {
     "name": "stdout",
     "output_type": "stream",
     "text": [
      "Noise Scaling: 2\n"
     ]
    },
    {
     "data": {
      "text/html": [
       "<table>\n",
       "<thead>\n",
       "<tr><th>state  </th><th style=\"text-align: right;\">  probability</th></tr>\n",
       "</thead>\n",
       "<tbody>\n",
       "<tr><td>|1,0&gt;  </td><td style=\"text-align: right;\">     0.950726</td></tr>\n",
       "<tr><td>|0,1&gt;  </td><td style=\"text-align: right;\">     0.049274</td></tr>\n",
       "</tbody>\n",
       "</table>"
      ],
      "text/plain": [
       "<IPython.core.display.HTML object>"
      ]
     },
     "metadata": {},
     "output_type": "display_data"
    },
    {
     "name": "stdout",
     "output_type": "stream",
     "text": [
      "Noise Scaling: 3\n"
     ]
    },
    {
     "data": {
      "text/html": [
       "<table>\n",
       "<thead>\n",
       "<tr><th>state  </th><th style=\"text-align: right;\">  probability</th></tr>\n",
       "</thead>\n",
       "<tbody>\n",
       "<tr><td>|1,0&gt;  </td><td style=\"text-align: right;\">     0.880715</td></tr>\n",
       "<tr><td>|0,1&gt;  </td><td style=\"text-align: right;\">     0.119285</td></tr>\n",
       "</tbody>\n",
       "</table>"
      ],
      "text/plain": [
       "<IPython.core.display.HTML object>"
      ]
     },
     "metadata": {},
     "output_type": "display_data"
    },
    {
     "name": "stdout",
     "output_type": "stream",
     "text": [
      "Noise Scaling: 4\n"
     ]
    },
    {
     "data": {
      "text/html": [
       "<table>\n",
       "<thead>\n",
       "<tr><th>state  </th><th style=\"text-align: right;\">  probability</th></tr>\n",
       "</thead>\n",
       "<tbody>\n",
       "<tr><td>|1,0&gt;  </td><td style=\"text-align: right;\">     0.759938</td></tr>\n",
       "<tr><td>|0,1&gt;  </td><td style=\"text-align: right;\">     0.240062</td></tr>\n",
       "</tbody>\n",
       "</table>"
      ],
      "text/plain": [
       "<IPython.core.display.HTML object>"
      ]
     },
     "metadata": {},
     "output_type": "display_data"
    }
   ],
   "source": [
    "results = []\n",
    "noise_scaling = []\n",
    "\n",
    "source = pcvl.Source(emission_probability=0.70, multiphoton_component=0.04, losses=0.3)\n",
    "\n",
    "source = pcvl.Source()\n",
    "\n",
    "scaling = 0\n",
    "\n",
    "\n",
    "for x in range(1, 9, 2):\n",
    "    scaling+=1\n",
    "    noise_scaling.append(scaling)\n",
    "    print(\"Noise Scaling:\", scaling)\n",
    "\n",
    "    circuit_id_noise = pcvl.Circuit(2)\n",
    "\n",
    "    for i in range(x):\n",
    "        noise_angle_x_1 = random.uniform(0.001, np.pi/20)\n",
    "        noise_angle_x_2 = random.uniform(0.001, np.pi/20)\n",
    "\n",
    "        circuit_id_noise.add((0, 1), BS.Rx(theta= np.pi - noise_angle_x_1 ))\n",
    "        circuit_id_noise.add((0, 1), BS.Rx(theta= np.pi - noise_angle_x_2 ))\n",
    "\n",
    "         \n",
    "    p = pcvl.Processor(\"SLOS\", circuit_id_noise, source)\n",
    "\n",
    "    p.with_input(pcvl.BasicState([1, 0]))\n",
    "\n",
    "    output_distribution = p.probs()[\"results\"]\n",
    "    pcvl.pdisplay(output_distribution, max_v=10)\n",
    "\n",
    "    for output_bs, prob in output_distribution.items():\n",
    "        output_state = output_bs\n",
    "        if (output_state[0] == 1 and output_state[1] == 0):\n",
    "            results.append(prob)"
   ]
  },
  {
   "cell_type": "code",
   "execution_count": 43,
   "id": "1893b81e-c552-4026-8631-a32bec107735",
   "metadata": {
    "tags": []
   },
   "outputs": [
    {
     "name": "stdout",
     "output_type": "stream",
     "text": [
      "Result without ZNE: 0.9868573694482344\n",
      "Correct result: 1\n",
      "----------------------------------\n",
      "Results of the extrapolations\n",
      "Linear extrapolation: [1.08225134]\n",
      "Polinomial extrapolation order: 2  [0.97644471]\n",
      "Polinomial extrapolation order 3: [1.00599248]\n"
     ]
    }
   ],
   "source": [
    "polynomial_1 = np.polyfit(noise_scaling,results,deg=1)\n",
    "polynomial_2 = np.polyfit(noise_scaling,results,deg=2)\n",
    "polynomial_3 = np.polyfit(noise_scaling,results,deg=3)\n",
    "\n",
    "x_new = np.array([0])\n",
    "y_1 = np.polyval(polynomial_1,x_new)\n",
    "y_2 = np.polyval(polynomial_2,x_new)\n",
    "y_3 = np.polyval(polynomial_3,x_new)\n",
    "\n",
    "print(\"Result without ZNE:\",results[0])\n",
    "print(\"Correct result:\", 1)\n",
    "print(\"----------------------------------\")\n",
    "print(\"Results of the extrapolations\")\n",
    "print(\"Linear extrapolation:\", y_1 )\n",
    "print(\"Polinomial extrapolation order: 2 \", y_2 )\n",
    "print(\"Polinomial extrapolation order 3:\", y_3)\n"
   ]
  },
  {
   "cell_type": "code",
   "execution_count": 44,
   "id": "c60416ec-42ba-49cf-9d8d-7945aaeb3a8a",
   "metadata": {
    "tags": []
   },
   "outputs": [
    {
     "data": {
      "image/png": "[encoded data removed]",
      "text/plain": [
       "<Figure size 640x480 with 1 Axes>"
      ]
     },
     "metadata": {},
     "output_type": "display_data"
    }
   ],
   "source": [
    "plt.plot(noise_scaling,results, \"o--\", linewidth=2.5, markersize=7)\n",
    "plt.plot(0,y_3, \"o\", markersize=7, label = \"ZNE Poly order 3\")\n",
    "plt.plot(0,y_2, \"o\", markersize=7, label = \"ZNE Poly order 2\")\n",
    "plt.plot(0,y_1, \"o\", markersize=7, label = \"ZNE Linear\")\n",
    "plt.xticks(size=12)\n",
    "plt.yticks(size=12)\n",
    "plt.title(r\"ZNE for 2 noisy BS.Rx with $ \\theta = \\pi$\")\n",
    "plt.xlabel('Noise Scaling', size= 12)\n",
    "plt.ylabel('Expectation Value', size=12)\n",
    "plt.legend()\n",
    "plt.grid()\n",
    "plt.show()"
   ]
  },
  {
   "cell_type": "markdown",
   "id": "1c7faecc",
   "metadata": {},
   "source": [
    "## 3.1 ZNE with 2 Rx and 2 Ry <a name=\"ZNE_2_rx_ry\"></a>"
   ]
  },
  {
   "cell_type": "markdown",
   "id": "f9d33483",
   "metadata": {},
   "source": [
    "The second circuit we are going to use is the following:"
   ]
  },
  {
   "cell_type": "code",
   "execution_count": 87,
   "id": "aafcc1e3",
   "metadata": {
    "tags": []
   },
   "outputs": [
    {
     "data": {
      "text/html": [
       "$\\left[\\begin{matrix}1 & 0\\\\0 & 1\\end{matrix}\\right]$"
      ],
      "text/plain": [
       "<IPython.core.display.HTML object>"
      ]
     },
     "metadata": {},
     "output_type": "display_data"
    },
    {
     "data": {
      "image/svg+xml": [
       "<?xml version=\"1.0\" encoding=\"UTF-8\"?>\n",
       "<svg xmlns=\"http://www.w3.org/2000/svg\" xmlns:xlink=\"http://www.w3.org/1999/xlink\"\n",
       "     width=\"632.5\" height=\"156.25\" viewBox=\"-28.0 0 506.0 125.0\">\n",
       "<defs>\n",
       "</defs>\n",
       "<path d=\"M10,25 L25,25\" stroke-width=\"3\" stroke=\"darkred\" stroke-linejoin=\"miter\" fill=\"none\" />\n",
       "<path d=\"M10,75 L25,75\" stroke-width=\"3\" stroke=\"darkred\" stroke-linejoin=\"miter\" fill=\"none\" />\n",
       "<path d=\"M25,25 L53,25 L72,44\" stroke=\"darkred\" stroke-width=\"3\" fill=\"none\" />\n",
       "<path d=\"M78,44 L97,25 L125,25\" stroke=\"darkred\" stroke-width=\"3\" fill=\"none\" />\n",
       "<path d=\"M25,75 L53,75 L72,56\" stroke=\"darkred\" stroke-width=\"3\" fill=\"none\" />\n",
       "<path d=\"M78,56 L97,75 L125,75\" stroke=\"darkred\" stroke-width=\"3\" fill=\"none\" />\n",
       "<path d=\"M50,43 L100,43 L100,57 L50,57 Z\" stroke=\"black\" fill=\"black\" stroke-linejoin=\"miter\" />\n",
       "<text x=\"75\" y=\"80\" font-size=\"7\" text-anchor=\"middle\"></text>\n",
       "<text x=\"75\" y=\"26\" font-size=\"7\" text-anchor=\"middle\">Θ=pi</text>\n",
       "<path d=\"M50,43 L100,43 L100,47 L50,47 Z\" stroke=\"black\" fill=\"lightgray\" stroke-linejoin=\"miter\" />\n",
       "<path d=\"M93,50 L103,50 L103,60 L93,60 Z\" stroke=\"black\" fill=\"thistle\" stroke-linejoin=\"miter\" />\n",
       "<text x=\"98\" y=\"57\" font-size=\"6\" text-anchor=\"middle\">Rx</text>\n",
       "<path d=\"M125,25 L153,25 L172,44\" stroke=\"darkred\" stroke-width=\"3\" fill=\"none\" />\n",
       "<path d=\"M178,44 L197,25 L225,25\" stroke=\"darkred\" stroke-width=\"3\" fill=\"none\" />\n",
       "<path d=\"M125,75 L153,75 L172,56\" stroke=\"darkred\" stroke-width=\"3\" fill=\"none\" />\n",
       "<path d=\"M178,56 L197,75 L225,75\" stroke=\"darkred\" stroke-width=\"3\" fill=\"none\" />\n",
       "<path d=\"M150,43 L200,43 L200,57 L150,57 Z\" stroke=\"black\" fill=\"black\" stroke-linejoin=\"miter\" />\n",
       "<text x=\"175\" y=\"80\" font-size=\"7\" text-anchor=\"middle\"></text>\n",
       "<text x=\"175\" y=\"26\" font-size=\"7\" text-anchor=\"middle\">Θ=pi</text>\n",
       "<path d=\"M150,43 L200,43 L200,47 L150,47 Z\" stroke=\"black\" fill=\"lightgray\" stroke-linejoin=\"miter\" />\n",
       "<path d=\"M193,50 L203,50 L203,60 L193,60 Z\" stroke=\"black\" fill=\"thistle\" stroke-linejoin=\"miter\" />\n",
       "<text x=\"198\" y=\"57\" font-size=\"6\" text-anchor=\"middle\">Rx</text>\n",
       "<path d=\"M225,25 L253,25 L272,44\" stroke=\"darkred\" stroke-width=\"3\" fill=\"none\" />\n",
       "<path d=\"M278,44 L297,25 L325,25\" stroke=\"darkred\" stroke-width=\"3\" fill=\"none\" />\n",
       "<path d=\"M225,75 L253,75 L272,56\" stroke=\"darkred\" stroke-width=\"3\" fill=\"none\" />\n",
       "<path d=\"M278,56 L297,75 L325,75\" stroke=\"darkred\" stroke-width=\"3\" fill=\"none\" />\n",
       "<path d=\"M250,43 L300,43 L300,57 L250,57 Z\" stroke=\"black\" fill=\"black\" stroke-linejoin=\"miter\" />\n",
       "<text x=\"275\" y=\"80\" font-size=\"7\" text-anchor=\"middle\"></text>\n",
       "<text x=\"275\" y=\"26\" font-size=\"7\" text-anchor=\"middle\">Θ=pi</text>\n",
       "<path d=\"M250,43 L300,43 L300,47 L250,47 Z\" stroke=\"black\" fill=\"lightgray\" stroke-linejoin=\"miter\" />\n",
       "<path d=\"M293,50 L303,50 L303,60 L293,60 Z\" stroke=\"black\" fill=\"lightsalmon\" stroke-linejoin=\"miter\" />\n",
       "<text x=\"298\" y=\"57\" font-size=\"6\" text-anchor=\"middle\">Ry</text>\n",
       "<path d=\"M325,25 L353,25 L372,44\" stroke=\"darkred\" stroke-width=\"3\" fill=\"none\" />\n",
       "<path d=\"M378,44 L397,25 L425,25\" stroke=\"darkred\" stroke-width=\"3\" fill=\"none\" />\n",
       "<path d=\"M325,75 L353,75 L372,56\" stroke=\"darkred\" stroke-width=\"3\" fill=\"none\" />\n",
       "<path d=\"M378,56 L397,75 L425,75\" stroke=\"darkred\" stroke-width=\"3\" fill=\"none\" />\n",
       "<path d=\"M350,43 L400,43 L400,57 L350,57 Z\" stroke=\"black\" fill=\"black\" stroke-linejoin=\"miter\" />\n",
       "<text x=\"375\" y=\"80\" font-size=\"7\" text-anchor=\"middle\"></text>\n",
       "<text x=\"375\" y=\"26\" font-size=\"7\" text-anchor=\"middle\">Θ=pi</text>\n",
       "<path d=\"M350,43 L400,43 L400,47 L350,47 Z\" stroke=\"black\" fill=\"lightgray\" stroke-linejoin=\"miter\" />\n",
       "<path d=\"M393,50 L403,50 L403,60 L393,60 Z\" stroke=\"black\" fill=\"lightsalmon\" stroke-linejoin=\"miter\" />\n",
       "<text x=\"398\" y=\"57\" font-size=\"6\" text-anchor=\"middle\">Ry</text>\n",
       "<path d=\"M425,25 L440,25\" stroke-width=\"3\" stroke=\"darkred\" stroke-linejoin=\"miter\" fill=\"none\" />\n",
       "<path d=\"M425,75 L440,75\" stroke-width=\"3\" stroke=\"darkred\" stroke-linejoin=\"miter\" fill=\"none\" />\n",
       "<text x=\"450\" y=\"28\" font-size=\"6\" text-anchor=\"end\">0</text>\n",
       "<text x=\"450\" y=\"78\" font-size=\"6\" text-anchor=\"end\">1</text>\n",
       "<text x=\"0\" y=\"28\" font-size=\"6\" text-anchor=\"start\">0</text>\n",
       "<text x=\"0\" y=\"78\" font-size=\"6\" text-anchor=\"start\">1</text>\n",
       "</svg>"
      ],
      "text/plain": [
       "<drawsvg.drawing.Drawing at 0x7fe085e47be0>"
      ]
     },
     "execution_count": 87,
     "metadata": {},
     "output_type": "execute_result"
    }
   ],
   "source": [
    "rx_ry = (pcvl.Circuit(2)\n",
    "           .add(0, BS.Rx(theta= np.pi ))\n",
    "           .add(0, BS.Rx(theta= np.pi ))\n",
    "           .add(0, BS.Ry(theta= np.pi ))\n",
    "           .add(0, BS.Ry(theta= np.pi )))\n",
    "\n",
    "pcvl.pdisplay(rx_ry.compute_unitary())\n",
    "pcvl.pdisplay(rx_ry)"
   ]
  },
  {
   "cell_type": "code",
   "execution_count": 26,
   "id": "d5821bdd-ef6c-4b41-b3f3-4cc874d51887",
   "metadata": {
    "tags": []
   },
   "outputs": [
    {
     "name": "stdout",
     "output_type": "stream",
     "text": [
      "Result without ZNE: 0.9738084906184881\n",
      "Correct result: 1\n",
      "----------------------------------\n",
      "Results of the extrapolations\n",
      "Linear extrapolation: [1.16739182]\n",
      "Polinomial extrapolation order: 2  [0.96937626]\n",
      "Polinomial extrapolation order 3: [1.19503213]\n"
     ]
    },
    {
     "data": {
      "image/png": "[encoded data removed]",
      "text/plain": [
       "<Figure size 640x480 with 1 Axes>"
      ]
     },
     "metadata": {},
     "output_type": "display_data"
    }
   ],
   "source": [
    "results = []\n",
    "noise_scaling = []\n",
    "\n",
    "source = pcvl.Source(emission_probability=0.70, multiphoton_component=0.04, losses=0.3)\n",
    "\n",
    "source = pcvl.Source()\n",
    "\n",
    "scaling = 0\n",
    "\n",
    "\n",
    "for x in range(1, 9, 2):\n",
    "    scaling+=1\n",
    "    noise_scaling.append(scaling)\n",
    "    #print(\"Noise Scaling:\", scaling)\n",
    "\n",
    "    circuit_id_noise = pcvl.Circuit(2)\n",
    "\n",
    "    for i in range(x):\n",
    "        noise_angle_x_1 = random.uniform(0.001, np.pi/20)\n",
    "        noise_angle_x_2 = random.uniform(0.001, np.pi/20)\n",
    "        noise_angle_x_3 = random.uniform(0.001, np.pi/20)\n",
    "        noise_angle_x_4 = random.uniform(0.001, np.pi/20)\n",
    "\n",
    "        circuit_id_noise.add((0, 1), BS.Rx(theta= np.pi - noise_angle_x_1 ))\n",
    "        circuit_id_noise.add((0, 1), BS.Rx(theta= np.pi - noise_angle_x_2 ))\n",
    "        circuit_id_noise.add((0, 1), BS.Ry(theta= np.pi - noise_angle_x_3 ))\n",
    "        circuit_id_noise.add((0, 1), BS.Ry(theta= np.pi - noise_angle_x_4 ))\n",
    "         \n",
    "    p = pcvl.Processor(\"SLOS\", circuit_id_noise, source)\n",
    "\n",
    "    p.with_input(pcvl.BasicState([1, 0]))\n",
    "\n",
    "    output_distribution = p.probs()[\"results\"]\n",
    "    #pcvl.pdisplay(output_distribution, max_v=10)\n",
    "\n",
    "    for output_bs, prob in output_distribution.items():\n",
    "        output_state = output_bs\n",
    "        if (output_state[0] == 1 and output_state[1] == 0):\n",
    "            results.append(prob)\n",
    "            \n",
    "polynomial_1 = np.polyfit(noise_scaling,results,deg=1)\n",
    "polynomial_2 = np.polyfit(noise_scaling,results,deg=2)\n",
    "polynomial_3 = np.polyfit(noise_scaling,results,deg=3)\n",
    "\n",
    "x_new = np.array([0])\n",
    "y_1 = np.polyval(polynomial_1,x_new)\n",
    "y_2 = np.polyval(polynomial_2,x_new)\n",
    "y_3 = np.polyval(polynomial_3,x_new)\n",
    "\n",
    "print(\"Result without ZNE:\",results[0])\n",
    "print(\"Correct result:\", 1)\n",
    "print(\"----------------------------------\")\n",
    "print(\"Results of the extrapolations\")\n",
    "print(\"Linear extrapolation:\", y_1 )\n",
    "print(\"Polinomial extrapolation order: 2 \", y_2 )\n",
    "print(\"Polinomial extrapolation order 3:\", y_3)\n",
    "\n",
    "plt.plot(noise_scaling,results, \"o--\", linewidth=2.5, markersize=7)\n",
    "plt.plot(0,y_3, \"o\", markersize=7, label = \"ZNE Poly order 3\")\n",
    "plt.plot(0,y_2, \"o\", markersize=7, label = \"ZNE Poly order 2\")\n",
    "plt.plot(0,y_1, \"o\", markersize=7, label = \"ZNE Linear\")\n",
    "plt.xticks(size=12)\n",
    "plt.yticks(size=12)\n",
    "plt.title(r\"ZNE for 2 noisy BS.Rx and 2 Bs.Ry with $ \\theta = \\pi$\")\n",
    "plt.xlabel('Noise Scaling', size= 12)\n",
    "plt.ylabel('Expectation Value', size=12)\n",
    "plt.legend()\n",
    "plt.grid()\n",
    "plt.show()\n"
   ]
  },
  {
   "cell_type": "markdown",
   "id": "3f82868d-d960-4793-a798-f65f934fcf3a",
   "metadata": {
    "tags": []
   },
   "source": [
    "# 4. QPU results <a name=\"QPU\"></a>"
   ]
  },
  {
   "cell_type": "markdown",
   "id": "d25089dd-fc8e-4a90-a2e7-ee586c4ef341",
   "metadata": {
    "tags": []
   },
   "source": [
    "At the moment of using `Sampler` an error occurs where the number of counts is bigger than the input samples.  "
   ]
  },
  {
   "cell_type": "code",
   "execution_count": null,
   "id": "fb0c33cb-f464-4529-9776-357ffb2ec1ac",
   "metadata": {
    "tags": []
   },
   "outputs": [],
   "source": [
    "token_qcloud = ''\n",
    "remote_simulator = pcvl.RemoteProcessor(\"sim:ascella\", token_qcloud)\n",
    "print(remote_simulator.available_commands)"
   ]
  },
  {
   "cell_type": "code",
   "execution_count": 103,
   "id": "e77e5b4c-5a67-4e38-83bc-c80bdeddee6b",
   "metadata": {
    "tags": []
   },
   "outputs": [
    {
     "name": "stdout",
     "output_type": "stream",
     "text": [
      "Noise Scaling: 1\n",
      "{\n",
      "  |1,0>: 116826\n",
      "  |0,1>: 718\n",
      "}\n",
      "Noise Scaling: 2\n",
      "{\n",
      "  |1,0>: 117127\n",
      "  |0,1>: 202\n",
      "}\n",
      "Noise Scaling: 3\n",
      "{\n",
      "  |1,0>: 119414\n",
      "  |0,1>: 276\n",
      "}\n",
      "Noise Scaling: 4\n",
      "{\n",
      "  |1,0>: 117208\n",
      "  |0,1>: 420\n",
      "}\n",
      "QPU Result without ZNE: 0.9938916490845981\n",
      "Correct result: 1\n",
      "----------------------------------\n",
      "Results of the extrapolations\n",
      "Linear extrapolation: [0.99481611]\n",
      "Polinomial extrapolation order: 2  [0.98775196]\n",
      "Polinomial extrapolation order 3: [0.98024327]\n"
     ]
    },
    {
     "data": {
      "image/png": "[encoded data removed]",
      "text/plain": [
       "<Figure size 640x480 with 1 Axes>"
      ]
     },
     "metadata": {},
     "output_type": "display_data"
    }
   ],
   "source": [
    "results_qpu = []\n",
    "noise_scaling_qpu = []\n",
    "\n",
    "source = pcvl.Source(emission_probability=0.70, multiphoton_component=0.04, losses=0.3)\n",
    "\n",
    "source = pcvl.Source()\n",
    "\n",
    "scaling = 0\n",
    "\n",
    "\n",
    "for x in range(1, 9, 2):\n",
    "    scaling+=1\n",
    "    noise_scaling_qpu.append(scaling)\n",
    "    print(\"Noise Scaling:\", scaling)\n",
    "\n",
    "    circuit_id_noise = pcvl.Circuit(2)\n",
    "\n",
    "    for i in range(x):\n",
    "        circuit_id_noise.add((0, 1), BS.Rx(theta= np.pi))\n",
    "        circuit_id_noise.add((0, 1), BS.Rx(theta= np.pi))\n",
    "        circuit_id_noise.add((0, 1), BS.Ry(theta= np.pi))\n",
    "        circuit_id_noise.add((0, 1), BS.Ry(theta= np.pi))\n",
    "         \n",
    "    #p = pcvl.Processor(\"SLOS\", circuit_id_noise, source)\n",
    "    remote_qpu = pcvl.RemoteProcessor(\"qpu:ascella\", token_qcloud) \n",
    "\n",
    "    remote_qpu.with_input(pcvl.BasicState([1, 0]))\n",
    "    \n",
    "    nsample = 10000\n",
    "    remote_job = sampler.sample_count(nsample)\n",
    "    print(remote_job['results'])\n",
    "\n",
    "    #output_distribution = p.probs()[\"results\"]\n",
    "    #pcvl.pdisplay(output_distribution, max_v=10)\n",
    "\n",
    "    for output_state, count in remote_job['results'].items():\n",
    "        if (output_state[0] == 1 and output_state[1] == 0):\n",
    "            results_qpu.append(count/remote_job['results'].total())\n",
    "            \n",
    "polynomial_1 = np.polyfit(noise_scaling,results_qpu,deg=1)\n",
    "polynomial_2 = np.polyfit(noise_scaling,results_qpu,deg=2)\n",
    "polynomial_3 = np.polyfit(noise_scaling,results_qpu,deg=3)\n",
    "\n",
    "x_new = np.array([0])\n",
    "y_1 = np.polyval(polynomial_1,x_new)\n",
    "y_2 = np.polyval(polynomial_2,x_new)\n",
    "y_3 = np.polyval(polynomial_3,x_new)\n",
    "\n",
    "print(\"QPU Result without ZNE:\",results_qpu[0])\n",
    "print(\"Correct result:\", 1)\n",
    "print(\"----------------------------------\")\n",
    "print(\"Results of the extrapolations\")\n",
    "print(\"Linear extrapolation:\", y_1 )\n",
    "print(\"Polinomial extrapolation order: 2 \", y_2 )\n",
    "print(\"Polinomial extrapolation order 3:\", y_3)\n",
    "\n",
    "plt.plot(noise_scaling,results_qpu, \"o--\", linewidth=2.5, markersize=7)\n",
    "plt.plot(0,y_3, \"o\", markersize=7, label = \"ZNE Poly order 3\")\n",
    "plt.plot(0,y_2, \"o\", markersize=7, label = \"ZNE Poly order 2\")\n",
    "plt.plot(0,y_1, \"o\", markersize=7, label = \"ZNE Linear\")\n",
    "plt.xticks(size=12)\n",
    "plt.yticks(size=12)\n",
    "plt.title(r\"ZNE for 2  BS.Rx and 2 Bs.Ry with $ \\theta = \\pi$ in real QPU\")\n",
    "plt.xlabel('Noise Scaling', size= 12)\n",
    "plt.ylabel('Expectation Value', size=12)\n",
    "plt.legend()\n",
    "plt.grid()\n",
    "plt.show()"
   ]
  },
  {
   "cell_type": "markdown",
   "id": "69ad06f2",
   "metadata": {},
   "source": [
    "# 5. Conclusions and future work\n",
    "\n",
    "The naive noise model with random noise in the angle of the beam splitter shows similar results as with the real QPU noisy system. Further improvement to the model is necessary for a better generalization. The results of the simple ZNE implementation demonstrate a margin of improvement compared with the unmitigated results, even though the way noise in linear optical components scales is different from the usual way of applying ZNE. A more thorough study of how to apply ZNE to quantum photonics is necessary.     "
   ]
  },
  {
   "cell_type": "markdown",
   "id": "c0a93c50",
   "metadata": {},
   "source": [
    "## References\n",
    "\n",
    "[1] https://perceval.quandela.net/docs/index.html \n",
    "\n",
    "[2] https://arxiv.org/abs/2005.10921 \n"
   ]
  },
  {
   "cell_type": "code",
   "execution_count": null,
   "id": "0248f721",
   "metadata": {},
   "outputs": [],
   "source": []
  }
 ],
 "metadata": {
  "kernelspec": {
   "display_name": "Python 3 (ipykernel)",
   "language": "python",
   "name": "python3"
  },
  "language_info": {
   "codemirror_mode": {
    "name": "ipython",
    "version": 3
   },
   "file_extension": ".py",
   "mimetype": "text/x-python",
   "name": "python",
   "nbconvert_exporter": "python",
   "pygments_lexer": "ipython3",
   "version": "3.8.17"
  }
 },
 "nbformat": 4,
 "nbformat_minor": 5
}
