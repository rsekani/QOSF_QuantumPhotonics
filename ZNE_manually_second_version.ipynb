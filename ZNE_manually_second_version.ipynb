{
 "cells": [
  {
   "cell_type": "code",
   "execution_count": 1,
   "id": "3e40d39b-34dd-4ba4-a883-7fc70a809dfd",
   "metadata": {},
   "outputs": [],
   "source": [
    "import perceval as pcvl\n",
    "import sympy as sp\n",
    "import numpy as np\n",
    "from perceval.components import BS"
   ]
  },
  {
   "cell_type": "code",
   "execution_count": 34,
   "id": "2a3e4d1b-7802-40e4-812a-0548e59204bb",
   "metadata": {},
   "outputs": [
    {
     "data": {
      "image/svg+xml": [
       "<?xml version=\"1.0\" encoding=\"UTF-8\"?>\n",
       "<svg xmlns=\"http://www.w3.org/2000/svg\" xmlns:xlink=\"http://www.w3.org/1999/xlink\"\n",
       "     width=\"250.0\" height=\"156.25\" viewBox=\"-25 0 200 125.0\">\n",
       "<defs>\n",
       "</defs>\n",
       "<path d=\"M10,25 L25,25\" stroke-width=\"3\" stroke=\"darkred\" stroke-linejoin=\"miter\" fill=\"none\" />\n",
       "<path d=\"M10,75 L25,75\" stroke-width=\"3\" stroke=\"darkred\" stroke-linejoin=\"miter\" fill=\"none\" />\n",
       "<path d=\"M25,25 L53,25 L72,44\" stroke=\"darkred\" stroke-width=\"3\" fill=\"none\" />\n",
       "<path d=\"M78,44 L97,25 L125,25\" stroke=\"darkred\" stroke-width=\"3\" fill=\"none\" />\n",
       "<path d=\"M25,75 L53,75 L72,56\" stroke=\"darkred\" stroke-width=\"3\" fill=\"none\" />\n",
       "<path d=\"M78,56 L97,75 L125,75\" stroke=\"darkred\" stroke-width=\"3\" fill=\"none\" />\n",
       "<path d=\"M50,43 L100,43 L100,57 L50,57 Z\" stroke=\"black\" fill=\"black\" stroke-linejoin=\"miter\" />\n",
       "<text x=\"75\" y=\"80\" font-size=\"7\" text-anchor=\"middle\"></text>\n",
       "<text x=\"75\" y=\"26\" font-size=\"7\" text-anchor=\"middle\">Θ=pi</text>\n",
       "<path d=\"M50,43 L100,43 L100,47 L50,47 Z\" stroke=\"black\" fill=\"lightgray\" stroke-linejoin=\"miter\" />\n",
       "<path d=\"M93,50 L103,50 L103,60 L93,60 Z\" stroke=\"black\" fill=\"thistle\" stroke-linejoin=\"miter\" />\n",
       "<text x=\"98\" y=\"57\" font-size=\"6\" text-anchor=\"middle\">Rx</text>\n",
       "<path d=\"M125,25 L140,25\" stroke-width=\"3\" stroke=\"darkred\" stroke-linejoin=\"miter\" fill=\"none\" />\n",
       "<path d=\"M125,75 L140,75\" stroke-width=\"3\" stroke=\"darkred\" stroke-linejoin=\"miter\" fill=\"none\" />\n",
       "</svg>"
      ],
      "text/plain": [
       "<drawsvg.drawing.Drawing at 0x7f4e5c548dc0>"
      ]
     },
     "execution_count": 34,
     "metadata": {},
     "output_type": "execute_result"
    }
   ],
   "source": [
    "source = pcvl.Source() \n",
    "QPU = pcvl.Processor(\"Naive\",2,source)\n",
    "R = 0.0\n",
    "QPU.add(0, pcvl.BS(BS.r_to_theta(R)))\n",
    "\n",
    "pcvl.pdisplay(QPU, recursive = True)"
   ]
  },
  {
   "cell_type": "code",
   "execution_count": null,
   "id": "b1834dcb",
   "metadata": {},
   "outputs": [],
   "source": [
    "states = {\n",
    "    pcvl.BasicState([1, 0]): \"0\",\n",
    "    pcvl.BasicState([0, 1]): \"1\",\n",
    "}\n",
    "\n",
    "ca = pcvl.algorithm.Analyzer(QPU, states)"
   ]
  },
  {
   "cell_type": "code",
   "execution_count": null,
   "id": "d2f1b01c",
   "metadata": {},
   "outputs": [],
   "source": [
    "ca.compute(expected={\"0\": \"0\", \"1\": \"1\"})\n",
    "pcvl.pdisplay(ca)"
   ]
  },
  {
   "cell_type": "code",
   "execution_count": 33,
   "id": "f36c2d37",
   "metadata": {},
   "outputs": [
    {
     "data": {
      "text/plain": [
       "MatrixN([[6.123234e-17+0.j, 0.000000e+00+1.j],\n",
       "         [0.000000e+00+1.j, 6.123234e-17+0.j]])"
      ]
     },
     "execution_count": 33,
     "metadata": {},
     "output_type": "execute_result"
    }
   ],
   "source": [
    "pcvl.BS(BS.r_to_theta(0)).compute_unitary()"
   ]
  },
  {
   "cell_type": "code",
   "execution_count": 3,
   "id": "229f1e5a-e570-4a9a-91e3-f7132e403b96",
   "metadata": {},
   "outputs": [
    {
     "data": {
      "text/html": [
       "<table>\n",
       "<thead>\n",
       "<tr><th>state  </th><th style=\"text-align: right;\">  probability</th></tr>\n",
       "</thead>\n",
       "<tbody>\n",
       "<tr><td>|1,0&gt;  </td><td style=\"text-align: right;\">            1</td></tr>\n",
       "</tbody>\n",
       "</table>"
      ],
      "text/plain": [
       "<IPython.core.display.HTML object>"
      ]
     },
     "metadata": {},
     "output_type": "display_data"
    }
   ],
   "source": [
    "# Gives the source distribution\n",
    "QPU.with_input(pcvl.BasicState([1, 0]))\n",
    "pcvl.pdisplay(QPU.source_distribution, precision=1e-4)"
   ]
  },
  {
   "cell_type": "code",
   "execution_count": 4,
   "id": "d5f1c55c-c3e6-4533-b9e2-8eafc83f9c07",
   "metadata": {},
   "outputs": [
    {
     "data": {
      "text/html": [
       "<table>\n",
       "<thead>\n",
       "<tr><th>state  </th><th style=\"text-align: right;\">  probability</th></tr>\n",
       "</thead>\n",
       "<tbody>\n",
       "<tr><td>|0,1&gt;  </td><td style=\"text-align: right;\">            1</td></tr>\n",
       "</tbody>\n",
       "</table>"
      ],
      "text/plain": [
       "<IPython.core.display.HTML object>"
      ]
     },
     "metadata": {},
     "output_type": "display_data"
    }
   ],
   "source": [
    "# Gives the output distribution\n",
    "output_distribution=QPU.probs()[\"results\"]\n",
    "pcvl.pdisplay(output_distribution, max_v=10)"
   ]
  },
  {
   "cell_type": "markdown",
   "id": "3154c469-ef0f-4480-9048-c3c9f69b91a3",
   "metadata": {},
   "source": [
    "<h3> Using R = 0.01, a reflector with 99.99% accurate reflectivity and 0.01%  </h3>"
   ]
  },
  {
   "cell_type": "code",
   "execution_count": 5,
   "id": "3c45cc22-5e2b-46ba-b4bc-f9170c9a7ec6",
   "metadata": {},
   "outputs": [
    {
     "data": {
      "text/html": [
       "<table>\n",
       "<thead>\n",
       "<tr><th style=\"text-align: right;\">  </th><th style=\"text-align: right;\">   0</th><th style=\"text-align: right;\">   1</th></tr>\n",
       "</thead>\n",
       "<tbody>\n",
       "<tr><td style=\"text-align: right;\"> 0</td><td style=\"text-align: right;\">0.01</td><td style=\"text-align: right;\">0.99</td></tr>\n",
       "<tr><td style=\"text-align: right;\"> 1</td><td style=\"text-align: right;\">0.99</td><td style=\"text-align: right;\">0.01</td></tr>\n",
       "</tbody>\n",
       "</table>"
      ],
      "text/plain": [
       "<IPython.core.display.HTML object>"
      ]
     },
     "metadata": {},
     "output_type": "display_data"
    },
    {
     "data": {
      "text/html": [
       "<table>\n",
       "<thead>\n",
       "<tr><th>state  </th><th style=\"text-align: right;\">  probability</th></tr>\n",
       "</thead>\n",
       "<tbody>\n",
       "<tr><td>|1,0&gt;  </td><td style=\"text-align: right;\">            1</td></tr>\n",
       "</tbody>\n",
       "</table>"
      ],
      "text/plain": [
       "<IPython.core.display.HTML object>"
      ]
     },
     "metadata": {},
     "output_type": "display_data"
    },
    {
     "data": {
      "text/html": [
       "<table>\n",
       "<thead>\n",
       "<tr><th>state  </th><th style=\"text-align: right;\">  probability</th></tr>\n",
       "</thead>\n",
       "<tbody>\n",
       "<tr><td>|0,1&gt;  </td><td style=\"text-align: right;\">         0.99</td></tr>\n",
       "<tr><td>|1,0&gt;  </td><td style=\"text-align: right;\">         0.01</td></tr>\n",
       "</tbody>\n",
       "</table>"
      ],
      "text/plain": [
       "<IPython.core.display.HTML object>"
      ]
     },
     "metadata": {},
     "output_type": "display_data"
    }
   ],
   "source": [
    "source = pcvl.Source() \n",
    "QPU = pcvl.Processor(\"Naive\",2,source)\n",
    "R = 0.01\n",
    "QPU.add(0, pcvl.BS(BS.r_to_theta(R)))\n",
    "\n",
    "pcvl.pdisplay(QPU, recursive = True)\n",
    "\n",
    "states = {\n",
    "    pcvl.BasicState([1, 0]): \"0\",\n",
    "    pcvl.BasicState([0, 1]): \"1\",\n",
    "}\n",
    "\n",
    "ca = pcvl.algorithm.Analyzer(QPU, states)\n",
    "ca.compute(expected={\"0\": \"0\", \"1\": \"1\"})\n",
    "pcvl.pdisplay(ca)\n",
    "\n",
    "# Gives the source distribution\n",
    "QPU.with_input(pcvl.BasicState([1, 0]))\n",
    "pcvl.pdisplay(QPU.source_distribution, precision=1e-4)\n",
    "\n",
    "# Gives the output distribution\n",
    "output_distribution=QPU.probs()[\"results\"]\n",
    "pcvl.pdisplay(output_distribution, max_v=10)"
   ]
  },
  {
   "cell_type": "code",
   "execution_count": 6,
   "id": "61e82537-3895-42fd-ae16-ad63c8426047",
   "metadata": {},
   "outputs": [
    {
     "name": "stdout",
     "output_type": "stream",
     "text": [
      "1\n",
      "0.99\n",
      "3\n",
      "0.912384\n",
      "5\n",
      "0.7694463744000001\n",
      "7\n",
      "0.5838284430950402\n",
      "9\n",
      "0.3849320864038259\n",
      "11\n",
      "0.20426248722624557\n",
      "13\n",
      "0.07043771007202791\n",
      "15\n",
      "0.004655599642401016\n",
      "[0.99, 0.912384, 0.7694463744000001, 0.5838284430950402, 0.3849320864038259, 0.20426248722624557, 0.07043771007202791, 0.004655599642401016]\n"
     ]
    }
   ],
   "source": [
    "arr = []\n",
    "qubits = []\n",
    "for x in range(1,16,2):\n",
    "    print(x)\n",
    "    qubits.append(x)\n",
    "    source = pcvl.Source() \n",
    "    QPU = pcvl.Processor(\"Naive\",2,source)\n",
    "    R = 0.01\n",
    "    for i in range(x):\n",
    "        QPU.add(0, pcvl.BS(BS.r_to_theta(R)))\n",
    "\n",
    "    # pcvl.pdisplay(QPU, recursive = True)\n",
    "\n",
    "    states = {\n",
    "        pcvl.BasicState([1, 0]): \"0\",\n",
    "        pcvl.BasicState([0, 1]): \"1\",\n",
    "    }\n",
    "\n",
    "    ca = pcvl.algorithm.Analyzer(QPU, states)\n",
    "    ca.compute(expected={\"0\": \"0\", \"1\": \"1\"})\n",
    "    # pcvl.pdisplay(ca)\n",
    "\n",
    "    # Gives the source distribution\n",
    "    QPU.with_input(pcvl.BasicState([1, 0]))\n",
    "    # pcvl.pdisplay(QPU.source_distribution, precision=1e-4)\n",
    "\n",
    "    # Gives the output distribution\n",
    "    output_distribution=QPU.probs()[\"results\"]\n",
    "    # pcvl.pdisplay(output_distribution, max_v=10)\n",
    "    arr.append(list(output_distribution.values())[1])\n",
    "    print(list(output_distribution.values())[1])\n",
    "    \n",
    "print(arr)"
   ]
  },
  {
   "cell_type": "code",
   "execution_count": 7,
   "id": "1e9e9eca-a2b6-48df-b4da-cd673cba01f8",
   "metadata": {},
   "outputs": [
    {
     "data": {
      "image/png": "[encoded data removed]",
      "text/plain": [
       "<Figure size 640x480 with 1 Axes>"
      ]
     },
     "metadata": {},
     "output_type": "display_data"
    }
   ],
   "source": [
    "import matplotlib.pyplot as plt\n",
    "plt.xticks(range(min(qubits), max(qubits)+1))\n",
    "plt.plot(qubits,arr,'x')\n",
    "plt.show()"
   ]
  },
  {
   "cell_type": "code",
   "execution_count": 8,
   "id": "2616e9df-e8ae-4362-ae5f-7e37996a238b",
   "metadata": {},
   "outputs": [
    {
     "name": "stdout",
     "output_type": "stream",
     "text": [
      "[[1, 0.99], [3, 0.912384], [5, 0.7694463744000001], [7, 0.5838284430950402], [9, 0.3849320864038259], [11, 0.20426248722624557], [13, 0.07043771007202791], [15, 0.004655599642401016]]\n"
     ]
    }
   ],
   "source": [
    "out = []\n",
    "for i in range(len(qubits)):\n",
    "    u = [qubits[i],arr[i]]\n",
    "    out.append(u)\n",
    "print(out)"
   ]
  },
  {
   "cell_type": "code",
   "execution_count": 9,
   "id": "08f2a737-a345-438a-a2e9-d1aa0518adb7",
   "metadata": {},
   "outputs": [],
   "source": [
    "def Linear_extrapolation_(q, r):\n",
    "    result = (q[0][1] + (r - q[0][0]) /\n",
    "        (q[1][0] - q[0][0]) *\n",
    "        (q[1][1] - q[0][1]));\n",
    " \n",
    "    return result"
   ]
  },
  {
   "cell_type": "code",
   "execution_count": 10,
   "id": "000985d5-22a5-412c-bafe-e49410777e87",
   "metadata": {},
   "outputs": [
    {
     "data": {
      "text/plain": [
       "1.028808"
      ]
     },
     "execution_count": 10,
     "metadata": {},
     "output_type": "execute_result"
    }
   ],
   "source": [
    "Linear_extrapolation_(out,0)"
   ]
  },
  {
   "cell_type": "code",
   "execution_count": 11,
   "id": "23170d3c-1021-4c41-a4f3-4503081668d0",
   "metadata": {},
   "outputs": [
    {
     "data": {
      "text/plain": [
       "array([1.12066536])"
      ]
     },
     "execution_count": 11,
     "metadata": {},
     "output_type": "execute_result"
    }
   ],
   "source": [
    "import numpy as np\n",
    "p = np.polyfit(qubits,arr,deg=2)\n",
    "x_new = np.array([0])\n",
    "y_new = np.polyval(p,x_new)\n",
    "y_new"
   ]
  },
  {
   "cell_type": "code",
   "execution_count": 12,
   "id": "a497bbac-121a-49ec-967d-781d57f417b3",
   "metadata": {},
   "outputs": [
    {
     "data": {
      "text/plain": [
       "array([0.99348603])"
      ]
     },
     "execution_count": 12,
     "metadata": {},
     "output_type": "execute_result"
    }
   ],
   "source": [
    "import numpy as np\n",
    "p = np.polyfit(qubits,arr,deg=3)\n",
    "x_new = np.array([0])\n",
    "y_new = np.polyval(p,x_new)\n",
    "y_new"
   ]
  },
  {
   "cell_type": "code",
   "execution_count": 13,
   "id": "e8b1e4c2-7a9c-4a4d-91fd-c62cfaab6651",
   "metadata": {},
   "outputs": [
    {
     "data": {
      "text/plain": [
       "array([0.99240071])"
      ]
     },
     "execution_count": 13,
     "metadata": {},
     "output_type": "execute_result"
    }
   ],
   "source": [
    "import numpy as np\n",
    "p = np.polyfit(qubits,arr,deg=4)\n",
    "x_new = np.array([0])\n",
    "y_new = np.polyval(p,x_new)\n",
    "y_new"
   ]
  },
  {
   "cell_type": "code",
   "execution_count": 14,
   "id": "5686ea52-3b21-45f1-bdf1-6a17f184a484",
   "metadata": {},
   "outputs": [
    {
     "data": {
      "text/plain": [
       "array([1.00027095])"
      ]
     },
     "execution_count": 14,
     "metadata": {},
     "output_type": "execute_result"
    }
   ],
   "source": [
    "import numpy as np\n",
    "p = np.polyfit(qubits,arr,deg=5)\n",
    "x_new = np.array([0])\n",
    "y_new = np.polyval(p,x_new)\n",
    "y_new"
   ]
  },
  {
   "cell_type": "code",
   "execution_count": 15,
   "id": "29800c43-4599-43ab-b06d-904c1374c216",
   "metadata": {},
   "outputs": [
    {
     "data": {
      "text/plain": [
       "array([1.00032427])"
      ]
     },
     "execution_count": 15,
     "metadata": {},
     "output_type": "execute_result"
    }
   ],
   "source": [
    "import numpy as np\n",
    "p = np.polyfit(qubits,arr,deg=6)\n",
    "x_new = np.array([0])\n",
    "y_new = np.polyval(p,x_new)\n",
    "y_new"
   ]
  },
  {
   "cell_type": "markdown",
   "id": "83879982-0681-455d-a416-4497404a98cc",
   "metadata": {},
   "source": [
    "<h3> Using R = 0.1, having a reflector with 99% accurate reflectivity and 0.1% error"
   ]
  },
  {
   "cell_type": "code",
   "execution_count": 16,
   "id": "911e4d8d-15ef-4c42-abf1-abd77bffd68f",
   "metadata": {},
   "outputs": [
    {
     "data": {
      "text/html": [
       "<table>\n",
       "<thead>\n",
       "<tr><th style=\"text-align: right;\">  </th><th>0   </th><th>1   </th></tr>\n",
       "</thead>\n",
       "<tbody>\n",
       "<tr><td style=\"text-align: right;\"> 0</td><td>1/10</td><td>9/10</td></tr>\n",
       "<tr><td style=\"text-align: right;\"> 1</td><td>9/10</td><td>1/10</td></tr>\n",
       "</tbody>\n",
       "</table>"
      ],
      "text/plain": [
       "<IPython.core.display.HTML object>"
      ]
     },
     "metadata": {},
     "output_type": "display_data"
    },
    {
     "data": {
      "text/html": [
       "<table>\n",
       "<thead>\n",
       "<tr><th>state  </th><th style=\"text-align: right;\">  probability</th></tr>\n",
       "</thead>\n",
       "<tbody>\n",
       "<tr><td>|1,0&gt;  </td><td style=\"text-align: right;\">            1</td></tr>\n",
       "</tbody>\n",
       "</table>"
      ],
      "text/plain": [
       "<IPython.core.display.HTML object>"
      ]
     },
     "metadata": {},
     "output_type": "display_data"
    },
    {
     "data": {
      "text/html": [
       "<table>\n",
       "<thead>\n",
       "<tr><th>state  </th><th>probability  </th></tr>\n",
       "</thead>\n",
       "<tbody>\n",
       "<tr><td>|0,1&gt;  </td><td>9/10         </td></tr>\n",
       "<tr><td>|1,0&gt;  </td><td>1/10         </td></tr>\n",
       "</tbody>\n",
       "</table>"
      ],
      "text/plain": [
       "<IPython.core.display.HTML object>"
      ]
     },
     "metadata": {},
     "output_type": "display_data"
    }
   ],
   "source": [
    "source = pcvl.Source() \n",
    "QPU = pcvl.Processor(\"Naive\",2,source)\n",
    "R = 0.1\n",
    "QPU.add(0, pcvl.BS(BS.r_to_theta(R)))\n",
    "\n",
    "pcvl.pdisplay(QPU, recursive = True)\n",
    "\n",
    "states = {\n",
    "    pcvl.BasicState([1, 0]): \"0\",\n",
    "    pcvl.BasicState([0, 1]): \"1\",\n",
    "}\n",
    "\n",
    "ca = pcvl.algorithm.Analyzer(QPU, states)\n",
    "ca.compute(expected={\"0\": \"0\", \"1\": \"1\"})\n",
    "pcvl.pdisplay(ca)\n",
    "\n",
    "# Gives the source distribution\n",
    "QPU.with_input(pcvl.BasicState([1, 0]))\n",
    "pcvl.pdisplay(QPU.source_distribution, precision=1e-4)\n",
    "\n",
    "# Gives the output distribution\n",
    "output_distribution=QPU.probs()[\"results\"]\n",
    "pcvl.pdisplay(output_distribution, max_v=10)"
   ]
  },
  {
   "cell_type": "code",
   "execution_count": 17,
   "id": "d66a5e14-68c9-4627-b3a6-5fda806c3afa",
   "metadata": {},
   "outputs": [
    {
     "name": "stdout",
     "output_type": "stream",
     "text": [
      "1\n",
      "0.9\n",
      "3\n",
      "0.324\n",
      "5\n",
      "0.0014400000000000081\n",
      "7\n",
      "0.3968064000000002\n",
      "9\n",
      "0.9407715840000002\n",
      "11\n",
      "0.8500256870399997\n",
      "13\n",
      "0.25524280074239963\n",
      "15\n",
      "0.012910281375744126\n",
      "[0.9, 0.324, 0.0014400000000000081, 0.3968064000000002, 0.9407715840000002, 0.8500256870399997, 0.25524280074239963, 0.012910281375744126]\n"
     ]
    }
   ],
   "source": [
    "arr = []\n",
    "qubits = []\n",
    "for x in range(1,16,2):\n",
    "    print(x)\n",
    "    qubits.append(x)\n",
    "    source = pcvl.Source() \n",
    "    QPU = pcvl.Processor(\"Naive\",2,source)\n",
    "    R = 0.1\n",
    "    for i in range(x):\n",
    "        QPU.add(0, pcvl.BS(BS.r_to_theta(R)))\n",
    "\n",
    "    # pcvl.pdisplay(QPU, recursive = True)\n",
    "\n",
    "    states = {\n",
    "        pcvl.BasicState([1, 0]): \"0\",\n",
    "        pcvl.BasicState([0, 1]): \"1\",\n",
    "    }\n",
    "\n",
    "    ca = pcvl.algorithm.Analyzer(QPU, states)\n",
    "    ca.compute(expected={\"0\": \"0\", \"1\": \"1\"})\n",
    "    # pcvl.pdisplay(ca)\n",
    "\n",
    "    # Gives the source distribution\n",
    "    QPU.with_input(pcvl.BasicState([1, 0]))\n",
    "    # pcvl.pdisplay(QPU.source_distribution, precision=1e-4)\n",
    "\n",
    "    # Gives the output distribution\n",
    "    output_distribution=QPU.probs()[\"results\"]\n",
    "    # pcvl.pdisplay(output_distribution, max_v=10)\n",
    "    arr.append(list(output_distribution.values())[1])\n",
    "    print(list(output_distribution.values())[1])\n",
    "    \n",
    "print(arr)"
   ]
  },
  {
   "cell_type": "code",
   "execution_count": 18,
   "id": "b4633e9f-1f04-49e7-991b-3e088c035970",
   "metadata": {},
   "outputs": [
    {
     "data": {
      "image/png": "[encoded data removed]",
      "text/plain": [
       "<Figure size 640x480 with 1 Axes>"
      ]
     },
     "metadata": {},
     "output_type": "display_data"
    }
   ],
   "source": [
    "import matplotlib.pyplot as plt\n",
    "plt.xticks(range(min(qubits), max(qubits)+1))\n",
    "plt.plot(qubits,arr,'x')\n",
    "plt.show()"
   ]
  },
  {
   "cell_type": "code",
   "execution_count": 19,
   "id": "ee1e9be4-70bb-4023-a3cb-7eb66fe795ba",
   "metadata": {},
   "outputs": [
    {
     "name": "stdout",
     "output_type": "stream",
     "text": [
      "[[1, 0.9], [3, 0.324], [5, 0.0014400000000000081], [7, 0.3968064000000002], [9, 0.9407715840000002], [11, 0.8500256870399997], [13, 0.25524280074239963], [15, 0.012910281375744126]]\n"
     ]
    }
   ],
   "source": [
    "out = []\n",
    "for i in range(len(qubits)):\n",
    "    u = [qubits[i],arr[i]]\n",
    "    out.append(u)\n",
    "print(out)"
   ]
  },
  {
   "cell_type": "code",
   "execution_count": 20,
   "id": "13074caf-88d8-4182-82ce-e14af261f82f",
   "metadata": {},
   "outputs": [
    {
     "data": {
      "text/plain": [
       "1.1880000000000002"
      ]
     },
     "execution_count": 20,
     "metadata": {},
     "output_type": "execute_result"
    }
   ],
   "source": [
    "Linear_extrapolation_(out,0)"
   ]
  },
  {
   "cell_type": "code",
   "execution_count": 21,
   "id": "8926293e-e0fc-489e-9c84-fd3ed9c86d1e",
   "metadata": {},
   "outputs": [
    {
     "data": {
      "text/plain": [
       "array([0.47966333])"
      ]
     },
     "execution_count": 21,
     "metadata": {},
     "output_type": "execute_result"
    }
   ],
   "source": [
    "import numpy as np\n",
    "p = np.polyfit(qubits,arr,deg=2)\n",
    "x_new = np.array([0])\n",
    "y_new = np.polyval(p,x_new)\n",
    "y_new"
   ]
  },
  {
   "cell_type": "code",
   "execution_count": 22,
   "id": "9e2ceca1-78bf-4789-a9fb-d99b3f8c16e1",
   "metadata": {},
   "outputs": [
    {
     "data": {
      "text/plain": [
       "array([1.39587952])"
      ]
     },
     "execution_count": 22,
     "metadata": {},
     "output_type": "execute_result"
    }
   ],
   "source": [
    "import numpy as np\n",
    "p = np.polyfit(qubits,arr,deg=3)\n",
    "x_new = np.array([0])\n",
    "y_new = np.polyval(p,x_new)\n",
    "y_new"
   ]
  },
  {
   "cell_type": "code",
   "execution_count": 23,
   "id": "9fa5221f-d971-4284-bbc5-7d2242e9fe53",
   "metadata": {},
   "outputs": [
    {
     "data": {
      "text/plain": [
       "array([1.94891638])"
      ]
     },
     "execution_count": 23,
     "metadata": {},
     "output_type": "execute_result"
    }
   ],
   "source": [
    "import numpy as np\n",
    "p = np.polyfit(qubits,arr,deg=4)\n",
    "x_new = np.array([0])\n",
    "y_new = np.polyval(p,x_new)\n",
    "y_new"
   ]
  },
  {
   "cell_type": "code",
   "execution_count": 24,
   "id": "3b53fe02-552c-4a1f-ad5e-7265664d892a",
   "metadata": {},
   "outputs": [
    {
     "data": {
      "text/plain": [
       "array([0.81117343])"
      ]
     },
     "execution_count": 24,
     "metadata": {},
     "output_type": "execute_result"
    }
   ],
   "source": [
    "import numpy as np\n",
    "p = np.polyfit(qubits,arr,deg=5)\n",
    "x_new = np.array([0])\n",
    "y_new = np.polyval(p,x_new)\n",
    "y_new"
   ]
  },
  {
   "cell_type": "code",
   "execution_count": 25,
   "id": "d2602c28-41b9-4d91-a4b6-c13e9f025252",
   "metadata": {},
   "outputs": [
    {
     "data": {
      "image/png": "[encoded data removed]",
      "text/plain": [
       "<Figure size 640x480 with 1 Axes>"
      ]
     },
     "metadata": {},
     "output_type": "display_data"
    }
   ],
   "source": [
    "plt.plot(qubits,arr, 'o', label='data')\n",
    "plt.plot(x_new, y_new, 'x', label='linear extrapolation')\n",
    "plt.legend()\n",
    "plt.show()"
   ]
  },
  {
   "cell_type": "code",
   "execution_count": null,
   "id": "1220d468-1336-4ee8-8ddc-d879763869ed",
   "metadata": {},
   "outputs": [],
   "source": []
  },
  {
   "cell_type": "code",
   "execution_count": null,
   "id": "951641d1",
   "metadata": {},
   "outputs": [],
   "source": []
  }
 ],
 "metadata": {
  "kernelspec": {
   "display_name": "Python 3 (ipykernel)",
   "language": "python",
   "name": "python3"
  },
  "language_info": {
   "codemirror_mode": {
    "name": "ipython",
    "version": 3
   },
   "file_extension": ".py",
   "mimetype": "text/x-python",
   "name": "python",
   "nbconvert_exporter": "python",
   "pygments_lexer": "ipython3",
   "version": "3.8.17"
  }
 },
 "nbformat": 4,
 "nbformat_minor": 5
}
