{
 "cells": [
  {
   "cell_type": "code",
   "execution_count": 2,
   "id": "f53a24a7-8675-4ba8-87bd-d21708762bae",
   "metadata": {},
   "outputs": [],
   "source": [
    "import perceval as pcvl\n",
    "import sympy as sp\n",
    "import numpy as np\n",
    "from perceval.components import BS\n",
    "from perceval.algorithm import Sampler"
   ]
  },
  {
   "attachments": {},
   "cell_type": "markdown",
   "id": "db3056fe",
   "metadata": {},
   "source": [
    "<h3>Converting the Perceval circuit to unitary matrix and then to qiskit circuit to perform ZNE</h3>"
   ]
  },
  {
   "cell_type": "code",
   "execution_count": 8,
   "id": "c41f2523-fe60-4fce-a8e9-d2b81770554b",
   "metadata": {},
   "outputs": [
    {
     "data": {
      "text/html": [
       "<table>\n",
       "<thead>\n",
       "<tr><th style=\"text-align: right;\">  </th><th style=\"text-align: right;\">  0</th><th style=\"text-align: right;\">  1</th></tr>\n",
       "</thead>\n",
       "<tbody>\n",
       "<tr><td style=\"text-align: right;\"> 0</td><td style=\"text-align: right;\">  0</td><td style=\"text-align: right;\">  1</td></tr>\n",
       "<tr><td style=\"text-align: right;\"> 1</td><td style=\"text-align: right;\">  1</td><td style=\"text-align: right;\">  0</td></tr>\n",
       "</tbody>\n",
       "</table>"
      ],
      "text/plain": [
       "<IPython.core.display.HTML object>"
      ]
     },
     "metadata": {},
     "output_type": "display_data"
    },
    {
     "data": {
      "text/html": [
       "<table>\n",
       "<thead>\n",
       "<tr><th>state  </th><th style=\"text-align: right;\">  probability</th></tr>\n",
       "</thead>\n",
       "<tbody>\n",
       "<tr><td>|1,0&gt;  </td><td style=\"text-align: right;\">            1</td></tr>\n",
       "</tbody>\n",
       "</table>"
      ],
      "text/plain": [
       "<IPython.core.display.HTML object>"
      ]
     },
     "metadata": {},
     "output_type": "display_data"
    },
    {
     "data": {
      "text/html": [
       "<table>\n",
       "<thead>\n",
       "<tr><th>state  </th><th style=\"text-align: right;\">  probability</th></tr>\n",
       "</thead>\n",
       "<tbody>\n",
       "<tr><td>|0,1&gt;  </td><td style=\"text-align: right;\">            1</td></tr>\n",
       "</tbody>\n",
       "</table>"
      ],
      "text/plain": [
       "<IPython.core.display.HTML object>"
      ]
     },
     "metadata": {},
     "output_type": "display_data"
    }
   ],
   "source": [
    "source = pcvl.Source() \n",
    "QPU = pcvl.Processor(\"Naive\",2,source)\n",
    "R = 0.0\n",
    "QPU.add(0, pcvl.BS(BS.r_to_theta(R)))\n",
    "\n",
    "pcvl.pdisplay(QPU, recursive = True)\n",
    "\n",
    "states = {\n",
    "    pcvl.BasicState([1, 0]): \"0\",\n",
    "    pcvl.BasicState([0, 1]): \"1\",\n",
    "}\n",
    "\n",
    "ca = pcvl.algorithm.Analyzer(QPU, states)\n",
    "ca.compute(expected={\"0\": \"0\", \"1\": \"1\"})\n",
    "pcvl.pdisplay(ca)\n",
    "\n",
    "# Gives the source distribution\n",
    "QPU.with_input(pcvl.BasicState([1, 0]))\n",
    "pcvl.pdisplay(QPU.source_distribution, precision=1e-4)\n",
    "\n",
    "# Gives the output distribution\n",
    "output_distribution=QPU.probs()[\"results\"]\n",
    "pcvl.pdisplay(output_distribution, max_v=10)"
   ]
  },
  {
   "cell_type": "code",
   "execution_count": 32,
   "id": "8f3f86cf-cc4b-4365-8cde-c8010fea3e16",
   "metadata": {},
   "outputs": [
    {
     "data": {
      "image/svg+xml": [
       "<?xml version=\"1.0\" encoding=\"UTF-8\"?>\n",
       "<svg xmlns=\"http://www.w3.org/2000/svg\" xmlns:xlink=\"http://www.w3.org/1999/xlink\"\n",
       "     width=\"257.5\" height=\"156.25\" viewBox=\"-28.0 0 206.0 125.0\">\n",
       "<defs>\n",
       "</defs>\n",
       "<path d=\"M10,25 L25,25\" stroke-width=\"3\" stroke=\"darkred\" stroke-linejoin=\"miter\" fill=\"none\" />\n",
       "<path d=\"M10,75 L25,75\" stroke-width=\"3\" stroke=\"darkred\" stroke-linejoin=\"miter\" fill=\"none\" />\n",
       "<path d=\"M25,25 L53,25 L72,44\" stroke=\"darkred\" stroke-width=\"3\" fill=\"none\" />\n",
       "<path d=\"M78,44 L97,25 L125,25\" stroke=\"darkred\" stroke-width=\"3\" fill=\"none\" />\n",
       "<path d=\"M25,75 L53,75 L72,56\" stroke=\"darkred\" stroke-width=\"3\" fill=\"none\" />\n",
       "<path d=\"M78,56 L97,75 L125,75\" stroke=\"darkred\" stroke-width=\"3\" fill=\"none\" />\n",
       "<path d=\"M50,43 L100,43 L100,57 L50,57 Z\" stroke=\"black\" fill=\"black\" stroke-linejoin=\"miter\" />\n",
       "<text x=\"75\" y=\"80\" font-size=\"7\" text-anchor=\"middle\"></text>\n",
       "<text x=\"75\" y=\"26\" font-size=\"7\" text-anchor=\"middle\">Θ=pi</text>\n",
       "<path d=\"M50,43 L100,43 L100,47 L50,47 Z\" stroke=\"black\" fill=\"lightgray\" stroke-linejoin=\"miter\" />\n",
       "<path d=\"M93,50 L103,50 L103,60 L93,60 Z\" stroke=\"black\" fill=\"thistle\" stroke-linejoin=\"miter\" />\n",
       "<text x=\"98\" y=\"57\" font-size=\"6\" text-anchor=\"middle\">Rx</text>\n",
       "<path d=\"M125,25 L140,25\" stroke-width=\"3\" stroke=\"darkred\" stroke-linejoin=\"miter\" fill=\"none\" />\n",
       "<path d=\"M125,75 L140,75\" stroke-width=\"3\" stroke=\"darkred\" stroke-linejoin=\"miter\" fill=\"none\" />\n",
       "<text x=\"150\" y=\"28\" font-size=\"6\" text-anchor=\"end\">0</text>\n",
       "<text x=\"150\" y=\"78\" font-size=\"6\" text-anchor=\"end\">1</text>\n",
       "<text x=\"0\" y=\"28\" font-size=\"6\" text-anchor=\"start\">0</text>\n",
       "<text x=\"0\" y=\"78\" font-size=\"6\" text-anchor=\"start\">1</text>\n",
       "</svg>"
      ],
      "text/plain": [
       "<drawsvg.drawing.Drawing at 0x7fd1902df1f0>"
      ]
     },
     "execution_count": 32,
     "metadata": {},
     "output_type": "execute_result"
    }
   ],
   "source": [
    "R = 0.0\n",
    "circuit = pcvl.Circuit(2) \n",
    "circuit.add((0,1), pcvl.BS(BS.r_to_theta(R)))\n",
    "pcvl.pdisplay(circuit)\n"
   ]
  },
  {
   "cell_type": "code",
   "execution_count": 33,
   "id": "16127622-5cb8-41b0-a746-67f4b19316d9",
   "metadata": {},
   "outputs": [
    {
     "data": {
      "text/html": [
       "<table>\n",
       "<thead>\n",
       "<tr><th style=\"text-align: right;\">  </th><th style=\"text-align: right;\">  0</th><th style=\"text-align: right;\">  1</th></tr>\n",
       "</thead>\n",
       "<tbody>\n",
       "<tr><td style=\"text-align: right;\"> 0</td><td style=\"text-align: right;\">  0</td><td style=\"text-align: right;\">  1</td></tr>\n",
       "<tr><td style=\"text-align: right;\"> 1</td><td style=\"text-align: right;\">  1</td><td style=\"text-align: right;\">  0</td></tr>\n",
       "</tbody>\n",
       "</table>"
      ],
      "text/plain": [
       "<IPython.core.display.HTML object>"
      ]
     },
     "metadata": {},
     "output_type": "display_data"
    }
   ],
   "source": [
    "p = pcvl.Processor(\"Naive\", circuit)\n",
    "states = {\n",
    "    pcvl.BasicState([1, 0]): \"0\",\n",
    "    pcvl.BasicState([0, 1]): \"1\",\n",
    "}\n",
    "\n",
    "ca = pcvl.algorithm.Analyzer(p, states)\n",
    "ca.compute(expected={\"0\": \"0\", \"1\": \"1\"})\n",
    "pcvl.pdisplay(ca)"
   ]
  },
  {
   "cell_type": "code",
   "execution_count": 34,
   "id": "b11bfd3d-6812-4ff2-9433-4af668ae1c7a",
   "metadata": {},
   "outputs": [
    {
     "data": {
      "text/html": [
       "$\\left[\\begin{matrix}0 & i\\\\i & 0\\end{matrix}\\right]$"
      ],
      "text/plain": [
       "<IPython.core.display.HTML object>"
      ]
     },
     "metadata": {},
     "output_type": "display_data"
    }
   ],
   "source": [
    "pcvl.pdisplay(circuit.compute_unitary())"
   ]
  },
  {
   "cell_type": "code",
   "execution_count": 17,
   "id": "b0841011-306d-4521-81a5-d1b30697a975",
   "metadata": {},
   "outputs": [],
   "source": [
    "import qiskit\n",
    "from qiskit import QuantumCircuit\n",
    "from qiskit.extensions import UnitaryGate\n"
   ]
  },
  {
   "cell_type": "code",
   "execution_count": 35,
   "id": "3c68b16c-6bb1-4714-ae34-667fc992ba3c",
   "metadata": {},
   "outputs": [
    {
     "data": {
      "text/html": [
       "<pre style=\"word-wrap: normal;white-space: pre;background: #fff0;line-height: 1.1;font-family: &quot;Courier New&quot;,Courier,monospace\">     ┌─────────┐┌─┐\n",
       "  q: ┤ Unitary ├┤M├\n",
       "     └─────────┘└╥┘\n",
       "c: 1/════════════╩═\n",
       "                 0 </pre>"
      ],
      "text/plain": [
       "     ┌─────────┐┌─┐\n",
       "  q: ┤ Unitary ├┤M├\n",
       "     └─────────┘└╥┘\n",
       "c: 1/════════════╩═\n",
       "                 0 "
      ]
     },
     "execution_count": 35,
     "metadata": {},
     "output_type": "execute_result"
    }
   ],
   "source": [
    "gate = UnitaryGate(circuit.compute_unitary())\n",
    "\n",
    "circuit1 = QuantumCircuit(1,1)\n",
    "circuit1.append(gate, [0])\n",
    "circuit1.measure(0,0)\n",
    "circuit1.draw()"
   ]
  },
  {
   "cell_type": "code",
   "execution_count": 36,
   "id": "a36261a5-fcb0-4ab0-bf88-de1f1fba91f6",
   "metadata": {},
   "outputs": [
    {
     "name": "stdout",
     "output_type": "stream",
     "text": [
      "{'1': 1024}\n"
     ]
    }
   ],
   "source": [
    "from qiskit import Aer\n",
    "from qiskit import *\n",
    "\n",
    "# Use Aer's qasm_simulator\n",
    "backend_sim = Aer.get_backend('qasm_simulator')\n",
    "\n",
    "# Execute the circuit on the qasm simulator.\n",
    "# We've set the number of repeats of the circuit\n",
    "# to be 1024, which is the default.\n",
    "job_sim = backend_sim.run(transpile(circuit1, backend_sim), shots=1024)\n",
    "\n",
    "# Grab the results from the job.\n",
    "result_sim = job_sim.result()\n",
    "\n",
    "counts = result_sim.get_counts(circuit1)\n",
    "print(counts)"
   ]
  },
  {
   "attachments": {},
   "cell_type": "markdown",
   "id": "070b559f-c4bd-45af-8618-25b19bda5cf5",
   "metadata": {},
   "source": [
    "<h3> With Error in reflectivity - Error of 0.01%</h3>"
   ]
  },
  {
   "cell_type": "code",
   "execution_count": 37,
   "id": "be87a618-40fb-444e-9062-f510e4512561",
   "metadata": {},
   "outputs": [
    {
     "data": {
      "image/svg+xml": [
       "<?xml version=\"1.0\" encoding=\"UTF-8\"?>\n",
       "<svg xmlns=\"http://www.w3.org/2000/svg\" xmlns:xlink=\"http://www.w3.org/1999/xlink\"\n",
       "     width=\"257.5\" height=\"156.25\" viewBox=\"-28.0 0 206.0 125.0\">\n",
       "<defs>\n",
       "</defs>\n",
       "<path d=\"M10,25 L25,25\" stroke-width=\"3\" stroke=\"darkred\" stroke-linejoin=\"miter\" fill=\"none\" />\n",
       "<path d=\"M10,75 L25,75\" stroke-width=\"3\" stroke=\"darkred\" stroke-linejoin=\"miter\" fill=\"none\" />\n",
       "<path d=\"M25,25 L53,25 L72,44\" stroke=\"darkred\" stroke-width=\"3\" fill=\"none\" />\n",
       "<path d=\"M78,44 L97,25 L125,25\" stroke=\"darkred\" stroke-width=\"3\" fill=\"none\" />\n",
       "<path d=\"M25,75 L53,75 L72,56\" stroke=\"darkred\" stroke-width=\"3\" fill=\"none\" />\n",
       "<path d=\"M78,56 L97,75 L125,75\" stroke=\"darkred\" stroke-width=\"3\" fill=\"none\" />\n",
       "<path d=\"M50,43 L100,43 L100,57 L50,57 Z\" stroke=\"black\" fill=\"black\" stroke-linejoin=\"miter\" />\n",
       "<text x=\"75\" y=\"80\" font-size=\"7\" text-anchor=\"middle\"></text>\n",
       "<text x=\"75\" y=\"26\" font-size=\"7\" text-anchor=\"middle\">Θ=2.941258</text>\n",
       "<path d=\"M50,43 L100,43 L100,47 L50,47 Z\" stroke=\"black\" fill=\"lightgray\" stroke-linejoin=\"miter\" />\n",
       "<path d=\"M93,50 L103,50 L103,60 L93,60 Z\" stroke=\"black\" fill=\"thistle\" stroke-linejoin=\"miter\" />\n",
       "<text x=\"98\" y=\"57\" font-size=\"6\" text-anchor=\"middle\">Rx</text>\n",
       "<path d=\"M125,25 L140,25\" stroke-width=\"3\" stroke=\"darkred\" stroke-linejoin=\"miter\" fill=\"none\" />\n",
       "<path d=\"M125,75 L140,75\" stroke-width=\"3\" stroke=\"darkred\" stroke-linejoin=\"miter\" fill=\"none\" />\n",
       "<text x=\"150\" y=\"28\" font-size=\"6\" text-anchor=\"end\">0</text>\n",
       "<text x=\"150\" y=\"78\" font-size=\"6\" text-anchor=\"end\">1</text>\n",
       "<text x=\"0\" y=\"28\" font-size=\"6\" text-anchor=\"start\">0</text>\n",
       "<text x=\"0\" y=\"78\" font-size=\"6\" text-anchor=\"start\">1</text>\n",
       "</svg>"
      ],
      "text/plain": [
       "<drawsvg.drawing.Drawing at 0x7fd18f8a5340>"
      ]
     },
     "execution_count": 37,
     "metadata": {},
     "output_type": "execute_result"
    }
   ],
   "source": [
    "R = 0.01\n",
    "circuit = pcvl.Circuit(2) \n",
    "circuit.add((0,1), pcvl.BS(BS.r_to_theta(R)))\n",
    "pcvl.pdisplay(circuit)\n"
   ]
  },
  {
   "cell_type": "code",
   "execution_count": 38,
   "id": "16029e39-e59f-470f-a9b1-1fa80302c9b1",
   "metadata": {},
   "outputs": [
    {
     "data": {
      "text/html": [
       "<table>\n",
       "<thead>\n",
       "<tr><th style=\"text-align: right;\">  </th><th style=\"text-align: right;\">   0</th><th style=\"text-align: right;\">   1</th></tr>\n",
       "</thead>\n",
       "<tbody>\n",
       "<tr><td style=\"text-align: right;\"> 0</td><td style=\"text-align: right;\">0.01</td><td style=\"text-align: right;\">0.99</td></tr>\n",
       "<tr><td style=\"text-align: right;\"> 1</td><td style=\"text-align: right;\">0.99</td><td style=\"text-align: right;\">0.01</td></tr>\n",
       "</tbody>\n",
       "</table>"
      ],
      "text/plain": [
       "<IPython.core.display.HTML object>"
      ]
     },
     "metadata": {},
     "output_type": "display_data"
    }
   ],
   "source": [
    "p = pcvl.Processor(\"Naive\", circuit)\n",
    "states = {\n",
    "    pcvl.BasicState([1, 0]): \"0\",\n",
    "    pcvl.BasicState([0, 1]): \"1\",\n",
    "}\n",
    "\n",
    "ca = pcvl.algorithm.Analyzer(p, states)\n",
    "ca.compute(expected={\"0\": \"0\", \"1\": \"1\"})\n",
    "pcvl.pdisplay(ca)"
   ]
  },
  {
   "cell_type": "code",
   "execution_count": 39,
   "id": "846b7caa-2389-4f79-a8c4-d174b18818c3",
   "metadata": {},
   "outputs": [
    {
     "data": {
      "text/html": [
       "$\\left[\\begin{matrix}\\frac{1}{10} & 0.994987 i\\\\0.994987 i & \\frac{1}{10}\\end{matrix}\\right]$"
      ],
      "text/plain": [
       "<IPython.core.display.HTML object>"
      ]
     },
     "metadata": {},
     "output_type": "display_data"
    }
   ],
   "source": [
    "pcvl.pdisplay(circuit.compute_unitary())"
   ]
  },
  {
   "cell_type": "code",
   "execution_count": 40,
   "id": "19d3ab55-3ef7-462e-b1cf-a3501807d671",
   "metadata": {},
   "outputs": [
    {
     "data": {
      "text/html": [
       "<pre style=\"word-wrap: normal;white-space: pre;background: #fff0;line-height: 1.1;font-family: &quot;Courier New&quot;,Courier,monospace\">     ┌─────────┐┌─┐\n",
       "  q: ┤ Unitary ├┤M├\n",
       "     └─────────┘└╥┘\n",
       "c: 1/════════════╩═\n",
       "                 0 </pre>"
      ],
      "text/plain": [
       "     ┌─────────┐┌─┐\n",
       "  q: ┤ Unitary ├┤M├\n",
       "     └─────────┘└╥┘\n",
       "c: 1/════════════╩═\n",
       "                 0 "
      ]
     },
     "execution_count": 40,
     "metadata": {},
     "output_type": "execute_result"
    }
   ],
   "source": [
    "gate = UnitaryGate(circuit.compute_unitary())\n",
    "\n",
    "circuit1 = QuantumCircuit(1,1)\n",
    "circuit1.append(gate, [0])\n",
    "circuit1.measure(0,0)\n",
    "circuit1.draw()"
   ]
  },
  {
   "cell_type": "code",
   "execution_count": 41,
   "id": "f74c6f5c-e21f-498d-9e85-1af987e8eebe",
   "metadata": {},
   "outputs": [
    {
     "name": "stdout",
     "output_type": "stream",
     "text": [
      "{'0': 9, '1': 1015}\n"
     ]
    }
   ],
   "source": [
    "# Use Aer's qasm_simulator\n",
    "backend_sim = Aer.get_backend('qasm_simulator')\n",
    "\n",
    "# Execute the circuit on the qasm simulator.\n",
    "# We've set the number of repeats of the circuit\n",
    "# to be 1024, which is the default.\n",
    "job_sim = backend_sim.run(transpile(circuit1, backend_sim), shots=1024)\n",
    "\n",
    "# Grab the results from the job.\n",
    "result_sim = job_sim.result()\n",
    "\n",
    "counts = result_sim.get_counts(circuit1)\n",
    "print(counts)"
   ]
  },
  {
   "cell_type": "code",
   "execution_count": 42,
   "id": "50ba84d4-e4f6-4311-bed5-366b524c021c",
   "metadata": {},
   "outputs": [],
   "source": [
    "from mitiq import zne\n",
    "from mitiq.interface.mitiq_qiskit.qiskit_utils import initialized_depolarizing_noise"
   ]
  },
  {
   "cell_type": "code",
   "execution_count": 59,
   "id": "fdcba321-263f-4d9b-9a99-a5a49dd16130",
   "metadata": {},
   "outputs": [],
   "source": [
    "\n",
    "# Default to a simulator.\n",
    "backend = qiskit.Aer.get_backend(\"qasm_simulator\")\n",
    "\n",
    "\n",
    "def ibmq_executor(circuit: qiskit.QuantumCircuit, shots: int = 8192) -> float:\n",
    "        # Simulate the circuit with noise\n",
    "        #noise_model = initialized_depolarizing_noise(noise_level=0.02)\n",
    "    job = qiskit.execute(\n",
    "        experiments=circuit,\n",
    "        backend=qiskit.Aer.get_backend(\"qasm_simulator\"),\n",
    "        noise_model=None,\n",
    "        #basis_gates=noise_model.basis_gates,\n",
    "        optimization_level=0,  # Important to preserve folded gates.\n",
    "        shots=shots,\n",
    "    )\n",
    "\n",
    "    # Convert from raw measurement counts to the expectation value\n",
    "    counts = job.result().get_counts()\n",
    "    return counts\n",
    "    # if counts.get(\"0\") is None:\n",
    "    #     expectation_value = 0.\n",
    "    # else:\n",
    "    #     expectation_value = counts.get(\"0\") / shots\n",
    "    # return expectation_value"
   ]
  },
  {
   "attachments": {},
   "cell_type": "markdown",
   "id": "c86f2713",
   "metadata": {},
   "source": [
    "<p> Didn't work since, mitiq cannot perform ZNE for unitary gates </p>"
   ]
  },
  {
   "cell_type": "code",
   "execution_count": 64,
   "id": "db5f8cc3-3462-4c70-9d31-f8ef2ec442fc",
   "metadata": {},
   "outputs": [
    {
     "ename": "CircuitConversionError",
     "evalue": "Circuit could not be converted to an internal Mitiq circuit. This may be because the circuit contains custom gates or Pragmas (pyQuil). If you think this is a bug or that this circuit should be supported, you can open an issue at https://github.com/unitaryfund/mitiq. \n\nProvided circuit has type <class 'qiskit.circuit.quantumcircuit.QuantumCircuit'> and is:\n\n     ┌─────────┐┌─┐\n  q: ┤ Unitary ├┤M├\n     └─────────┘└╥┘\nc: 1/════════════╩═\n                 0 \n\nCircuit types supported by Mitiq are \n{'cirq': 'Circuit', 'pyquil': 'Program', 'qiskit': 'QuantumCircuit', 'braket': 'Circuit', 'pennylane': 'QuantumTape'}.",
     "output_type": "error",
     "traceback": [
      "\u001b[0;31m---------------------------------------------------------------------------\u001b[0m",
      "\u001b[0;31mQasmException\u001b[0m                             Traceback (most recent call last)",
      "File \u001b[0;32m~/.local/lib/python3.9/site-packages/mitiq/interface/conversions.py:89\u001b[0m, in \u001b[0;36mconvert_to_mitiq\u001b[0;34m(circuit)\u001b[0m\n\u001b[1;32m     88\u001b[0m \u001b[38;5;28;01mtry\u001b[39;00m:\n\u001b[0;32m---> 89\u001b[0m     mitiq_circuit \u001b[38;5;241m=\u001b[39m \u001b[43mconversion_function\u001b[49m\u001b[43m(\u001b[49m\u001b[43mcircuit\u001b[49m\u001b[43m)\u001b[49m\n\u001b[1;32m     90\u001b[0m \u001b[38;5;28;01mexcept\u001b[39;00m \u001b[38;5;167;01mException\u001b[39;00m:\n",
      "File \u001b[0;32m~/.local/lib/python3.9/site-packages/mitiq/interface/mitiq_qiskit/conversions.py:298\u001b[0m, in \u001b[0;36mfrom_qiskit\u001b[0;34m(circuit)\u001b[0m\n\u001b[1;32m    290\u001b[0m \u001b[38;5;124;03m\"\"\"Returns a Mitiq circuit equivalent to the input Qiskit circuit.\u001b[39;00m\n\u001b[1;32m    291\u001b[0m \n\u001b[1;32m    292\u001b[0m \u001b[38;5;124;03mArgs:\u001b[39;00m\n\u001b[0;32m   (...)\u001b[0m\n\u001b[1;32m    296\u001b[0m \u001b[38;5;124;03m    Mitiq circuit representation equivalent to the input Qiskit circuit.\u001b[39;00m\n\u001b[1;32m    297\u001b[0m \u001b[38;5;124;03m\"\"\"\u001b[39;00m\n\u001b[0;32m--> 298\u001b[0m \u001b[38;5;28;01mreturn\u001b[39;00m \u001b[43mfrom_qasm\u001b[49m\u001b[43m(\u001b[49m\u001b[43mcircuit\u001b[49m\u001b[38;5;241;43m.\u001b[39;49m\u001b[43mqasm\u001b[49m\u001b[43m(\u001b[49m\u001b[43m)\u001b[49m\u001b[43m)\u001b[49m\n",
      "File \u001b[0;32m~/.local/lib/python3.9/site-packages/mitiq/interface/mitiq_qiskit/conversions.py:311\u001b[0m, in \u001b[0;36mfrom_qasm\u001b[0;34m(qasm)\u001b[0m\n\u001b[1;32m    310\u001b[0m qasm \u001b[38;5;241m=\u001b[39m _remove_qasm_barriers(qasm)\n\u001b[0;32m--> 311\u001b[0m \u001b[38;5;28;01mreturn\u001b[39;00m \u001b[43mcircuit_from_qasm\u001b[49m\u001b[43m(\u001b[49m\u001b[43mqasm\u001b[49m\u001b[43m)\u001b[49m\n",
      "File \u001b[0;32m/opt/conda/lib/python3.9/site-packages/cirq/contrib/qasm_import/qasm.py:29\u001b[0m, in \u001b[0;36mcircuit_from_qasm\u001b[0;34m(qasm)\u001b[0m\n\u001b[1;32m     20\u001b[0m \u001b[38;5;124;03m\"\"\"Parses an OpenQASM string to `cirq.Circuit`.\u001b[39;00m\n\u001b[1;32m     21\u001b[0m \n\u001b[1;32m     22\u001b[0m \u001b[38;5;124;03mArgs:\u001b[39;00m\n\u001b[0;32m   (...)\u001b[0m\n\u001b[1;32m     26\u001b[0m \u001b[38;5;124;03m    The parsed circuit\u001b[39;00m\n\u001b[1;32m     27\u001b[0m \u001b[38;5;124;03m\"\"\"\u001b[39;00m\n\u001b[0;32m---> 29\u001b[0m \u001b[38;5;28;01mreturn\u001b[39;00m \u001b[43mQasmParser\u001b[49m\u001b[43m(\u001b[49m\u001b[43m)\u001b[49m\u001b[38;5;241;43m.\u001b[39;49m\u001b[43mparse\u001b[49m\u001b[43m(\u001b[49m\u001b[43mqasm\u001b[49m\u001b[43m)\u001b[49m\u001b[38;5;241m.\u001b[39mcircuit\n",
      "File \u001b[0;32m/opt/conda/lib/python3.9/site-packages/cirq/contrib/qasm_import/_parser.py:542\u001b[0m, in \u001b[0;36mQasmParser.parse\u001b[0;34m(self, qasm)\u001b[0m\n\u001b[1;32m    541\u001b[0m     \u001b[38;5;28mself\u001b[39m\u001b[38;5;241m.\u001b[39mlexer\u001b[38;5;241m.\u001b[39minput(\u001b[38;5;28mself\u001b[39m\u001b[38;5;241m.\u001b[39mqasm)\n\u001b[0;32m--> 542\u001b[0m     \u001b[38;5;28mself\u001b[39m\u001b[38;5;241m.\u001b[39mparsedQasm \u001b[38;5;241m=\u001b[39m \u001b[38;5;28;43mself\u001b[39;49m\u001b[38;5;241;43m.\u001b[39;49m\u001b[43mparser\u001b[49m\u001b[38;5;241;43m.\u001b[39;49m\u001b[43mparse\u001b[49m\u001b[43m(\u001b[49m\u001b[43mlexer\u001b[49m\u001b[38;5;241;43m=\u001b[39;49m\u001b[38;5;28;43mself\u001b[39;49m\u001b[38;5;241;43m.\u001b[39;49m\u001b[43mlexer\u001b[49m\u001b[43m)\u001b[49m\n\u001b[1;32m    543\u001b[0m \u001b[38;5;28;01mreturn\u001b[39;00m \u001b[38;5;28mself\u001b[39m\u001b[38;5;241m.\u001b[39mparsedQasm\n",
      "File \u001b[0;32m/opt/conda/lib/python3.9/site-packages/ply/yacc.py:333\u001b[0m, in \u001b[0;36mLRParser.parse\u001b[0;34m(self, input, lexer, debug, tracking, tokenfunc)\u001b[0m\n\u001b[1;32m    332\u001b[0m \u001b[38;5;28;01melse\u001b[39;00m:\n\u001b[0;32m--> 333\u001b[0m     \u001b[38;5;28;01mreturn\u001b[39;00m \u001b[38;5;28;43mself\u001b[39;49m\u001b[38;5;241;43m.\u001b[39;49m\u001b[43mparseopt_notrack\u001b[49m\u001b[43m(\u001b[49m\u001b[38;5;28;43minput\u001b[39;49m\u001b[43m,\u001b[49m\u001b[43m \u001b[49m\u001b[43mlexer\u001b[49m\u001b[43m,\u001b[49m\u001b[43m \u001b[49m\u001b[43mdebug\u001b[49m\u001b[43m,\u001b[49m\u001b[43m \u001b[49m\u001b[43mtracking\u001b[49m\u001b[43m,\u001b[49m\u001b[43m \u001b[49m\u001b[43mtokenfunc\u001b[49m\u001b[43m)\u001b[49m\n",
      "File \u001b[0;32m/opt/conda/lib/python3.9/site-packages/ply/yacc.py:1201\u001b[0m, in \u001b[0;36mLRParser.parseopt_notrack\u001b[0;34m(self, input, lexer, debug, tracking, tokenfunc)\u001b[0m\n\u001b[1;32m   1200\u001b[0m \u001b[38;5;28mself\u001b[39m\u001b[38;5;241m.\u001b[39mstate \u001b[38;5;241m=\u001b[39m state\n\u001b[0;32m-> 1201\u001b[0m tok \u001b[38;5;241m=\u001b[39m \u001b[43mcall_errorfunc\u001b[49m\u001b[43m(\u001b[49m\u001b[38;5;28;43mself\u001b[39;49m\u001b[38;5;241;43m.\u001b[39;49m\u001b[43merrorfunc\u001b[49m\u001b[43m,\u001b[49m\u001b[43m \u001b[49m\u001b[43merrtoken\u001b[49m\u001b[43m,\u001b[49m\u001b[43m \u001b[49m\u001b[38;5;28;43mself\u001b[39;49m\u001b[43m)\u001b[49m\n\u001b[1;32m   1202\u001b[0m \u001b[38;5;28;01mif\u001b[39;00m \u001b[38;5;28mself\u001b[39m\u001b[38;5;241m.\u001b[39merrorok:\n\u001b[1;32m   1203\u001b[0m     \u001b[38;5;66;03m# User must have done some kind of panic\u001b[39;00m\n\u001b[1;32m   1204\u001b[0m     \u001b[38;5;66;03m# mode recovery on their own.  The\u001b[39;00m\n\u001b[1;32m   1205\u001b[0m     \u001b[38;5;66;03m# returned token is the next lookahead\u001b[39;00m\n",
      "File \u001b[0;32m/opt/conda/lib/python3.9/site-packages/ply/yacc.py:192\u001b[0m, in \u001b[0;36mcall_errorfunc\u001b[0;34m(errorfunc, token, parser)\u001b[0m\n\u001b[1;32m    191\u001b[0m _restart \u001b[38;5;241m=\u001b[39m parser\u001b[38;5;241m.\u001b[39mrestart\n\u001b[0;32m--> 192\u001b[0m r \u001b[38;5;241m=\u001b[39m \u001b[43merrorfunc\u001b[49m\u001b[43m(\u001b[49m\u001b[43mtoken\u001b[49m\u001b[43m)\u001b[49m\n\u001b[1;32m    193\u001b[0m \u001b[38;5;28;01mtry\u001b[39;00m:\n",
      "File \u001b[0;32m/opt/conda/lib/python3.9/site-packages/cirq/contrib/qasm_import/_parser.py:525\u001b[0m, in \u001b[0;36mQasmParser.p_error\u001b[0;34m(self, p)\u001b[0m\n\u001b[1;32m    523\u001b[0m             \u001b[38;5;28;01mraise\u001b[39;00m QasmException(\u001b[38;5;124m'\u001b[39m\u001b[38;5;124mUnexpected end of file\u001b[39m\u001b[38;5;124m'\u001b[39m)\n\u001b[0;32m--> 525\u001b[0m         \u001b[38;5;28;01mraise\u001b[39;00m QasmException(\n\u001b[1;32m    526\u001b[0m             \u001b[38;5;124mf\u001b[39m\u001b[38;5;124m\"\"\"\u001b[39m\u001b[38;5;124mSyntax error: \u001b[39m\u001b[38;5;124m'\u001b[39m\u001b[38;5;132;01m{\u001b[39;00mp\u001b[38;5;241m.\u001b[39mvalue\u001b[38;5;132;01m}\u001b[39;00m\u001b[38;5;124m'\u001b[39m\n\u001b[1;32m    527\u001b[0m \u001b[38;5;132;01m{\u001b[39;00m\u001b[38;5;28mself\u001b[39m\u001b[38;5;241m.\u001b[39mdebug_context(p)\u001b[38;5;132;01m}\u001b[39;00m\n\u001b[1;32m    528\u001b[0m \u001b[38;5;124mat line \u001b[39m\u001b[38;5;132;01m{\u001b[39;00mp\u001b[38;5;241m.\u001b[39mlineno\u001b[38;5;132;01m}\u001b[39;00m\u001b[38;5;124m, column \u001b[39m\u001b[38;5;132;01m{\u001b[39;00m\u001b[38;5;28mself\u001b[39m\u001b[38;5;241m.\u001b[39mfind_column(p)\u001b[38;5;132;01m}\u001b[39;00m\u001b[38;5;124m\"\"\"\u001b[39m\n\u001b[1;32m    529\u001b[0m         )\n",
      "\u001b[0;31mQasmException\u001b[0m: Syntax error: 'p0'\n...1984 p0 {\n        ^\nat line 3, column 29",
      "\nDuring handling of the above exception, another exception occurred:\n",
      "\u001b[0;31mCircuitConversionError\u001b[0m                    Traceback (most recent call last)",
      "Cell \u001b[0;32mIn[64], line 2\u001b[0m\n\u001b[1;32m      1\u001b[0m linear_factory \u001b[38;5;241m=\u001b[39m zne\u001b[38;5;241m.\u001b[39minference\u001b[38;5;241m.\u001b[39mLinearFactory(scale_factors\u001b[38;5;241m=\u001b[39m[\u001b[38;5;241m1.0\u001b[39m, \u001b[38;5;241m1.5\u001b[39m, \u001b[38;5;241m2.0\u001b[39m, \u001b[38;5;241m2.5\u001b[39m, \u001b[38;5;241m3.0\u001b[39m])\n\u001b[0;32m----> 2\u001b[0m mitigated \u001b[38;5;241m=\u001b[39m \u001b[43mzne\u001b[49m\u001b[38;5;241;43m.\u001b[39;49m\u001b[43mexecute_with_zne\u001b[49m\u001b[43m(\u001b[49m\u001b[43mcircuit1\u001b[49m\u001b[43m,\u001b[49m\u001b[43m \u001b[49m\u001b[43mibmq_executor\u001b[49m\u001b[43m,\u001b[49m\u001b[43m \u001b[49m\u001b[43mfactory\u001b[49m\u001b[38;5;241;43m=\u001b[39;49m\u001b[43mlinear_factory\u001b[49m\u001b[43m)\u001b[49m\n\u001b[1;32m      3\u001b[0m \u001b[38;5;28mprint\u001b[39m(\u001b[38;5;124mf\u001b[39m\u001b[38;5;124m\"\u001b[39m\u001b[38;5;124mMitigated result \u001b[39m\u001b[38;5;132;01m{\u001b[39;00mmitigated\u001b[38;5;132;01m:\u001b[39;00m\u001b[38;5;124m.3f\u001b[39m\u001b[38;5;132;01m}\u001b[39;00m\u001b[38;5;124m\"\u001b[39m)\n",
      "File \u001b[0;32m~/.local/lib/python3.9/site-packages/mitiq/zne/zne.py:72\u001b[0m, in \u001b[0;36mexecute_with_zne\u001b[0;34m(circuit, executor, observable, factory, scale_noise, num_to_average)\u001b[0m\n\u001b[1;32m     69\u001b[0m \u001b[38;5;28;01mif\u001b[39;00m num_to_average \u001b[38;5;241m<\u001b[39m \u001b[38;5;241m1\u001b[39m:\n\u001b[1;32m     70\u001b[0m     \u001b[38;5;28;01mraise\u001b[39;00m \u001b[38;5;167;01mValueError\u001b[39;00m(\u001b[38;5;124m\"\u001b[39m\u001b[38;5;124mArgument `num_to_average` must be a positive int.\u001b[39m\u001b[38;5;124m\"\u001b[39m)\n\u001b[0;32m---> 72\u001b[0m \u001b[38;5;28;01mreturn\u001b[39;00m \u001b[43mfactory\u001b[49m\u001b[38;5;241;43m.\u001b[39;49m\u001b[43mrun\u001b[49m\u001b[43m(\u001b[49m\n\u001b[1;32m     73\u001b[0m \u001b[43m    \u001b[49m\u001b[43mcircuit\u001b[49m\u001b[43m,\u001b[49m\u001b[43m \u001b[49m\u001b[43mexecutor\u001b[49m\u001b[43m,\u001b[49m\u001b[43m \u001b[49m\u001b[43mobservable\u001b[49m\u001b[43m,\u001b[49m\u001b[43m \u001b[49m\u001b[43mscale_noise\u001b[49m\u001b[43m,\u001b[49m\u001b[43m \u001b[49m\u001b[38;5;28;43mint\u001b[39;49m\u001b[43m(\u001b[49m\u001b[43mnum_to_average\u001b[49m\u001b[43m)\u001b[49m\n\u001b[1;32m     74\u001b[0m \u001b[43m\u001b[49m\u001b[43m)\u001b[49m\u001b[38;5;241m.\u001b[39mreduce()\n",
      "File \u001b[0;32m~/.local/lib/python3.9/site-packages/mitiq/zne/inference.py:552\u001b[0m, in \u001b[0;36mBatchedFactory.run\u001b[0;34m(self, qp, executor, observable, scale_noise, num_to_average)\u001b[0m\n\u001b[1;32m    549\u001b[0m \u001b[38;5;28mself\u001b[39m\u001b[38;5;241m.\u001b[39mreset()\n\u001b[1;32m    550\u001b[0m \u001b[38;5;28mself\u001b[39m\u001b[38;5;241m.\u001b[39m_batch_populate_instack()\n\u001b[0;32m--> 552\u001b[0m \u001b[43m_check_circuit_length\u001b[49m\u001b[43m(\u001b[49m\u001b[43mqp\u001b[49m\u001b[43m)\u001b[49m\n\u001b[1;32m    554\u001b[0m \u001b[38;5;66;03m# Get all noise-scaled circuits to run.\u001b[39;00m\n\u001b[1;32m    555\u001b[0m to_run \u001b[38;5;241m=\u001b[39m \u001b[38;5;28mself\u001b[39m\u001b[38;5;241m.\u001b[39m_generate_circuits(qp, scale_noise, num_to_average)\n",
      "File \u001b[0;32m~/.local/lib/python3.9/site-packages/mitiq/interface/conversions.py:157\u001b[0m, in \u001b[0;36maccept_any_qprogram_as_input.<locals>.accept_any_qprogram_function\u001b[0;34m(circuit, *args, **kwargs)\u001b[0m\n\u001b[1;32m    153\u001b[0m \u001b[38;5;129m@wraps\u001b[39m(accept_cirq_circuit_function)\n\u001b[1;32m    154\u001b[0m \u001b[38;5;28;01mdef\u001b[39;00m \u001b[38;5;21maccept_any_qprogram_function\u001b[39m(\n\u001b[1;32m    155\u001b[0m     circuit: QPROGRAM, \u001b[38;5;241m*\u001b[39margs: Any, \u001b[38;5;241m*\u001b[39m\u001b[38;5;241m*\u001b[39mkwargs: Any\n\u001b[1;32m    156\u001b[0m ) \u001b[38;5;241m-\u001b[39m\u001b[38;5;241m>\u001b[39m Any:\n\u001b[0;32m--> 157\u001b[0m     cirq_circuit, _ \u001b[38;5;241m=\u001b[39m \u001b[43mconvert_to_mitiq\u001b[49m\u001b[43m(\u001b[49m\u001b[43mcircuit\u001b[49m\u001b[43m)\u001b[49m\n\u001b[1;32m    158\u001b[0m     \u001b[38;5;28;01mreturn\u001b[39;00m accept_cirq_circuit_function(  \u001b[38;5;66;03m# type: ignore\u001b[39;00m\n\u001b[1;32m    159\u001b[0m         cirq_circuit, \u001b[38;5;241m*\u001b[39margs, \u001b[38;5;241m*\u001b[39m\u001b[38;5;241m*\u001b[39mkwargs\n\u001b[1;32m    160\u001b[0m     )\n",
      "File \u001b[0;32m~/.local/lib/python3.9/site-packages/mitiq/interface/conversions.py:91\u001b[0m, in \u001b[0;36mconvert_to_mitiq\u001b[0;34m(circuit)\u001b[0m\n\u001b[1;32m     89\u001b[0m     mitiq_circuit \u001b[38;5;241m=\u001b[39m conversion_function(circuit)\n\u001b[1;32m     90\u001b[0m \u001b[38;5;28;01mexcept\u001b[39;00m \u001b[38;5;167;01mException\u001b[39;00m:\n\u001b[0;32m---> 91\u001b[0m     \u001b[38;5;28;01mraise\u001b[39;00m CircuitConversionError(\n\u001b[1;32m     92\u001b[0m         \u001b[38;5;124m\"\u001b[39m\u001b[38;5;124mCircuit could not be converted to an internal Mitiq circuit. \u001b[39m\u001b[38;5;124m\"\u001b[39m\n\u001b[1;32m     93\u001b[0m         \u001b[38;5;124m\"\u001b[39m\u001b[38;5;124mThis may be because the circuit contains custom gates or Pragmas \u001b[39m\u001b[38;5;124m\"\u001b[39m\n\u001b[1;32m     94\u001b[0m         \u001b[38;5;124m\"\u001b[39m\u001b[38;5;124m(pyQuil). If you think this is a bug or that this circuit should \u001b[39m\u001b[38;5;124m\"\u001b[39m\n\u001b[1;32m     95\u001b[0m         \u001b[38;5;124m\"\u001b[39m\u001b[38;5;124mbe supported, you can open an issue at \u001b[39m\u001b[38;5;124m\"\u001b[39m\n\u001b[1;32m     96\u001b[0m         \u001b[38;5;124m\"\u001b[39m\u001b[38;5;124mhttps://github.com/unitaryfund/mitiq. \u001b[39m\u001b[38;5;130;01m\\n\u001b[39;00m\u001b[38;5;130;01m\\n\u001b[39;00m\u001b[38;5;124mProvided circuit has \u001b[39m\u001b[38;5;124m\"\u001b[39m\n\u001b[1;32m     97\u001b[0m         \u001b[38;5;124mf\u001b[39m\u001b[38;5;124m\"\u001b[39m\u001b[38;5;124mtype \u001b[39m\u001b[38;5;132;01m{\u001b[39;00m\u001b[38;5;28mtype\u001b[39m(circuit)\u001b[38;5;132;01m}\u001b[39;00m\u001b[38;5;124m and is:\u001b[39m\u001b[38;5;130;01m\\n\u001b[39;00m\u001b[38;5;130;01m\\n\u001b[39;00m\u001b[38;5;132;01m{\u001b[39;00mcircuit\u001b[38;5;132;01m}\u001b[39;00m\u001b[38;5;130;01m\\n\u001b[39;00m\u001b[38;5;130;01m\\n\u001b[39;00m\u001b[38;5;124mCircuit types \u001b[39m\u001b[38;5;124m\"\u001b[39m\n\u001b[1;32m     98\u001b[0m         \u001b[38;5;124mf\u001b[39m\u001b[38;5;124m\"\u001b[39m\u001b[38;5;124msupported by Mitiq are \u001b[39m\u001b[38;5;130;01m\\n\u001b[39;00m\u001b[38;5;132;01m{\u001b[39;00mSUPPORTED_PROGRAM_TYPES\u001b[38;5;132;01m}\u001b[39;00m\u001b[38;5;124m.\u001b[39m\u001b[38;5;124m\"\u001b[39m\n\u001b[1;32m     99\u001b[0m     )\n\u001b[1;32m    101\u001b[0m \u001b[38;5;28;01mreturn\u001b[39;00m mitiq_circuit, input_circuit_type\n",
      "\u001b[0;31mCircuitConversionError\u001b[0m: Circuit could not be converted to an internal Mitiq circuit. This may be because the circuit contains custom gates or Pragmas (pyQuil). If you think this is a bug or that this circuit should be supported, you can open an issue at https://github.com/unitaryfund/mitiq. \n\nProvided circuit has type <class 'qiskit.circuit.quantumcircuit.QuantumCircuit'> and is:\n\n     ┌─────────┐┌─┐\n  q: ┤ Unitary ├┤M├\n     └─────────┘└╥┘\nc: 1/════════════╩═\n                 0 \n\nCircuit types supported by Mitiq are \n{'cirq': 'Circuit', 'pyquil': 'Program', 'qiskit': 'QuantumCircuit', 'braket': 'Circuit', 'pennylane': 'QuantumTape'}."
     ]
    }
   ],
   "source": [
    "linear_factory = zne.inference.LinearFactory(scale_factors=[1.0, 1.5, 2.0, 2.5, 3.0])\n",
    "mitigated = zne.execute_with_zne(circuit1, ibmq_executor, factory=linear_factory)\n",
    "print(f\"Mitigated result {mitigated:.3f}\")"
   ]
  },
  {
   "cell_type": "code",
   "execution_count": 65,
   "id": "1258fece-8668-4b04-8fa1-2d568bcf828b",
   "metadata": {},
   "outputs": [
    {
     "ename": "ModuleNotFoundError",
     "evalue": "No module named 'qbraid'",
     "output_type": "error",
     "traceback": [
      "\u001b[0;31m---------------------------------------------------------------------------\u001b[0m",
      "\u001b[0;31mModuleNotFoundError\u001b[0m                       Traceback (most recent call last)",
      "Cell \u001b[0;32mIn[65], line 1\u001b[0m\n\u001b[0;32m----> 1\u001b[0m \u001b[38;5;28;01mfrom\u001b[39;00m \u001b[38;5;21;01mqbraid\u001b[39;00m \u001b[38;5;28;01mimport\u001b[39;00m get_devices\n\u001b[1;32m      3\u001b[0m get_devices()\n",
      "\u001b[0;31mModuleNotFoundError\u001b[0m: No module named 'qbraid'"
     ]
    }
   ],
   "source": [
    "from qbraid import get_devices\n",
    "\n",
    "get_devices()"
   ]
  },
  {
   "cell_type": "code",
   "execution_count": null,
   "id": "df551d58-142d-4c72-97ef-7a556c97028c",
   "metadata": {},
   "outputs": [],
   "source": []
  }
 ],
 "metadata": {
  "kernelspec": {
   "display_name": "Python 3 [Perceval]",
   "language": "python",
   "name": "python3_quandela_perc_0j2vj7"
  },
  "language_info": {
   "codemirror_mode": {
    "name": "ipython",
    "version": 3
   },
   "file_extension": ".py",
   "mimetype": "text/x-python",
   "name": "python",
   "nbconvert_exporter": "python",
   "pygments_lexer": "ipython3",
   "version": "3.9.10"
  }
 },
 "nbformat": 4,
 "nbformat_minor": 5
}
