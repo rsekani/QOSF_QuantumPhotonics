{
 "cells": [
  {
   "cell_type": "code",
   "execution_count": 1,
   "id": "f53a24a7-8675-4ba8-87bd-d21708762bae",
   "metadata": {
    "tags": []
   },
   "outputs": [],
   "source": [
    "import perceval as pcvl\n",
    "import sympy as sp\n",
    "import numpy as np\n",
    "from perceval.components import BS\n",
    "from perceval.algorithm import Sampler"
   ]
  },
  {
   "cell_type": "code",
   "execution_count": 2,
   "id": "c41f2523-fe60-4fce-a8e9-d2b81770554b",
   "metadata": {},
   "outputs": [
    {
     "data": {
      "text/html": [
       "<table>\n",
       "<thead>\n",
       "<tr><th style=\"text-align: right;\">  </th><th style=\"text-align: right;\">  0</th><th style=\"text-align: right;\">  1</th></tr>\n",
       "</thead>\n",
       "<tbody>\n",
       "<tr><td style=\"text-align: right;\"> 0</td><td style=\"text-align: right;\">  0</td><td style=\"text-align: right;\">  1</td></tr>\n",
       "<tr><td style=\"text-align: right;\"> 1</td><td style=\"text-align: right;\">  1</td><td style=\"text-align: right;\">  0</td></tr>\n",
       "</tbody>\n",
       "</table>"
      ],
      "text/plain": [
       "<IPython.core.display.HTML object>"
      ]
     },
     "metadata": {},
     "output_type": "display_data"
    },
    {
     "data": {
      "text/html": [
       "<table>\n",
       "<thead>\n",
       "<tr><th>state  </th><th style=\"text-align: right;\">  probability</th></tr>\n",
       "</thead>\n",
       "<tbody>\n",
       "<tr><td>|1,0&gt;  </td><td style=\"text-align: right;\">            1</td></tr>\n",
       "</tbody>\n",
       "</table>"
      ],
      "text/plain": [
       "<IPython.core.display.HTML object>"
      ]
     },
     "metadata": {},
     "output_type": "display_data"
    },
    {
     "data": {
      "text/html": [
       "<table>\n",
       "<thead>\n",
       "<tr><th>state  </th><th style=\"text-align: right;\">  probability</th></tr>\n",
       "</thead>\n",
       "<tbody>\n",
       "<tr><td>|0,1&gt;  </td><td style=\"text-align: right;\">            1</td></tr>\n",
       "</tbody>\n",
       "</table>"
      ],
      "text/plain": [
       "<IPython.core.display.HTML object>"
      ]
     },
     "metadata": {},
     "output_type": "display_data"
    }
   ],
   "source": [
    "source = pcvl.Source() \n",
    "QPU = pcvl.Processor(\"Naive\",2,source)\n",
    "R = 0.0\n",
    "QPU.add(0, pcvl.BS(BS.r_to_theta(R)))\n",
    "\n",
    "pcvl.pdisplay(QPU, recursive = True)\n",
    "\n",
    "states = {\n",
    "    pcvl.BasicState([1, 0]): \"0\",\n",
    "    pcvl.BasicState([0, 1]): \"1\",\n",
    "}\n",
    "\n",
    "ca = pcvl.algorithm.Analyzer(QPU, states)\n",
    "ca.compute(expected={\"0\": \"0\", \"1\": \"1\"})\n",
    "pcvl.pdisplay(ca)\n",
    "\n",
    "# Gives the source distribution\n",
    "QPU.with_input(pcvl.BasicState([1, 0]))\n",
    "pcvl.pdisplay(QPU.source_distribution, precision=1e-4)\n",
    "\n",
    "# Gives the output distribution\n",
    "output_distribution=QPU.probs()[\"results\"]\n",
    "pcvl.pdisplay(output_distribution, max_v=10)"
   ]
  },
  {
   "cell_type": "code",
   "execution_count": 3,
   "id": "8f3f86cf-cc4b-4365-8cde-c8010fea3e16",
   "metadata": {},
   "outputs": [
    {
     "data": {
      "image/svg+xml": [
       "<?xml version=\"1.0\" encoding=\"UTF-8\"?>\n",
       "<svg xmlns=\"http://www.w3.org/2000/svg\" xmlns:xlink=\"http://www.w3.org/1999/xlink\"\n",
       "     width=\"257.5\" height=\"156.25\" viewBox=\"-28.0 0 206.0 125.0\">\n",
       "<defs>\n",
       "</defs>\n",
       "<path d=\"M10,25 L25,25\" stroke-width=\"3\" stroke=\"darkred\" stroke-linejoin=\"miter\" fill=\"none\" />\n",
       "<path d=\"M10,75 L25,75\" stroke-width=\"3\" stroke=\"darkred\" stroke-linejoin=\"miter\" fill=\"none\" />\n",
       "<path d=\"M25,25 L53,25 L72,44\" stroke=\"darkred\" stroke-width=\"3\" fill=\"none\" />\n",
       "<path d=\"M78,44 L97,25 L125,25\" stroke=\"darkred\" stroke-width=\"3\" fill=\"none\" />\n",
       "<path d=\"M25,75 L53,75 L72,56\" stroke=\"darkred\" stroke-width=\"3\" fill=\"none\" />\n",
       "<path d=\"M78,56 L97,75 L125,75\" stroke=\"darkred\" stroke-width=\"3\" fill=\"none\" />\n",
       "<path d=\"M50,43 L100,43 L100,57 L50,57 Z\" stroke=\"black\" fill=\"black\" stroke-linejoin=\"miter\" />\n",
       "<text x=\"75\" y=\"80\" font-size=\"7\" text-anchor=\"middle\"></text>\n",
       "<text x=\"75\" y=\"26\" font-size=\"7\" text-anchor=\"middle\">Θ=pi</text>\n",
       "<path d=\"M50,43 L100,43 L100,47 L50,47 Z\" stroke=\"black\" fill=\"lightgray\" stroke-linejoin=\"miter\" />\n",
       "<path d=\"M93,50 L103,50 L103,60 L93,60 Z\" stroke=\"black\" fill=\"thistle\" stroke-linejoin=\"miter\" />\n",
       "<text x=\"98\" y=\"57\" font-size=\"6\" text-anchor=\"middle\">Rx</text>\n",
       "<path d=\"M125,25 L140,25\" stroke-width=\"3\" stroke=\"darkred\" stroke-linejoin=\"miter\" fill=\"none\" />\n",
       "<path d=\"M125,75 L140,75\" stroke-width=\"3\" stroke=\"darkred\" stroke-linejoin=\"miter\" fill=\"none\" />\n",
       "<text x=\"150\" y=\"28\" font-size=\"6\" text-anchor=\"end\">0</text>\n",
       "<text x=\"150\" y=\"78\" font-size=\"6\" text-anchor=\"end\">1</text>\n",
       "<text x=\"0\" y=\"28\" font-size=\"6\" text-anchor=\"start\">0</text>\n",
       "<text x=\"0\" y=\"78\" font-size=\"6\" text-anchor=\"start\">1</text>\n",
       "</svg>"
      ],
      "text/plain": [
       "<drawsvg.drawing.Drawing at 0x7f2ee48dff40>"
      ]
     },
     "execution_count": 3,
     "metadata": {},
     "output_type": "execute_result"
    }
   ],
   "source": [
    "R = 0.0\n",
    "circuit = pcvl.Circuit(2) \n",
    "circuit.add((0,1), pcvl.BS(BS.r_to_theta(R)))\n",
    "pcvl.pdisplay(circuit)\n"
   ]
  },
  {
   "cell_type": "code",
   "execution_count": 4,
   "id": "16127622-5cb8-41b0-a746-67f4b19316d9",
   "metadata": {},
   "outputs": [
    {
     "data": {
      "text/html": [
       "<table>\n",
       "<thead>\n",
       "<tr><th style=\"text-align: right;\">  </th><th style=\"text-align: right;\">  0</th><th style=\"text-align: right;\">  1</th></tr>\n",
       "</thead>\n",
       "<tbody>\n",
       "<tr><td style=\"text-align: right;\"> 0</td><td style=\"text-align: right;\">  0</td><td style=\"text-align: right;\">  1</td></tr>\n",
       "<tr><td style=\"text-align: right;\"> 1</td><td style=\"text-align: right;\">  1</td><td style=\"text-align: right;\">  0</td></tr>\n",
       "</tbody>\n",
       "</table>"
      ],
      "text/plain": [
       "<IPython.core.display.HTML object>"
      ]
     },
     "metadata": {},
     "output_type": "display_data"
    }
   ],
   "source": [
    "p = pcvl.Processor(\"Naive\", circuit)\n",
    "states = {\n",
    "    pcvl.BasicState([1, 0]): \"0\",\n",
    "    pcvl.BasicState([0, 1]): \"1\",\n",
    "}\n",
    "\n",
    "ca = pcvl.algorithm.Analyzer(p, states)\n",
    "ca.compute(expected={\"0\": \"0\", \"1\": \"1\"})\n",
    "pcvl.pdisplay(ca)"
   ]
  },
  {
   "cell_type": "code",
   "execution_count": 5,
   "id": "b11bfd3d-6812-4ff2-9433-4af668ae1c7a",
   "metadata": {},
   "outputs": [
    {
     "data": {
      "text/html": [
       "$\\left[\\begin{matrix}0 & i\\\\i & 0\\end{matrix}\\right]$"
      ],
      "text/plain": [
       "<IPython.core.display.HTML object>"
      ]
     },
     "metadata": {},
     "output_type": "display_data"
    }
   ],
   "source": [
    "pcvl.pdisplay(circuit.compute_unitary())"
   ]
  },
  {
   "cell_type": "code",
   "execution_count": 6,
   "id": "b0841011-306d-4521-81a5-d1b30697a975",
   "metadata": {},
   "outputs": [],
   "source": [
    "import qiskit\n",
    "from qiskit import QuantumCircuit\n",
    "from qiskit.extensions import UnitaryGate\n"
   ]
  },
  {
   "cell_type": "code",
   "execution_count": 7,
   "id": "3c68b16c-6bb1-4714-ae34-667fc992ba3c",
   "metadata": {},
   "outputs": [
    {
     "data": {
      "text/html": [
       "<pre style=\"word-wrap: normal;white-space: pre;background: #fff0;line-height: 1.1;font-family: &quot;Courier New&quot;,Courier,monospace\">     ┌─────────┐┌─┐\n",
       "  q: ┤ Unitary ├┤M├\n",
       "     └─────────┘└╥┘\n",
       "c: 1/════════════╩═\n",
       "                 0 </pre>"
      ],
      "text/plain": [
       "     ┌─────────┐┌─┐\n",
       "  q: ┤ Unitary ├┤M├\n",
       "     └─────────┘└╥┘\n",
       "c: 1/════════════╩═\n",
       "                 0 "
      ]
     },
     "execution_count": 7,
     "metadata": {},
     "output_type": "execute_result"
    }
   ],
   "source": [
    "gate = UnitaryGate(circuit.compute_unitary())\n",
    "\n",
    "circuit1 = QuantumCircuit(1,1)\n",
    "circuit1.append(gate, [0])\n",
    "circuit1.measure(0,0)\n",
    "circuit1.draw()"
   ]
  },
  {
   "cell_type": "code",
   "execution_count": 8,
   "id": "a36261a5-fcb0-4ab0-bf88-de1f1fba91f6",
   "metadata": {},
   "outputs": [
    {
     "name": "stdout",
     "output_type": "stream",
     "text": [
      "{'1': 1024}\n"
     ]
    }
   ],
   "source": [
    "from qiskit import Aer\n",
    "from qiskit import *\n",
    "\n",
    "# Use Aer's qasm_simulator\n",
    "backend_sim = Aer.get_backend('qasm_simulator')\n",
    "\n",
    "# Execute the circuit on the qasm simulator.\n",
    "# We've set the number of repeats of the circuit\n",
    "# to be 1024, which is the default.\n",
    "job_sim = backend_sim.run(transpile(circuit1, backend_sim), shots=1024)\n",
    "\n",
    "# Grab the results from the job.\n",
    "result_sim = job_sim.result()\n",
    "\n",
    "counts = result_sim.get_counts(circuit1)\n",
    "print(counts)"
   ]
  },
  {
   "cell_type": "markdown",
   "id": "070b559f-c4bd-45af-8618-25b19bda5cf5",
   "metadata": {},
   "source": [
    "<h3> With Error in reflectivity - Error of 0.01%</h3>"
   ]
  },
  {
   "cell_type": "code",
   "execution_count": 9,
   "id": "be87a618-40fb-444e-9062-f510e4512561",
   "metadata": {},
   "outputs": [
    {
     "data": {
      "image/svg+xml": [
       "<?xml version=\"1.0\" encoding=\"UTF-8\"?>\n",
       "<svg xmlns=\"http://www.w3.org/2000/svg\" xmlns:xlink=\"http://www.w3.org/1999/xlink\"\n",
       "     width=\"257.5\" height=\"156.25\" viewBox=\"-28.0 0 206.0 125.0\">\n",
       "<defs>\n",
       "</defs>\n",
       "<path d=\"M10,25 L25,25\" stroke-width=\"3\" stroke=\"darkred\" stroke-linejoin=\"miter\" fill=\"none\" />\n",
       "<path d=\"M10,75 L25,75\" stroke-width=\"3\" stroke=\"darkred\" stroke-linejoin=\"miter\" fill=\"none\" />\n",
       "<path d=\"M25,25 L53,25 L72,44\" stroke=\"darkred\" stroke-width=\"3\" fill=\"none\" />\n",
       "<path d=\"M78,44 L97,25 L125,25\" stroke=\"darkred\" stroke-width=\"3\" fill=\"none\" />\n",
       "<path d=\"M25,75 L53,75 L72,56\" stroke=\"darkred\" stroke-width=\"3\" fill=\"none\" />\n",
       "<path d=\"M78,56 L97,75 L125,75\" stroke=\"darkred\" stroke-width=\"3\" fill=\"none\" />\n",
       "<path d=\"M50,43 L100,43 L100,57 L50,57 Z\" stroke=\"black\" fill=\"black\" stroke-linejoin=\"miter\" />\n",
       "<text x=\"75\" y=\"80\" font-size=\"7\" text-anchor=\"middle\"></text>\n",
       "<text x=\"75\" y=\"26\" font-size=\"7\" text-anchor=\"middle\">Θ=2.941258</text>\n",
       "<path d=\"M50,43 L100,43 L100,47 L50,47 Z\" stroke=\"black\" fill=\"lightgray\" stroke-linejoin=\"miter\" />\n",
       "<path d=\"M93,50 L103,50 L103,60 L93,60 Z\" stroke=\"black\" fill=\"thistle\" stroke-linejoin=\"miter\" />\n",
       "<text x=\"98\" y=\"57\" font-size=\"6\" text-anchor=\"middle\">Rx</text>\n",
       "<path d=\"M125,25 L140,25\" stroke-width=\"3\" stroke=\"darkred\" stroke-linejoin=\"miter\" fill=\"none\" />\n",
       "<path d=\"M125,75 L140,75\" stroke-width=\"3\" stroke=\"darkred\" stroke-linejoin=\"miter\" fill=\"none\" />\n",
       "<text x=\"150\" y=\"28\" font-size=\"6\" text-anchor=\"end\">0</text>\n",
       "<text x=\"150\" y=\"78\" font-size=\"6\" text-anchor=\"end\">1</text>\n",
       "<text x=\"0\" y=\"28\" font-size=\"6\" text-anchor=\"start\">0</text>\n",
       "<text x=\"0\" y=\"78\" font-size=\"6\" text-anchor=\"start\">1</text>\n",
       "</svg>"
      ],
      "text/plain": [
       "<drawsvg.drawing.Drawing at 0x7f2e837a9a00>"
      ]
     },
     "execution_count": 9,
     "metadata": {},
     "output_type": "execute_result"
    }
   ],
   "source": [
    "R = 0.01\n",
    "circuit = pcvl.Circuit(2) \n",
    "circuit.add((0,1), pcvl.BS(BS.r_to_theta(R)))\n",
    "pcvl.pdisplay(circuit)\n"
   ]
  },
  {
   "cell_type": "code",
   "execution_count": 10,
   "id": "16029e39-e59f-470f-a9b1-1fa80302c9b1",
   "metadata": {},
   "outputs": [
    {
     "data": {
      "text/html": [
       "<table>\n",
       "<thead>\n",
       "<tr><th style=\"text-align: right;\">  </th><th style=\"text-align: right;\">   0</th><th style=\"text-align: right;\">   1</th></tr>\n",
       "</thead>\n",
       "<tbody>\n",
       "<tr><td style=\"text-align: right;\"> 0</td><td style=\"text-align: right;\">0.01</td><td style=\"text-align: right;\">0.99</td></tr>\n",
       "<tr><td style=\"text-align: right;\"> 1</td><td style=\"text-align: right;\">0.99</td><td style=\"text-align: right;\">0.01</td></tr>\n",
       "</tbody>\n",
       "</table>"
      ],
      "text/plain": [
       "<IPython.core.display.HTML object>"
      ]
     },
     "metadata": {},
     "output_type": "display_data"
    }
   ],
   "source": [
    "p = pcvl.Processor(\"Naive\", circuit)\n",
    "states = {\n",
    "    pcvl.BasicState([1, 0]): \"0\",\n",
    "    pcvl.BasicState([0, 1]): \"1\",\n",
    "}\n",
    "\n",
    "ca = pcvl.algorithm.Analyzer(p, states)\n",
    "ca.compute(expected={\"0\": \"0\", \"1\": \"1\"})\n",
    "pcvl.pdisplay(ca)"
   ]
  },
  {
   "cell_type": "code",
   "execution_count": 11,
   "id": "846b7caa-2389-4f79-a8c4-d174b18818c3",
   "metadata": {},
   "outputs": [
    {
     "data": {
      "text/html": [
       "$\\left[\\begin{matrix}\\frac{1}{10} & 0.994987 i\\\\0.994987 i & \\frac{1}{10}\\end{matrix}\\right]$"
      ],
      "text/plain": [
       "<IPython.core.display.HTML object>"
      ]
     },
     "metadata": {},
     "output_type": "display_data"
    }
   ],
   "source": [
    "pcvl.pdisplay(circuit.compute_unitary())"
   ]
  },
  {
   "cell_type": "code",
   "execution_count": 12,
   "id": "19d3ab55-3ef7-462e-b1cf-a3501807d671",
   "metadata": {},
   "outputs": [
    {
     "data": {
      "text/html": [
       "<pre style=\"word-wrap: normal;white-space: pre;background: #fff0;line-height: 1.1;font-family: &quot;Courier New&quot;,Courier,monospace\">     ┌─────────┐┌─┐\n",
       "  q: ┤ Unitary ├┤M├\n",
       "     └─────────┘└╥┘\n",
       "c: 1/════════════╩═\n",
       "                 0 </pre>"
      ],
      "text/plain": [
       "     ┌─────────┐┌─┐\n",
       "  q: ┤ Unitary ├┤M├\n",
       "     └─────────┘└╥┘\n",
       "c: 1/════════════╩═\n",
       "                 0 "
      ]
     },
     "execution_count": 12,
     "metadata": {},
     "output_type": "execute_result"
    }
   ],
   "source": [
    "gate = UnitaryGate(circuit.compute_unitary())\n",
    "\n",
    "circuit1 = QuantumCircuit(1,1)\n",
    "circuit1.append(gate, [0])\n",
    "circuit1.measure(0,0)\n",
    "circuit1.draw()"
   ]
  },
  {
   "cell_type": "code",
   "execution_count": 13,
   "id": "f74c6f5c-e21f-498d-9e85-1af987e8eebe",
   "metadata": {},
   "outputs": [
    {
     "name": "stdout",
     "output_type": "stream",
     "text": [
      "{'0': 10, '1': 1014}\n"
     ]
    }
   ],
   "source": [
    "# Use Aer's qasm_simulator\n",
    "backend_sim = Aer.get_backend('qasm_simulator')\n",
    "\n",
    "# Execute the circuit on the qasm simulator.\n",
    "# We've set the number of repeats of the circuit\n",
    "# to be 1024, which is the default.\n",
    "job_sim = backend_sim.run(transpile(circuit1, backend_sim), shots=1024)\n",
    "\n",
    "# Grab the results from the job.\n",
    "result_sim = job_sim.result()\n",
    "\n",
    "counts = result_sim.get_counts(circuit1)\n",
    "print(counts)"
   ]
  },
  {
   "cell_type": "code",
   "execution_count": null,
   "id": "5171baa9-2912-4fdc-a47d-e1dddb7325f9",
   "metadata": {},
   "outputs": [],
   "source": [
    "!pip install mitiq"
   ]
  },
  {
   "cell_type": "code",
   "execution_count": 16,
   "id": "50ba84d4-e4f6-4311-bed5-366b524c021c",
   "metadata": {},
   "outputs": [],
   "source": [
    "from mitiq import zne\n",
    "from mitiq.interface.mitiq_qiskit.qiskit_utils import initialized_depolarizing_noise"
   ]
  },
  {
   "cell_type": "code",
   "execution_count": 43,
   "id": "fdcba321-263f-4d9b-9a99-a5a49dd16130",
   "metadata": {},
   "outputs": [],
   "source": [
    "\n",
    "# Default to a simulator.\n",
    "backend = qiskit.Aer.get_backend(\"qasm_simulator\")\n",
    "\n",
    "\n",
    "def ibmq_executor(circuit: qiskit.QuantumCircuit, shots: int = 8192) -> float:\n",
    "        # Simulate the circuit with noise\n",
    "        #noise_model = initialized_depolarizing_noise(noise_level=0.02)\n",
    "    job = qiskit.execute(\n",
    "        experiments=circuit,\n",
    "        backend=qiskit.Aer.get_backend(\"qasm_simulator\"),\n",
    "        noise_model=None,\n",
    "        #basis_gates=noise_model.basis_gates,\n",
    "        optimization_level=0,  # Important to preserve folded gates.\n",
    "        shots=shots,\n",
    "    )\n",
    "\n",
    "    # Convert from raw measurement counts to the expectation value\n",
    "    counts = job.result().get_counts()\n",
    "    #return counts\n",
    "    if counts.get(\"1\") is None:\n",
    "        expectation_value = 0.\n",
    "    else:\n",
    "        expectation_value = counts.get(\"1\") / shots\n",
    "    return expectation_value"
   ]
  },
  {
   "cell_type": "code",
   "execution_count": 19,
   "id": "87067357-78e0-4ce6-a463-24c29fe18001",
   "metadata": {},
   "outputs": [
    {
     "name": "stdout",
     "output_type": "stream",
     "text": [
      "\u001b[33mWARNING: Ignoring invalid distribution -tocore (/opt/conda/lib/python3.9/site-packages)\u001b[0m\u001b[33m\n",
      "\u001b[0m\u001b[33mWARNING: Ignoring invalid distribution - (/opt/conda/lib/python3.9/site-packages)\u001b[0m\u001b[33m\n",
      "\u001b[0m\u001b[33mWARNING: Ignoring invalid distribution -tocore (/opt/conda/lib/python3.9/site-packages)\u001b[0m\u001b[33m\n",
      "\u001b[0m\u001b[33mWARNING: Ignoring invalid distribution -0tocore (/opt/conda/lib/python3.9/site-packages)\u001b[0m\u001b[33m\n",
      "\u001b[0m\u001b[33mWARNING: Ignoring invalid distribution -1tocore (/opt/conda/lib/python3.9/site-packages)\u001b[0m\u001b[33m\n",
      "\u001b[0m\u001b[33mWARNING: Ignoring invalid distribution -otocore (/opt/conda/lib/python3.9/site-packages)\u001b[0m\u001b[33m\n",
      "\u001b[0mCollecting pylatexenc\n",
      "  Using cached pylatexenc-2.10-py3-none-any.whl\n",
      "\u001b[33mWARNING: Ignoring invalid distribution -tocore (/opt/conda/lib/python3.9/site-packages)\u001b[0m\u001b[33m\n",
      "\u001b[0m\u001b[33mWARNING: Ignoring invalid distribution - (/opt/conda/lib/python3.9/site-packages)\u001b[0m\u001b[33m\n",
      "\u001b[0m\u001b[33mWARNING: Ignoring invalid distribution -tocore (/opt/conda/lib/python3.9/site-packages)\u001b[0m\u001b[33m\n",
      "\u001b[0m\u001b[33mWARNING: Ignoring invalid distribution -0tocore (/opt/conda/lib/python3.9/site-packages)\u001b[0m\u001b[33m\n",
      "\u001b[0m\u001b[33mWARNING: Ignoring invalid distribution -1tocore (/opt/conda/lib/python3.9/site-packages)\u001b[0m\u001b[33m\n",
      "\u001b[0m\u001b[33mWARNING: Ignoring invalid distribution -otocore (/opt/conda/lib/python3.9/site-packages)\u001b[0m\u001b[33m\n",
      "\u001b[0mInstalling collected packages: pylatexenc\n",
      "Successfully installed pylatexenc-2.10\n"
     ]
    }
   ],
   "source": [
    "!pip install pylatexenc"
   ]
  },
  {
   "cell_type": "code",
   "execution_count": 22,
   "id": "2ec33610-59a4-46d7-842b-28fccfc9b146",
   "metadata": {},
   "outputs": [
    {
     "data": {
      "text/html": [
       "<pre style=\"word-wrap: normal;white-space: pre;background: #fff0;line-height: 1.1;font-family: &quot;Courier New&quot;,Courier,monospace\">     ┌─────────────┐┌─┐\n",
       "  q: ┤ Rx(-2.9413) ├┤M├\n",
       "     └─────────────┘└╥┘\n",
       "c: 1/════════════════╩═\n",
       "                     0 </pre>"
      ],
      "text/plain": [
       "     ┌─────────────┐┌─┐\n",
       "  q: ┤ Rx(-2.9413) ├┤M├\n",
       "     └─────────────┘└╥┘\n",
       "c: 1/════════════════╩═\n",
       "                     0 "
      ]
     },
     "execution_count": 22,
     "metadata": {},
     "output_type": "execute_result"
    }
   ],
   "source": [
    "from qiskit.compiler import transpile\n",
    "#from qiskit.compiler.transpile import CouplingMap\n",
    "\n",
    "#coupling_string = [[0, 1], [0,2], [1,2]]\n",
    "#CM = CouplingMap(coupling_string)\n",
    "\n",
    "result = transpile(circuit1, basis_gates=['id', 'ry', 'rx', 'cx'], optimization_level=3, seed_transpiler=1) \n",
    "result.draw()"
   ]
  },
  {
   "cell_type": "code",
   "execution_count": 23,
   "id": "1e34212c-66c1-44ed-ba2c-6df7ca35e0a1",
   "metadata": {},
   "outputs": [
    {
     "name": "stdout",
     "output_type": "stream",
     "text": [
      "{'0': 10, '1': 1014}\n"
     ]
    }
   ],
   "source": [
    "job_sim = backend_sim.run(result, shots=1024)\n",
    "\n",
    "# Grab the results from the job.\n",
    "result_sim = job_sim.result()\n",
    "\n",
    "counts = result_sim.get_counts(result)\n",
    "print(counts)"
   ]
  },
  {
   "cell_type": "code",
   "execution_count": 40,
   "id": "6a1421f2-232f-41c7-bdcb-bfb57d2eda20",
   "metadata": {},
   "outputs": [
    {
     "data": {
      "text/html": [
       "<pre style=\"word-wrap: normal;white-space: pre;background: #fff0;line-height: 1.1;font-family: &quot;Courier New&quot;,Courier,monospace\">     ┌─────────────┐┌─┐\n",
       "  q: ┤ Rx(-2.9413) ├┤M├\n",
       "     └─────────────┘└╥┘\n",
       "c: 1/════════════════╩═\n",
       "                     0 </pre>"
      ],
      "text/plain": [
       "     ┌─────────────┐┌─┐\n",
       "  q: ┤ Rx(-2.9413) ├┤M├\n",
       "     └─────────────┘└╥┘\n",
       "c: 1/════════════════╩═\n",
       "                     0 "
      ]
     },
     "execution_count": 40,
     "metadata": {},
     "output_type": "execute_result"
    }
   ],
   "source": [
    "circuit2 = QuantumCircuit(1,1)\n",
    "circuit2.rx(-2.9413,0)\n",
    "circuit2.measure(0,0)\n",
    "circuit2.draw()"
   ]
  },
  {
   "cell_type": "code",
   "execution_count": 41,
   "id": "debf0a34-a351-437b-9d22-01a4d857f665",
   "metadata": {},
   "outputs": [
    {
     "name": "stdout",
     "output_type": "stream",
     "text": [
      "{'0': 11, '1': 1013}\n"
     ]
    }
   ],
   "source": [
    "job_sim = backend_sim.run(circuit2, shots=1024)\n",
    "\n",
    "# Grab the results from the job.\n",
    "result_sim = job_sim.result()\n",
    "\n",
    "counts = result_sim.get_counts(circuit2)\n",
    "print(counts)"
   ]
  },
  {
   "cell_type": "code",
   "execution_count": 44,
   "id": "db5f8cc3-3462-4c70-9d31-f8ef2ec442fc",
   "metadata": {},
   "outputs": [
    {
     "name": "stderr",
     "output_type": "stream",
     "text": [
      "/home/jovyan/.local/lib/python3.9/site-packages/mitiq/zne/inference.py:107: UserWarning: The input circuit is very short. This may reduce the accuracy of noise scaling.\n",
      "  warnings.warn(\n"
     ]
    },
    {
     "name": "stdout",
     "output_type": "stream",
     "text": [
      "Mitigated result 0.989\n"
     ]
    }
   ],
   "source": [
    "linear_factory = zne.inference.LinearFactory(scale_factors=[1.0, 1.5, 2.0, 2.5, 3.0])\n",
    "mitigated = zne.execute_with_zne(circuit2, ibmq_executor, factory=linear_factory)\n",
    "print(f\"Mitigated result {mitigated:.3f}\")"
   ]
  },
  {
   "cell_type": "markdown",
   "id": "d72bddda-06f9-4898-bcd5-2fc3215222ff",
   "metadata": {},
   "source": [
    "**Low Level Usage**"
   ]
  },
  {
   "cell_type": "code",
   "execution_count": 45,
   "id": "1258fece-8668-4b04-8fa1-2d568bcf828b",
   "metadata": {},
   "outputs": [
    {
     "name": "stdout",
     "output_type": "stream",
     "text": [
      "Number of gates of folded circuit 0 scaled by: 1.000\n",
      "Number of gates of folded circuit 1 scaled by: 1.000\n",
      "Number of gates of folded circuit 2 scaled by: 2.000\n",
      "Number of gates of folded circuit 3 scaled by: 2.000\n",
      "Number of gates of folded circuit 4 scaled by: 2.000\n"
     ]
    }
   ],
   "source": [
    "scale_factors = [1., 1.5, 2., 2.5, 3.]\n",
    "folded_circuits = [\n",
    "        zne.scaling.fold_gates_at_random(circuit2, scale)\n",
    "        for scale in scale_factors\n",
    "]\n",
    "\n",
    "# Check that the circuit depth is (approximately) scaled as expected\n",
    "for j, c in enumerate(folded_circuits):\n",
    "    print(f\"Number of gates of folded circuit {j} scaled by: {len(c) / len(circuit2):.3f}\")"
   ]
  },
  {
   "cell_type": "code",
   "execution_count": 46,
   "id": "df551d58-142d-4c72-97ef-7a556c97028c",
   "metadata": {},
   "outputs": [],
   "source": [
    "shots = 1024\n",
    "\n",
    "job = qiskit.execute(\n",
    "        experiments=folded_circuits,\n",
    "        backend=qiskit.Aer.get_backend(\"qasm_simulator\"),\n",
    "        noise_model=None,\n",
    "        #basis_gates=noise_model.basis_gates,\n",
    "        optimization_level=0,  # Important to preserve folded gates.\n",
    "        shots=shots,\n",
    "    )"
   ]
  },
  {
   "cell_type": "code",
   "execution_count": 48,
   "id": "4a43028c-548d-42f3-a889-e9df164523b4",
   "metadata": {},
   "outputs": [
    {
     "name": "stdout",
     "output_type": "stream",
     "text": [
      "Expectation values:\n",
      "[0.0078125, 0.0126953125, 0.005859375, 0.0087890625, 0.0087890625]\n",
      "Expectation values:\n",
      "[0.9921875, 0.9873046875, 0.994140625, 0.9912109375, 0.9912109375]\n"
     ]
    }
   ],
   "source": [
    "all_counts = [job.result().get_counts(i) for i in range(len(folded_circuits))]\n",
    "expectation_values = [counts.get(\"0\") / shots for counts in all_counts]\n",
    "print(f\"Expectation values:\\n{expectation_values}\")\n",
    "\n",
    "expectation_values = [counts.get(\"1\") / shots for counts in all_counts]\n",
    "print(f\"Expectation values:\\n{expectation_values}\")"
   ]
  }
 ],
 "metadata": {
  "kernelspec": {
   "display_name": "Python 3 [Perceval]",
   "language": "python",
   "name": "python3_quandela_perc_0j2vj7"
  },
  "language_info": {
   "codemirror_mode": {
    "name": "ipython",
    "version": 3
   },
   "file_extension": ".py",
   "mimetype": "text/x-python",
   "name": "python",
   "nbconvert_exporter": "python",
   "pygments_lexer": "ipython3",
   "version": "3.9.12"
  }
 },
 "nbformat": 4,
 "nbformat_minor": 5
}
