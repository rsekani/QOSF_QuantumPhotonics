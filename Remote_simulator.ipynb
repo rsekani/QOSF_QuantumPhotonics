{
 "cells": [
  {
   "cell_type": "code",
   "execution_count": 1,
   "id": "4784e631-2d02-4f6c-8376-8c3c19769e70",
   "metadata": {},
   "outputs": [],
   "source": [
    "import perceval as pcvl\n",
    "import sympy as sp\n",
    "import numpy as np\n",
    "from perceval.components import BS"
   ]
  },
  {
   "cell_type": "code",
   "execution_count": 3,
   "id": "97528116-67d4-437a-99aa-8591152997ef",
   "metadata": {},
   "outputs": [
    {
     "name": "stdout",
     "output_type": "stream",
     "text": [
      "['probs']\n"
     ]
    }
   ],
   "source": [
    "token_qcloud = '_T_eyJhbGciOiJIUzUxMiIsImlhdCI6MTY4NTQwOTEzMywiZXhwIjoxNjg4MDAxMTMzfQ.eyJpZCI6MzU3fQ.xXxxRIeyUbM6Hked_4RgIhCwZmKUkNimwubtEBssUqnmlYxFLRPvEL8fLBTcGDSgjnnH-AgvIT3NPK4YcKbCuA'\n",
    "remote_simulator = pcvl.RemoteProcessor(\"sim:ascella\", token_qcloud)\n",
    "print(remote_simulator.available_commands)"
   ]
  },
  {
   "cell_type": "code",
   "execution_count": 4,
   "id": "02c60b64-f40e-4ebb-b92e-8afe476bd44d",
   "metadata": {},
   "outputs": [
    {
     "data": {
      "text/html": [
       "<table>\n",
       "<thead>\n",
       "<tr><th style=\"text-align: right;\">  </th><th style=\"text-align: right;\">  0</th><th style=\"text-align: right;\">  1</th></tr>\n",
       "</thead>\n",
       "<tbody>\n",
       "<tr><td style=\"text-align: right;\"> 0</td><td style=\"text-align: right;\">  0</td><td style=\"text-align: right;\">  1</td></tr>\n",
       "<tr><td style=\"text-align: right;\"> 1</td><td style=\"text-align: right;\">  1</td><td style=\"text-align: right;\">  0</td></tr>\n",
       "</tbody>\n",
       "</table>"
      ],
      "text/plain": [
       "<IPython.core.display.HTML object>"
      ]
     },
     "metadata": {},
     "output_type": "display_data"
    }
   ],
   "source": [
    "source = pcvl.Source() \n",
    "QPU = pcvl.Processor(\"Naive\",2,source)\n",
    "R = 0.0\n",
    "QPU.add(0, pcvl.BS(BS.r_to_theta(R)))\n",
    "\n",
    "pcvl.pdisplay(QPU, recursive = True)\n",
    "\n",
    "states = {\n",
    "    pcvl.BasicState([1, 0]): \"0\",\n",
    "    pcvl.BasicState([0, 1]): \"1\",\n",
    "}\n",
    "\n",
    "ca = pcvl.algorithm.Analyzer(QPU, states)\n",
    "ca.compute(expected={\"0\": \"0\", \"1\": \"1\"})\n",
    "pcvl.pdisplay(ca)"
   ]
  },
  {
   "cell_type": "code",
   "execution_count": 6,
   "id": "85635e9e-1baf-4080-943e-9070d6a2ec1c",
   "metadata": {},
   "outputs": [
    {
     "name": "stdout",
     "output_type": "stream",
     "text": [
      "{'max_mode_count': 12, 'max_photon_count': 6, 'min_mode_count': 1, 'min_photon_count': 1}\n",
      "{'HOM': 'indistinguishability value, using HOM model (default 1)', 'backend_name': 'name of the backend that will be used for computation (default \"SLOS\")', 'final_mode_number': 'number of modes of the output states. states having a photon on unused modes will be ignored. Useful when using computed circuits (default input_state.m)', 'g2': 'g2 value (default 0)', 'min_detected_photons': 'minimum number of detected photons to keep a state (default input_state.n)', 'phase_imprecision': 'imprecision on the phase shifter phases (default 0)', 'transmittance': 'probability that an emitted photon is sent to the system and is detected (default 1)'}\n"
     ]
    }
   ],
   "source": [
    "specs = remote_simulator.specs\n",
    "print(specs[\"constraints\"])\n",
    "print(specs[\"parameters\"])"
   ]
  },
  {
   "cell_type": "code",
   "execution_count": 9,
   "id": "48a4bf53-3feb-4376-9c6a-210a9f62a140",
   "metadata": {},
   "outputs": [
    {
     "data": {
      "text/html": [
       "<table>\n",
       "<thead>\n",
       "<tr><th style=\"text-align: right;\">  </th><th style=\"text-align: right;\">  0</th><th style=\"text-align: right;\">  1</th></tr>\n",
       "</thead>\n",
       "<tbody>\n",
       "<tr><td style=\"text-align: right;\"> 0</td><td style=\"text-align: right;\">  0</td><td style=\"text-align: right;\">  1</td></tr>\n",
       "<tr><td style=\"text-align: right;\"> 1</td><td style=\"text-align: right;\">  1</td><td style=\"text-align: right;\">  0</td></tr>\n",
       "</tbody>\n",
       "</table>"
      ],
      "text/plain": [
       "<IPython.core.display.HTML object>"
      ]
     },
     "metadata": {},
     "output_type": "display_data"
    }
   ],
   "source": [
    "my_circuit1 = pcvl.Circuit(2)  # Creates circuit with 2 spatial modes\n",
    "R = 0\n",
    "my_circuit1.add((0,1), pcvl.BS(BS.r_to_theta(R)))\n",
    "my_circuit1.describe()\n",
    "pcvl.pdisplay(my_circuit1)\n",
    "\n",
    "p = pcvl.Processor(\"Naive\", my_circuit1)\n",
    "states = {\n",
    "    pcvl.BasicState([1, 0]): \"0\",\n",
    "    pcvl.BasicState([0, 1]): \"1\",\n",
    "}\n",
    "\n",
    "ca = pcvl.algorithm.Analyzer(p, states)\n",
    "ca.compute(expected={\"0\": \"0\", \"1\": \"1\"})\n",
    "pcvl.pdisplay(ca)"
   ]
  },
  {
   "cell_type": "code",
   "execution_count": 12,
   "id": "f0bfa411-040c-4ac6-82ba-39ab0bce364b",
   "metadata": {},
   "outputs": [],
   "source": [
    "input_state = pcvl.BasicState([1, 0])\n",
    "\n",
    "remote_simulator.set_circuit(my_circuit1)\n",
    "remote_simulator.with_input(input_state)\n",
    "\n",
    "remote_simulator.set_parameters({\n",
    "    \"HOM\": .95,\n",
    "    \"transmittance\": .1,\n",
    "    \"g2\": .01\n",
    "})\n",
    "remote_simulator.set_parameter(\"mode_post_select\", 1)"
   ]
  },
  {
   "cell_type": "code",
   "execution_count": 14,
   "id": "2760a740-4a8a-4ea0-aa71-2ccd150ab753",
   "metadata": {},
   "outputs": [],
   "source": [
    "from perceval.algorithm import Sampler\n",
    "sampler = Sampler(remote_simulator)\n",
    "sampler.default_job_name = \"My sampling job\"  # All jobs created by this sampler instance will have this custom name on the cloud\n",
    "\n",
    "nsample = 1000\n",
    "remote_job = sampler.sample_count.execute_async(nsample)"
   ]
  },
  {
   "cell_type": "code",
   "execution_count": 15,
   "id": "4b56f335-c78f-41ea-b512-e561c8474abc",
   "metadata": {},
   "outputs": [
    {
     "name": "stdout",
     "output_type": "stream",
     "text": [
      "{\n",
      "  |0,1>: 1000\n",
      "}\n"
     ]
    }
   ],
   "source": [
    "results = remote_job.get_results()\n",
    "print(results['results'])"
   ]
  },
  {
   "cell_type": "code",
   "execution_count": null,
   "id": "4d44cfce-c3a3-42fb-a2ae-c1f88a6a1d9f",
   "metadata": {},
   "outputs": [],
   "source": [
    "input_state = pcvl.BasicState([0, 1])\n",
    "\n",
    "remote_simulator.set_circuit(my_circuit1)\n",
    "remote_simulator.with_input(input_state)\n",
    "\n",
    "remote_simulator.set_parameters({\n",
    "    \"HOM\": .95,\n",
    "    \"transmittance\": .1,\n",
    "    \"g2\": .01\n",
    "})\n",
    "remote_simulator.set_parameter(\"mode_post_select\", 1)\n",
    "\n",
    "sampler = Sampler(remote_simulator)\n",
    "sampler.default_job_name = \"My sampling job\"  # All jobs created by this sampler instance will have this custom name on the cloud\n",
    "\n",
    "nsample = 1000\n",
    "remote_job = sampler.sample_count.execute_async(nsample)\n"
   ]
  },
  {
   "cell_type": "code",
   "execution_count": 17,
   "id": "a2cdc4cb-127b-4f56-ac08-a00bfd4c3c7e",
   "metadata": {},
   "outputs": [
    {
     "name": "stdout",
     "output_type": "stream",
     "text": [
      "{\n",
      "  |1,0>: 1000\n",
      "}\n"
     ]
    }
   ],
   "source": [
    "results = remote_job.get_results()\n",
    "print(results['results'])"
   ]
  },
  {
   "cell_type": "code",
   "execution_count": 18,
   "id": "73014ef5-dfc7-47a2-97b8-1c72294f9433",
   "metadata": {},
   "outputs": [
    {
     "data": {
      "text/plain": [
       "<perceval.runtime.remote_job.RemoteJob at 0x7fd6ea5800d0>"
      ]
     },
     "execution_count": 18,
     "metadata": {},
     "output_type": "execute_result"
    }
   ],
   "source": [
    "remote_qpu = pcvl.RemoteProcessor(\"qpu:ascella\", token_qcloud)\n",
    "remote_qpu.set_circuit(my_circuit1)\n",
    "remote_qpu.with_input(input_state)\n",
    "remote_qpu.min_detected_photons_filter(1)\n",
    "\n",
    "sampler_on_qpu = Sampler(remote_qpu)\n",
    "\n",
    "nsample = 1000\n",
    "remote_job = sampler_on_qpu.sample_count\n",
    "remote_job.name = \"QPU sampling\"  # You may also specify a name to individual jobs\n",
    "remote_job.execute_async(nsample)"
   ]
  },
  {
   "cell_type": "code",
   "execution_count": 20,
   "id": "18110637-3d16-4926-bf89-3ae7132a8e04",
   "metadata": {},
   "outputs": [
    {
     "name": "stdout",
     "output_type": "stream",
     "text": [
      "{\n",
      "  |1,0>: 122082\n",
      "  |0,1>: 76\n",
      "}\n"
     ]
    }
   ],
   "source": [
    "results = remote_job.get_results()\n",
    "print(results['results'])"
   ]
  },
  {
   "cell_type": "code",
   "execution_count": 22,
   "id": "664ad5c2-b88b-4ec7-8a9f-ee0941193996",
   "metadata": {},
   "outputs": [
    {
     "data": {
      "text/html": [
       "<table>\n",
       "<thead>\n",
       "<tr><th style=\"text-align: right;\">  </th><th style=\"text-align: right;\">  0</th><th style=\"text-align: right;\">  1</th></tr>\n",
       "</thead>\n",
       "<tbody>\n",
       "<tr><td style=\"text-align: right;\"> 0</td><td style=\"text-align: right;\">  0</td><td style=\"text-align: right;\">  1</td></tr>\n",
       "<tr><td style=\"text-align: right;\"> 1</td><td style=\"text-align: right;\">  1</td><td style=\"text-align: right;\">  0</td></tr>\n",
       "</tbody>\n",
       "</table>"
      ],
      "text/plain": [
       "<IPython.core.display.HTML object>"
      ]
     },
     "metadata": {},
     "output_type": "display_data"
    }
   ],
   "source": [
    "my_circuit2 = pcvl.Circuit(2)  # Creates circuit with 2 spatial modes\n",
    "R = 0\n",
    "my_circuit2.add((0,1), pcvl.BS(BS.r_to_theta(R)))\n",
    "my_circuit2.add((0,1), pcvl.BS(BS.r_to_theta(R)))\n",
    "my_circuit2.add((0,1), pcvl.BS(BS.r_to_theta(R)))\n",
    "\n",
    "my_circuit2.add((0,1), pcvl.BS(BS.r_to_theta(R)))\n",
    "my_circuit2.add((0,1), pcvl.BS(BS.r_to_theta(R)))\n",
    "my_circuit2.add((0,1), pcvl.BS(BS.r_to_theta(R)))\n",
    "\n",
    "my_circuit2.add((0,1), pcvl.BS(BS.r_to_theta(R)))\n",
    "my_circuit2.add((0,1), pcvl.BS(BS.r_to_theta(R)))\n",
    "my_circuit2.add((0,1), pcvl.BS(BS.r_to_theta(R)))\n",
    "\n",
    "my_circuit2.describe()\n",
    "pcvl.pdisplay(my_circuit2)\n",
    "\n",
    "p = pcvl.Processor(\"Naive\", my_circuit2)\n",
    "states = {\n",
    "    pcvl.BasicState([1, 0]): \"0\",\n",
    "    pcvl.BasicState([0, 1]): \"1\",\n",
    "}\n",
    "\n",
    "ca = pcvl.algorithm.Analyzer(p, states)\n",
    "ca.compute(expected={\"0\": \"0\", \"1\": \"1\"})\n",
    "pcvl.pdisplay(ca)"
   ]
  },
  {
   "cell_type": "code",
   "execution_count": 23,
   "id": "c948cd44-ff2b-463f-9fef-83ee7af0ab27",
   "metadata": {},
   "outputs": [
    {
     "data": {
      "text/plain": [
       "<perceval.runtime.remote_job.RemoteJob at 0x7fd6ed53b400>"
      ]
     },
     "execution_count": 23,
     "metadata": {},
     "output_type": "execute_result"
    }
   ],
   "source": [
    "input_state = pcvl.BasicState([1, 0])\n",
    "remote_qpu = pcvl.RemoteProcessor(\"qpu:ascella\", token_qcloud)\n",
    "remote_qpu.set_circuit(my_circuit2)\n",
    "remote_qpu.with_input(input_state)\n",
    "remote_qpu.min_detected_photons_filter(1)\n",
    "\n",
    "sampler_on_qpu = Sampler(remote_qpu)\n",
    "\n",
    "nsample = 1000\n",
    "remote_job = sampler_on_qpu.sample_count\n",
    "remote_job.name = \"QPU sampling\"  # You may also specify a name to individual jobs\n",
    "remote_job.execute_async(nsample)"
   ]
  },
  {
   "cell_type": "code",
   "execution_count": 24,
   "id": "978af813-db75-4787-97b1-f9efb5243bad",
   "metadata": {},
   "outputs": [
    {
     "name": "stdout",
     "output_type": "stream",
     "text": [
      "{\n",
      "  |1,0>: 76\n",
      "  |0,1>: 113719\n",
      "}\n"
     ]
    }
   ],
   "source": [
    "results = remote_job.get_results()\n",
    "print(results['results'])"
   ]
  }
 ],
 "metadata": {
  "kernelspec": {
   "display_name": "Python 3 [Default]",
   "language": "python",
   "name": "python3"
  },
  "language_info": {
   "codemirror_mode": {
    "name": "ipython",
    "version": 3
   },
   "file_extension": ".py",
   "mimetype": "text/x-python",
   "name": "python",
   "nbconvert_exporter": "python",
   "pygments_lexer": "ipython3",
   "version": "3.9.12"
  }
 },
 "nbformat": 4,
 "nbformat_minor": 5
}
