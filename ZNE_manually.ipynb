{
 "cells": [
  {
   "cell_type": "code",
   "execution_count": 1,
   "id": "3e40d39b-34dd-4ba4-a883-7fc70a809dfd",
   "metadata": {},
   "outputs": [],
   "source": [
    "import perceval as pcvl\n",
    "import sympy as sp\n",
    "import numpy as np\n",
    "from perceval.components import BS"
   ]
  },
  {
   "cell_type": "code",
   "execution_count": 2,
   "id": "2a3e4d1b-7802-40e4-812a-0548e59204bb",
   "metadata": {},
   "outputs": [
    {
     "data": {
      "text/html": [
       "<table>\n",
       "<thead>\n",
       "<tr><th style=\"text-align: right;\">  </th><th style=\"text-align: right;\">  0</th><th style=\"text-align: right;\">  1</th></tr>\n",
       "</thead>\n",
       "<tbody>\n",
       "<tr><td style=\"text-align: right;\"> 0</td><td style=\"text-align: right;\">  0</td><td style=\"text-align: right;\">  1</td></tr>\n",
       "<tr><td style=\"text-align: right;\"> 1</td><td style=\"text-align: right;\">  1</td><td style=\"text-align: right;\">  0</td></tr>\n",
       "</tbody>\n",
       "</table>"
      ],
      "text/plain": [
       "<IPython.core.display.HTML object>"
      ]
     },
     "metadata": {},
     "output_type": "display_data"
    }
   ],
   "source": [
    "source = pcvl.Source() \n",
    "QPU = pcvl.Processor(\"Naive\",2,source)\n",
    "R = 0.0\n",
    "QPU.add(0, pcvl.BS(BS.r_to_theta(R)))\n",
    "\n",
    "pcvl.pdisplay(QPU, recursive = True)\n",
    "\n",
    "states = {\n",
    "    pcvl.BasicState([1, 0]): \"0\",\n",
    "    pcvl.BasicState([0, 1]): \"1\",\n",
    "}\n",
    "\n",
    "ca = pcvl.algorithm.Analyzer(QPU, states)\n",
    "ca.compute(expected={\"0\": \"0\", \"1\": \"1\"})\n",
    "pcvl.pdisplay(ca)"
   ]
  },
  {
   "cell_type": "code",
   "execution_count": 3,
   "id": "229f1e5a-e570-4a9a-91e3-f7132e403b96",
   "metadata": {},
   "outputs": [
    {
     "data": {
      "text/html": [
       "<table>\n",
       "<thead>\n",
       "<tr><th>state  </th><th style=\"text-align: right;\">  probability</th></tr>\n",
       "</thead>\n",
       "<tbody>\n",
       "<tr><td>|1,0&gt;  </td><td style=\"text-align: right;\">            1</td></tr>\n",
       "</tbody>\n",
       "</table>"
      ],
      "text/plain": [
       "<IPython.core.display.HTML object>"
      ]
     },
     "metadata": {},
     "output_type": "display_data"
    }
   ],
   "source": [
    "# Gives the source distribution\n",
    "QPU.with_input(pcvl.BasicState([1, 0]))\n",
    "pcvl.pdisplay(QPU.source_distribution, precision=1e-4)"
   ]
  },
  {
   "cell_type": "code",
   "execution_count": 4,
   "id": "d5f1c55c-c3e6-4533-b9e2-8eafc83f9c07",
   "metadata": {},
   "outputs": [
    {
     "data": {
      "text/html": [
       "<table>\n",
       "<thead>\n",
       "<tr><th>state  </th><th style=\"text-align: right;\">  probability</th></tr>\n",
       "</thead>\n",
       "<tbody>\n",
       "<tr><td>|0,1&gt;  </td><td style=\"text-align: right;\">            1</td></tr>\n",
       "</tbody>\n",
       "</table>"
      ],
      "text/plain": [
       "<IPython.core.display.HTML object>"
      ]
     },
     "metadata": {},
     "output_type": "display_data"
    }
   ],
   "source": [
    "# Gives the output distribution\n",
    "output_distribution=QPU.probs()[\"results\"]\n",
    "pcvl.pdisplay(output_distribution, max_v=10)"
   ]
  },
  {
   "cell_type": "markdown",
   "id": "3154c469-ef0f-4480-9048-c3c9f69b91a3",
   "metadata": {},
   "source": [
    "<h3> Using R = 0.01, a reflector with 99.99% accurate reflectivity and 0.01%  </h3>"
   ]
  },
  {
   "cell_type": "code",
   "execution_count": 5,
   "id": "3c45cc22-5e2b-46ba-b4bc-f9170c9a7ec6",
   "metadata": {},
   "outputs": [
    {
     "data": {
      "text/html": [
       "<table>\n",
       "<thead>\n",
       "<tr><th style=\"text-align: right;\">  </th><th style=\"text-align: right;\">   0</th><th style=\"text-align: right;\">   1</th></tr>\n",
       "</thead>\n",
       "<tbody>\n",
       "<tr><td style=\"text-align: right;\"> 0</td><td style=\"text-align: right;\">0.01</td><td style=\"text-align: right;\">0.99</td></tr>\n",
       "<tr><td style=\"text-align: right;\"> 1</td><td style=\"text-align: right;\">0.99</td><td style=\"text-align: right;\">0.01</td></tr>\n",
       "</tbody>\n",
       "</table>"
      ],
      "text/plain": [
       "<IPython.core.display.HTML object>"
      ]
     },
     "metadata": {},
     "output_type": "display_data"
    },
    {
     "data": {
      "text/html": [
       "<table>\n",
       "<thead>\n",
       "<tr><th>state  </th><th style=\"text-align: right;\">  probability</th></tr>\n",
       "</thead>\n",
       "<tbody>\n",
       "<tr><td>|1,0&gt;  </td><td style=\"text-align: right;\">            1</td></tr>\n",
       "</tbody>\n",
       "</table>"
      ],
      "text/plain": [
       "<IPython.core.display.HTML object>"
      ]
     },
     "metadata": {},
     "output_type": "display_data"
    },
    {
     "data": {
      "text/html": [
       "<table>\n",
       "<thead>\n",
       "<tr><th>state  </th><th style=\"text-align: right;\">  probability</th></tr>\n",
       "</thead>\n",
       "<tbody>\n",
       "<tr><td>|0,1&gt;  </td><td style=\"text-align: right;\">         0.99</td></tr>\n",
       "<tr><td>|1,0&gt;  </td><td style=\"text-align: right;\">         0.01</td></tr>\n",
       "</tbody>\n",
       "</table>"
      ],
      "text/plain": [
       "<IPython.core.display.HTML object>"
      ]
     },
     "metadata": {},
     "output_type": "display_data"
    }
   ],
   "source": [
    "source = pcvl.Source() \n",
    "QPU = pcvl.Processor(\"Naive\",2,source)\n",
    "R = 0.01\n",
    "QPU.add(0, pcvl.BS(BS.r_to_theta(R)))\n",
    "\n",
    "pcvl.pdisplay(QPU, recursive = True)\n",
    "\n",
    "states = {\n",
    "    pcvl.BasicState([1, 0]): \"0\",\n",
    "    pcvl.BasicState([0, 1]): \"1\",\n",
    "}\n",
    "\n",
    "ca = pcvl.algorithm.Analyzer(QPU, states)\n",
    "ca.compute(expected={\"0\": \"0\", \"1\": \"1\"})\n",
    "pcvl.pdisplay(ca)\n",
    "\n",
    "# Gives the source distribution\n",
    "QPU.with_input(pcvl.BasicState([1, 0]))\n",
    "pcvl.pdisplay(QPU.source_distribution, precision=1e-4)\n",
    "\n",
    "# Gives the output distribution\n",
    "output_distribution=QPU.probs()[\"results\"]\n",
    "pcvl.pdisplay(output_distribution, max_v=10)"
   ]
  },
  {
   "cell_type": "code",
   "execution_count": 49,
   "id": "61e82537-3895-42fd-ae16-ad63c8426047",
   "metadata": {},
   "outputs": [
    {
     "name": "stdout",
     "output_type": "stream",
     "text": [
      "1\n",
      "0.99\n",
      "3\n",
      "0.912384\n",
      "5\n",
      "0.7694463744\n",
      "7\n",
      "0.58382844309504\n",
      "9\n",
      "0.38493208640382576\n",
      "11\n",
      "0.20426248722624535\n",
      "13\n",
      "0.07043771007202772\n",
      "15\n",
      "0.004655599642400969\n",
      "[0.99, 0.912384, 0.7694463744, 0.58382844309504, 0.38493208640382576, 0.20426248722624535, 0.07043771007202772, 0.004655599642400969]\n"
     ]
    }
   ],
   "source": [
    "arr = []\n",
    "qubits = []\n",
    "for x in range(1,16,2):\n",
    "    print(x)\n",
    "    qubits.append(x)\n",
    "    source = pcvl.Source() \n",
    "    QPU = pcvl.Processor(\"Naive\",2,source)\n",
    "    R = 0.01\n",
    "    for i in range(x):\n",
    "        QPU.add(0, pcvl.BS(BS.r_to_theta(R)))\n",
    "\n",
    "    # pcvl.pdisplay(QPU, recursive = True)\n",
    "\n",
    "    states = {\n",
    "        pcvl.BasicState([1, 0]): \"0\",\n",
    "        pcvl.BasicState([0, 1]): \"1\",\n",
    "    }\n",
    "\n",
    "    ca = pcvl.algorithm.Analyzer(QPU, states)\n",
    "    ca.compute(expected={\"0\": \"0\", \"1\": \"1\"})\n",
    "    # pcvl.pdisplay(ca)\n",
    "\n",
    "    # Gives the source distribution\n",
    "    QPU.with_input(pcvl.BasicState([1, 0]))\n",
    "    # pcvl.pdisplay(QPU.source_distribution, precision=1e-4)\n",
    "\n",
    "    # Gives the output distribution\n",
    "    output_distribution=QPU.probs()[\"results\"]\n",
    "    # pcvl.pdisplay(output_distribution, max_v=10)\n",
    "    arr.append(list(output_distribution.values())[1])\n",
    "    print(list(output_distribution.values())[1])\n",
    "    \n",
    "print(arr)"
   ]
  },
  {
   "cell_type": "code",
   "execution_count": 51,
   "id": "1e9e9eca-a2b6-48df-b4da-cd673cba01f8",
   "metadata": {},
   "outputs": [
    {
     "data": {
      "image/png": "[encoded data removed]",
      "text/plain": [
       "<Figure size 432x288 with 1 Axes>"
      ]
     },
     "metadata": {
      "needs_background": "light"
     },
     "output_type": "display_data"
    }
   ],
   "source": [
    "import matplotlib.pyplot as plt\n",
    "plt.xticks(range(min(qubits), max(qubits)+1))\n",
    "plt.plot(qubits,arr,'x')\n",
    "plt.show()"
   ]
  },
  {
   "cell_type": "code",
   "execution_count": 53,
   "id": "2616e9df-e8ae-4362-ae5f-7e37996a238b",
   "metadata": {},
   "outputs": [
    {
     "name": "stdout",
     "output_type": "stream",
     "text": [
      "[[1, 0.99], [3, 0.912384], [5, 0.7694463744], [7, 0.58382844309504], [9, 0.38493208640382576], [11, 0.20426248722624535], [13, 0.07043771007202772], [15, 0.004655599642400969]]\n"
     ]
    }
   ],
   "source": [
    "out = []\n",
    "for i in range(len(qubits)):\n",
    "    u = [qubits[i],arr[i]]\n",
    "    out.append(u)\n",
    "print(out)"
   ]
  },
  {
   "cell_type": "code",
   "execution_count": 55,
   "id": "08f2a737-a345-438a-a2e9-d1aa0518adb7",
   "metadata": {},
   "outputs": [],
   "source": [
    "def Linear_extrapolation_(q, r):\n",
    "    result = (q[0][1] + (r - q[0][0]) /\n",
    "        (q[1][0] - q[0][0]) *\n",
    "        (q[1][1] - q[0][1]));\n",
    " \n",
    "    return result"
   ]
  },
  {
   "cell_type": "code",
   "execution_count": 56,
   "id": "000985d5-22a5-412c-bafe-e49410777e87",
   "metadata": {},
   "outputs": [
    {
     "data": {
      "text/plain": [
       "1.028808"
      ]
     },
     "execution_count": 56,
     "metadata": {},
     "output_type": "execute_result"
    }
   ],
   "source": [
    "Linear_extrapolation_(out,0)"
   ]
  },
  {
   "cell_type": "code",
   "execution_count": 63,
   "id": "23170d3c-1021-4c41-a4f3-4503081668d0",
   "metadata": {},
   "outputs": [
    {
     "data": {
      "text/plain": [
       "array([1.12066536])"
      ]
     },
     "execution_count": 63,
     "metadata": {},
     "output_type": "execute_result"
    }
   ],
   "source": [
    "import numpy as np\n",
    "p = np.polyfit(qubits,arr,deg=2)\n",
    "x_new = np.array([0])\n",
    "y_new = np.polyval(p,x_new)\n",
    "y_new"
   ]
  },
  {
   "cell_type": "code",
   "execution_count": 64,
   "id": "a497bbac-121a-49ec-967d-781d57f417b3",
   "metadata": {},
   "outputs": [
    {
     "data": {
      "text/plain": [
       "array([0.99348603])"
      ]
     },
     "execution_count": 64,
     "metadata": {},
     "output_type": "execute_result"
    }
   ],
   "source": [
    "import numpy as np\n",
    "p = np.polyfit(qubits,arr,deg=3)\n",
    "x_new = np.array([0])\n",
    "y_new = np.polyval(p,x_new)\n",
    "y_new"
   ]
  },
  {
   "cell_type": "code",
   "execution_count": 65,
   "id": "e8b1e4c2-7a9c-4a4d-91fd-c62cfaab6651",
   "metadata": {},
   "outputs": [
    {
     "data": {
      "text/plain": [
       "array([0.99240071])"
      ]
     },
     "execution_count": 65,
     "metadata": {},
     "output_type": "execute_result"
    }
   ],
   "source": [
    "import numpy as np\n",
    "p = np.polyfit(qubits,arr,deg=4)\n",
    "x_new = np.array([0])\n",
    "y_new = np.polyval(p,x_new)\n",
    "y_new"
   ]
  },
  {
   "cell_type": "code",
   "execution_count": 66,
   "id": "5686ea52-3b21-45f1-bdf1-6a17f184a484",
   "metadata": {},
   "outputs": [
    {
     "data": {
      "text/plain": [
       "array([1.00027095])"
      ]
     },
     "execution_count": 66,
     "metadata": {},
     "output_type": "execute_result"
    }
   ],
   "source": [
    "import numpy as np\n",
    "p = np.polyfit(qubits,arr,deg=5)\n",
    "x_new = np.array([0])\n",
    "y_new = np.polyval(p,x_new)\n",
    "y_new"
   ]
  },
  {
   "cell_type": "code",
   "execution_count": 67,
   "id": "29800c43-4599-43ab-b06d-904c1374c216",
   "metadata": {},
   "outputs": [
    {
     "data": {
      "text/plain": [
       "array([1.00032427])"
      ]
     },
     "execution_count": 67,
     "metadata": {},
     "output_type": "execute_result"
    }
   ],
   "source": [
    "import numpy as np\n",
    "p = np.polyfit(qubits,arr,deg=6)\n",
    "x_new = np.array([0])\n",
    "y_new = np.polyval(p,x_new)\n",
    "y_new"
   ]
  },
  {
   "cell_type": "markdown",
   "id": "83879982-0681-455d-a416-4497404a98cc",
   "metadata": {},
   "source": [
    "<h3> Using R = 0.1, having a reflector with 99% accurate reflectivity and 0.1% error"
   ]
  },
  {
   "cell_type": "code",
   "execution_count": 68,
   "id": "911e4d8d-15ef-4c42-abf1-abd77bffd68f",
   "metadata": {},
   "outputs": [
    {
     "data": {
      "text/html": [
       "<table>\n",
       "<thead>\n",
       "<tr><th style=\"text-align: right;\">  </th><th>0   </th><th>1   </th></tr>\n",
       "</thead>\n",
       "<tbody>\n",
       "<tr><td style=\"text-align: right;\"> 0</td><td>1/10</td><td>9/10</td></tr>\n",
       "<tr><td style=\"text-align: right;\"> 1</td><td>9/10</td><td>1/10</td></tr>\n",
       "</tbody>\n",
       "</table>"
      ],
      "text/plain": [
       "<IPython.core.display.HTML object>"
      ]
     },
     "metadata": {},
     "output_type": "display_data"
    },
    {
     "data": {
      "text/html": [
       "<table>\n",
       "<thead>\n",
       "<tr><th>state  </th><th style=\"text-align: right;\">  probability</th></tr>\n",
       "</thead>\n",
       "<tbody>\n",
       "<tr><td>|1,0&gt;  </td><td style=\"text-align: right;\">            1</td></tr>\n",
       "</tbody>\n",
       "</table>"
      ],
      "text/plain": [
       "<IPython.core.display.HTML object>"
      ]
     },
     "metadata": {},
     "output_type": "display_data"
    },
    {
     "data": {
      "text/html": [
       "<table>\n",
       "<thead>\n",
       "<tr><th>state  </th><th>probability  </th></tr>\n",
       "</thead>\n",
       "<tbody>\n",
       "<tr><td>|0,1&gt;  </td><td>9/10         </td></tr>\n",
       "<tr><td>|1,0&gt;  </td><td>1/10         </td></tr>\n",
       "</tbody>\n",
       "</table>"
      ],
      "text/plain": [
       "<IPython.core.display.HTML object>"
      ]
     },
     "metadata": {},
     "output_type": "display_data"
    }
   ],
   "source": [
    "source = pcvl.Source() \n",
    "QPU = pcvl.Processor(\"Naive\",2,source)\n",
    "R = 0.1\n",
    "QPU.add(0, pcvl.BS(BS.r_to_theta(R)))\n",
    "\n",
    "pcvl.pdisplay(QPU, recursive = True)\n",
    "\n",
    "states = {\n",
    "    pcvl.BasicState([1, 0]): \"0\",\n",
    "    pcvl.BasicState([0, 1]): \"1\",\n",
    "}\n",
    "\n",
    "ca = pcvl.algorithm.Analyzer(QPU, states)\n",
    "ca.compute(expected={\"0\": \"0\", \"1\": \"1\"})\n",
    "pcvl.pdisplay(ca)\n",
    "\n",
    "# Gives the source distribution\n",
    "QPU.with_input(pcvl.BasicState([1, 0]))\n",
    "pcvl.pdisplay(QPU.source_distribution, precision=1e-4)\n",
    "\n",
    "# Gives the output distribution\n",
    "output_distribution=QPU.probs()[\"results\"]\n",
    "pcvl.pdisplay(output_distribution, max_v=10)"
   ]
  },
  {
   "cell_type": "code",
   "execution_count": 69,
   "id": "d66a5e14-68c9-4627-b3a6-5fda806c3afa",
   "metadata": {},
   "outputs": [
    {
     "name": "stdout",
     "output_type": "stream",
     "text": [
      "1\n",
      "0.8999999999999999\n",
      "3\n",
      "0.32399999999999984\n",
      "5\n",
      "0.0014400000000000174\n",
      "7\n",
      "0.39680640000000034\n",
      "9\n",
      "0.9407715840000002\n",
      "11\n",
      "0.8500256870399997\n",
      "13\n",
      "0.2552428007423995\n",
      "15\n",
      "0.012910281375744138\n",
      "[0.8999999999999999, 0.32399999999999984, 0.0014400000000000174, 0.39680640000000034, 0.9407715840000002, 0.8500256870399997, 0.2552428007423995, 0.012910281375744138]\n"
     ]
    }
   ],
   "source": [
    "arr = []\n",
    "qubits = []\n",
    "for x in range(1,16,2):\n",
    "    print(x)\n",
    "    qubits.append(x)\n",
    "    source = pcvl.Source() \n",
    "    QPU = pcvl.Processor(\"Naive\",2,source)\n",
    "    R = 0.1\n",
    "    for i in range(x):\n",
    "        QPU.add(0, pcvl.BS(BS.r_to_theta(R)))\n",
    "\n",
    "    # pcvl.pdisplay(QPU, recursive = True)\n",
    "\n",
    "    states = {\n",
    "        pcvl.BasicState([1, 0]): \"0\",\n",
    "        pcvl.BasicState([0, 1]): \"1\",\n",
    "    }\n",
    "\n",
    "    ca = pcvl.algorithm.Analyzer(QPU, states)\n",
    "    ca.compute(expected={\"0\": \"0\", \"1\": \"1\"})\n",
    "    # pcvl.pdisplay(ca)\n",
    "\n",
    "    # Gives the source distribution\n",
    "    QPU.with_input(pcvl.BasicState([1, 0]))\n",
    "    # pcvl.pdisplay(QPU.source_distribution, precision=1e-4)\n",
    "\n",
    "    # Gives the output distribution\n",
    "    output_distribution=QPU.probs()[\"results\"]\n",
    "    # pcvl.pdisplay(output_distribution, max_v=10)\n",
    "    arr.append(list(output_distribution.values())[1])\n",
    "    print(list(output_distribution.values())[1])\n",
    "    \n",
    "print(arr)"
   ]
  },
  {
   "cell_type": "code",
   "execution_count": 70,
   "id": "b4633e9f-1f04-49e7-991b-3e088c035970",
   "metadata": {},
   "outputs": [
    {
     "data": {
      "image/png": "[encoded data removed]",
      "text/plain": [
       "<Figure size 432x288 with 1 Axes>"
      ]
     },
     "metadata": {
      "needs_background": "light"
     },
     "output_type": "display_data"
    }
   ],
   "source": [
    "import matplotlib.pyplot as plt\n",
    "plt.xticks(range(min(qubits), max(qubits)+1))\n",
    "plt.plot(qubits,arr,'x')\n",
    "plt.show()"
   ]
  },
  {
   "cell_type": "code",
   "execution_count": 71,
   "id": "ee1e9be4-70bb-4023-a3cb-7eb66fe795ba",
   "metadata": {},
   "outputs": [
    {
     "name": "stdout",
     "output_type": "stream",
     "text": [
      "[[1, 0.8999999999999999], [3, 0.32399999999999984], [5, 0.0014400000000000174], [7, 0.39680640000000034], [9, 0.9407715840000002], [11, 0.8500256870399997], [13, 0.2552428007423995], [15, 0.012910281375744138]]\n"
     ]
    }
   ],
   "source": [
    "out = []\n",
    "for i in range(len(qubits)):\n",
    "    u = [qubits[i],arr[i]]\n",
    "    out.append(u)\n",
    "print(out)"
   ]
  },
  {
   "cell_type": "code",
   "execution_count": 72,
   "id": "13074caf-88d8-4182-82ce-e14af261f82f",
   "metadata": {},
   "outputs": [
    {
     "data": {
      "text/plain": [
       "1.188"
      ]
     },
     "execution_count": 72,
     "metadata": {},
     "output_type": "execute_result"
    }
   ],
   "source": [
    "Linear_extrapolation_(out,0)"
   ]
  },
  {
   "cell_type": "code",
   "execution_count": 73,
   "id": "8926293e-e0fc-489e-9c84-fd3ed9c86d1e",
   "metadata": {},
   "outputs": [
    {
     "data": {
      "text/plain": [
       "array([0.47966333])"
      ]
     },
     "execution_count": 73,
     "metadata": {},
     "output_type": "execute_result"
    }
   ],
   "source": [
    "import numpy as np\n",
    "p = np.polyfit(qubits,arr,deg=2)\n",
    "x_new = np.array([0])\n",
    "y_new = np.polyval(p,x_new)\n",
    "y_new"
   ]
  },
  {
   "cell_type": "code",
   "execution_count": 74,
   "id": "9e2ceca1-78bf-4789-a9fb-d99b3f8c16e1",
   "metadata": {},
   "outputs": [
    {
     "data": {
      "text/plain": [
       "array([1.39587952])"
      ]
     },
     "execution_count": 74,
     "metadata": {},
     "output_type": "execute_result"
    }
   ],
   "source": [
    "import numpy as np\n",
    "p = np.polyfit(qubits,arr,deg=3)\n",
    "x_new = np.array([0])\n",
    "y_new = np.polyval(p,x_new)\n",
    "y_new"
   ]
  },
  {
   "cell_type": "code",
   "execution_count": 75,
   "id": "9fa5221f-d971-4284-bbc5-7d2242e9fe53",
   "metadata": {},
   "outputs": [
    {
     "data": {
      "text/plain": [
       "array([1.94891638])"
      ]
     },
     "execution_count": 75,
     "metadata": {},
     "output_type": "execute_result"
    }
   ],
   "source": [
    "import numpy as np\n",
    "p = np.polyfit(qubits,arr,deg=4)\n",
    "x_new = np.array([0])\n",
    "y_new = np.polyval(p,x_new)\n",
    "y_new"
   ]
  },
  {
   "cell_type": "code",
   "execution_count": 76,
   "id": "3b53fe02-552c-4a1f-ad5e-7265664d892a",
   "metadata": {},
   "outputs": [
    {
     "data": {
      "text/plain": [
       "array([0.81117343])"
      ]
     },
     "execution_count": 76,
     "metadata": {},
     "output_type": "execute_result"
    }
   ],
   "source": [
    "import numpy as np\n",
    "p = np.polyfit(qubits,arr,deg=5)\n",
    "x_new = np.array([0])\n",
    "y_new = np.polyval(p,x_new)\n",
    "y_new"
   ]
  },
  {
   "cell_type": "code",
   "execution_count": 79,
   "id": "d2602c28-41b9-4d91-a4b6-c13e9f025252",
   "metadata": {},
   "outputs": [
    {
     "data": {
      "image/png": "[encoded data removed]",
      "text/plain": [
       "<Figure size 432x288 with 1 Axes>"
      ]
     },
     "metadata": {
      "needs_background": "light"
     },
     "output_type": "display_data"
    }
   ],
   "source": [
    "plt.plot(qubits,arr, 'o', label='data')\n",
    "plt.plot(x_new, y_new, 'x', label='linear extrapolation')\n",
    "plt.legend()\n",
    "plt.show()"
   ]
  },
  {
   "cell_type": "code",
   "execution_count": null,
   "id": "1220d468-1336-4ee8-8ddc-d879763869ed",
   "metadata": {},
   "outputs": [],
   "source": []
  }
 ],
 "metadata": {
  "kernelspec": {
   "display_name": "Python 3 [Default]",
   "language": "python",
   "name": "python3"
  },
  "language_info": {
   "codemirror_mode": {
    "name": "ipython",
    "version": 3
   },
   "file_extension": ".py",
   "mimetype": "text/x-python",
   "name": "python",
   "nbconvert_exporter": "python",
   "pygments_lexer": "ipython3",
   "version": "3.9.12"
  }
 },
 "nbformat": 4,
 "nbformat_minor": 5
}
